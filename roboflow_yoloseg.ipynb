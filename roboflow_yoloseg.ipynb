{
 "cells": [
  {
   "cell_type": "code",
   "execution_count": 1,
   "metadata": {},
   "outputs": [],
   "source": [
    "from os import mkdir\n",
    "from os.path import exists, join\n",
    "from shutil import rmtree, copytree\n",
    "from yaml import dump"
   ]
  },
  {
   "cell_type": "code",
   "execution_count": 2,
   "metadata": {},
   "outputs": [],
   "source": [
    "DATASET = \"dataset\"\n",
    "YAML = \"data.yaml\"\n",
    "ORIGEM = join(\"Boundingbox\", \"test\")\n",
    "DESTINO = DATASET"
   ]
  },
  {
   "cell_type": "code",
   "execution_count": 3,
   "metadata": {},
   "outputs": [],
   "source": [
    "if not exists(DATASET):\n",
    "    mkdir(DATASET)\n",
    "else:\n",
    "    rmtree(DATASET)\n",
    "    mkdir(DATASET)"
   ]
  },
  {
   "cell_type": "code",
   "execution_count": 4,
   "metadata": {},
   "outputs": [],
   "source": [
    "def creat_yaml(names: dict = {\"0\": \"FAMACHA\"}):\n",
    "    yaml_configs = {\n",
    "        \"train\": \"train/\",\n",
    "        \"val\": \"valid/\",\n",
    "        \"test\": \"test/\",\n",
    "        \"names\": names\n",
    "    }\n",
    "    return yaml_configs\n",
    "\n",
    "yaml_configs = creat_yaml()\n"
   ]
  },
  {
   "cell_type": "code",
   "execution_count": 5,
   "metadata": {},
   "outputs": [],
   "source": [
    "with open(join(DATASET, YAML), \"w\") as file:\n",
    "    dump(yaml_configs, file)"
   ]
  },
  {
   "cell_type": "code",
   "execution_count": 6,
   "metadata": {},
   "outputs": [],
   "source": [
    "def data(roboflow_dataset, output_dataset):\n",
    "    if exists(roboflow_dataset):\n",
    "        for folder in [\"test\", \"train\", \"valid\"]:\n",
    "            item = join(roboflow_dataset, folder)\n",
    "            if exists(item):\n",
    "                copytree(item, join(output_dataset,folder))\n",
    "\n",
    "data(\"Boundingbox\", DATASET)"
   ]
  },
  {
   "cell_type": "code",
   "execution_count": 7,
   "metadata": {},
   "outputs": [],
   "source": [
    "#remove(DATASET)\n",
    "#removedirs(DATASET)\n",
    "#rmdir(DATASET)\n"
   ]
  }
 ],
 "metadata": {
  "kernelspec": {
   "display_name": ".venv",
   "language": "python",
   "name": "python3"
  },
  "language_info": {
   "codemirror_mode": {
    "name": "ipython",
    "version": 3
   },
   "file_extension": ".py",
   "mimetype": "text/x-python",
   "name": "python",
   "nbconvert_exporter": "python",
   "pygments_lexer": "ipython3",
   "version": "3.9.13"
  }
 },
 "nbformat": 4,
 "nbformat_minor": 2
}
