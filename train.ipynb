{
 "cells": [
  {
   "cell_type": "code",
   "execution_count": 1,
   "metadata": {},
   "outputs": [],
   "source": [
    "from ultralytics import YOLO\n",
    "from os.path import join"
   ]
  },
  {
   "cell_type": "code",
   "execution_count": 2,
   "metadata": {},
   "outputs": [],
   "source": [
    "model = YOLO('yolov8n-seg.yaml')  # build a new model from YAML"
   ]
  },
  {
   "cell_type": "code",
   "execution_count": 3,
   "metadata": {},
   "outputs": [],
   "source": [
    "import os\n",
    "import yaml\n",
    "\n",
    "# Define o caminho para o arquivo settings.yaml\n",
    "settings_yaml_path = r'C:\\Users\\PC\\AppData\\Roaming\\Ultralytics\\settings.yaml'\n",
    "\n",
    "# Carrega o arquivo settings.yaml\n",
    "with open(settings_yaml_path, 'r') as file:\n",
    "    settings = yaml.safe_load(file)\n",
    "\n",
    "# Substitui os valores dos diretórios pelos caminhos atuais do diretório\n",
    "current_directory = os.getcwd()\n",
    "settings['datasets_dir'] = current_directory\n",
    "settings['weights_dir'] = os.path.join(current_directory, 'weights')\n",
    "settings['runs_dir'] = os.path.join(current_directory, 'runs')\n",
    "\n",
    "# Salva as alterações de volta no arquivo settings.yaml\n",
    "with open(settings_yaml_path, 'w') as file:\n",
    "    yaml.safe_dump(settings, file)\n",
    "\n",
    "# Agora você pode usar as configurações atualizadas\n"
   ]
  },
  {
   "cell_type": "code",
   "execution_count": 4,
   "metadata": {},
   "outputs": [
    {
     "name": "stdout",
     "output_type": "stream",
     "text": [
      "New https://pypi.org/project/ultralytics/8.2.5 available  Update with 'pip install -U ultralytics'\n",
      "Ultralytics YOLOv8.2.2  Python-3.9.13 torch-2.2.2+cu118 CUDA:0 (NVIDIA GeForce GTX 1660 SUPER, 6144MiB)\n",
      "\u001b[34m\u001b[1mengine\\trainer: \u001b[0mtask=segment, mode=train, model=yolov8n-seg.yaml, data=dataset-YOLO\\data.yaml, epochs=100, time=None, patience=100, batch=16, imgsz=640, save=True, save_period=-1, cache=False, device=0, workers=8, project=None, name=train11, exist_ok=False, pretrained=True, optimizer=auto, verbose=True, seed=0, deterministic=True, single_cls=False, rect=False, cos_lr=False, close_mosaic=10, resume=False, amp=True, fraction=1.0, profile=False, freeze=None, multi_scale=False, overlap_mask=True, mask_ratio=4, dropout=0.0, val=True, split=val, save_json=False, save_hybrid=False, conf=None, iou=0.7, max_det=300, half=False, dnn=False, plots=True, source=None, vid_stride=1, stream_buffer=False, visualize=False, augment=False, agnostic_nms=False, classes=None, retina_masks=False, embed=None, show=False, save_frames=False, save_txt=False, save_conf=False, save_crop=False, show_labels=True, show_conf=True, show_boxes=True, line_width=None, format=torchscript, keras=False, optimize=False, int8=False, dynamic=False, simplify=False, opset=None, workspace=4, nms=False, lr0=0.01, lrf=0.01, momentum=0.937, weight_decay=0.0005, warmup_epochs=3.0, warmup_momentum=0.8, warmup_bias_lr=0.1, box=7.5, cls=0.5, dfl=1.5, pose=12.0, kobj=1.0, label_smoothing=0.0, nbs=64, hsv_h=0.015, hsv_s=0.7, hsv_v=0.4, degrees=0.0, translate=0.1, scale=0.5, shear=0.0, perspective=0.0, flipud=0.0, fliplr=0.5, bgr=0.0, mosaic=1.0, mixup=0.0, copy_paste=0.0, auto_augment=randaugment, erasing=0.4, crop_fraction=1.0, cfg=None, tracker=botsort.yaml, save_dir=c:\\Users\\PC\\Documents\\YOLO\\runs\\segment\\train11\n",
      "Overriding model.yaml nc=80 with nc=1\n",
      "\n",
      "                   from  n    params  module                                       arguments                     \n",
      "  0                  -1  1       464  ultralytics.nn.modules.conv.Conv             [3, 16, 3, 2]                 \n",
      "  1                  -1  1      4672  ultralytics.nn.modules.conv.Conv             [16, 32, 3, 2]                \n",
      "  2                  -1  1      7360  ultralytics.nn.modules.block.C2f             [32, 32, 1, True]             \n",
      "  3                  -1  1     18560  ultralytics.nn.modules.conv.Conv             [32, 64, 3, 2]                \n",
      "  4                  -1  2     49664  ultralytics.nn.modules.block.C2f             [64, 64, 2, True]             \n",
      "  5                  -1  1     73984  ultralytics.nn.modules.conv.Conv             [64, 128, 3, 2]               \n",
      "  6                  -1  2    197632  ultralytics.nn.modules.block.C2f             [128, 128, 2, True]           \n",
      "  7                  -1  1    295424  ultralytics.nn.modules.conv.Conv             [128, 256, 3, 2]              \n",
      "  8                  -1  1    460288  ultralytics.nn.modules.block.C2f             [256, 256, 1, True]           \n",
      "  9                  -1  1    164608  ultralytics.nn.modules.block.SPPF            [256, 256, 5]                 \n",
      " 10                  -1  1         0  torch.nn.modules.upsampling.Upsample         [None, 2, 'nearest']          \n",
      " 11             [-1, 6]  1         0  ultralytics.nn.modules.conv.Concat           [1]                           \n",
      " 12                  -1  1    148224  ultralytics.nn.modules.block.C2f             [384, 128, 1]                 \n",
      " 13                  -1  1         0  torch.nn.modules.upsampling.Upsample         [None, 2, 'nearest']          \n",
      " 14             [-1, 4]  1         0  ultralytics.nn.modules.conv.Concat           [1]                           \n",
      " 15                  -1  1     37248  ultralytics.nn.modules.block.C2f             [192, 64, 1]                  \n",
      " 16                  -1  1     36992  ultralytics.nn.modules.conv.Conv             [64, 64, 3, 2]                \n",
      " 17            [-1, 12]  1         0  ultralytics.nn.modules.conv.Concat           [1]                           \n",
      " 18                  -1  1    123648  ultralytics.nn.modules.block.C2f             [192, 128, 1]                 \n",
      " 19                  -1  1    147712  ultralytics.nn.modules.conv.Conv             [128, 128, 3, 2]              \n",
      " 20             [-1, 9]  1         0  ultralytics.nn.modules.conv.Concat           [1]                           \n",
      " 21                  -1  1    493056  ultralytics.nn.modules.block.C2f             [384, 256, 1]                 \n",
      " 22        [15, 18, 21]  1   1004275  ultralytics.nn.modules.head.Segment          [1, 32, 64, [64, 128, 256]]   \n",
      "YOLOv8n-seg summary: 261 layers, 3263811 parameters, 3263795 gradients, 12.1 GFLOPs\n",
      "\n",
      "Freezing layer 'model.22.dfl.conv.weight'\n",
      "\u001b[34m\u001b[1mAMP: \u001b[0mrunning Automatic Mixed Precision (AMP) checks with YOLOv8n...\n",
      "\u001b[34m\u001b[1mAMP: \u001b[0mchecks passed \n"
     ]
    },
    {
     "name": "stderr",
     "output_type": "stream",
     "text": [
      "\u001b[34m\u001b[1mtrain: \u001b[0mScanning C:\\Users\\PC\\Documents\\YOLO\\dataset-YOLO\\train\\labels.cache... 768 images, 0 backgrounds, 0 corrupt: 100%|██████████| 768/768 [00:00<?, ?it/s]\n",
      "\u001b[34m\u001b[1mval: \u001b[0mScanning C:\\Users\\PC\\Documents\\YOLO\\dataset-YOLO\\valid\\labels.cache... 73 images, 0 backgrounds, 0 corrupt: 100%|██████████| 73/73 [00:00<?, ?it/s]\n"
     ]
    },
    {
     "name": "stdout",
     "output_type": "stream",
     "text": [
      "Plotting labels to c:\\Users\\PC\\Documents\\YOLO\\runs\\segment\\train11\\labels.jpg... \n",
      "\u001b[34m\u001b[1moptimizer:\u001b[0m 'optimizer=auto' found, ignoring 'lr0=0.01' and 'momentum=0.937' and determining best 'optimizer', 'lr0' and 'momentum' automatically... \n",
      "\u001b[34m\u001b[1moptimizer:\u001b[0m AdamW(lr=0.002, momentum=0.9) with parameter groups 66 weight(decay=0.0), 77 weight(decay=0.0005), 76 bias(decay=0.0)\n",
      "Image sizes 640 train, 640 val\n",
      "Using 8 dataloader workers\n",
      "Logging results to \u001b[1mc:\\Users\\PC\\Documents\\YOLO\\runs\\segment\\train11\u001b[0m\n",
      "Starting training for 100 epochs...\n",
      "\n",
      "      Epoch    GPU_mem   box_loss   seg_loss   cls_loss   dfl_loss  Instances       Size\n"
     ]
    },
    {
     "name": "stderr",
     "output_type": "stream",
     "text": [
      "      1/100       2.8G      3.061      6.093       3.29      4.145         46        640: 100%|██████████| 48/48 [00:46<00:00,  1.03it/s]\n",
      "                 Class     Images  Instances      Box(P          R      mAP50  mAP50-95)     Mask(P          R      mAP50  mAP50-95): 100%|██████████| 3/3 [00:02<00:00,  1.39it/s]"
     ]
    },
    {
     "name": "stdout",
     "output_type": "stream",
     "text": [
      "                   all         73         74    0.00328      0.851     0.0306    0.00795    0.00193        0.5     0.0132    0.00371\n"
     ]
    },
    {
     "name": "stderr",
     "output_type": "stream",
     "text": [
      "\n"
     ]
    },
    {
     "name": "stdout",
     "output_type": "stream",
     "text": [
      "\n",
      "      Epoch    GPU_mem   box_loss   seg_loss   cls_loss   dfl_loss  Instances       Size\n"
     ]
    },
    {
     "name": "stderr",
     "output_type": "stream",
     "text": [
      "      2/100       2.7G      2.862      3.114      3.018      3.719         44        640: 100%|██████████| 48/48 [00:45<00:00,  1.06it/s]\n",
      "                 Class     Images  Instances      Box(P          R      mAP50  mAP50-95)     Mask(P          R      mAP50  mAP50-95): 100%|██████████| 3/3 [00:01<00:00,  1.54it/s]"
     ]
    },
    {
     "name": "stdout",
     "output_type": "stream",
     "text": [
      "                   all         73         74     0.0412      0.703     0.0796     0.0155     0.0583      0.635      0.159     0.0356\n"
     ]
    },
    {
     "name": "stderr",
     "output_type": "stream",
     "text": [
      "\n"
     ]
    },
    {
     "name": "stdout",
     "output_type": "stream",
     "text": [
      "\n",
      "      Epoch    GPU_mem   box_loss   seg_loss   cls_loss   dfl_loss  Instances       Size\n"
     ]
    },
    {
     "name": "stderr",
     "output_type": "stream",
     "text": [
      "      3/100      2.68G      2.595      2.563      2.803      3.294         40        640: 100%|██████████| 48/48 [00:45<00:00,  1.06it/s]\n",
      "                 Class     Images  Instances      Box(P          R      mAP50  mAP50-95)     Mask(P          R      mAP50  mAP50-95): 100%|██████████| 3/3 [00:01<00:00,  1.65it/s]"
     ]
    },
    {
     "name": "stdout",
     "output_type": "stream",
     "text": [
      "                   all         73         74      0.048     0.0811     0.0438     0.0134          0          0          0          0\n"
     ]
    },
    {
     "name": "stderr",
     "output_type": "stream",
     "text": [
      "\n"
     ]
    },
    {
     "name": "stdout",
     "output_type": "stream",
     "text": [
      "\n",
      "      Epoch    GPU_mem   box_loss   seg_loss   cls_loss   dfl_loss  Instances       Size\n"
     ]
    },
    {
     "name": "stderr",
     "output_type": "stream",
     "text": [
      "      4/100      2.67G      2.263      2.454      2.587      2.952         42        640: 100%|██████████| 48/48 [00:45<00:00,  1.06it/s]\n",
      "                 Class     Images  Instances      Box(P          R      mAP50  mAP50-95)     Mask(P          R      mAP50  mAP50-95): 100%|██████████| 3/3 [00:01<00:00,  1.55it/s]"
     ]
    },
    {
     "name": "stdout",
     "output_type": "stream",
     "text": [
      "                   all         73         74      0.102       0.39     0.0706     0.0288      0.128      0.486      0.104     0.0379\n"
     ]
    },
    {
     "name": "stderr",
     "output_type": "stream",
     "text": [
      "\n"
     ]
    },
    {
     "name": "stdout",
     "output_type": "stream",
     "text": [
      "\n",
      "      Epoch    GPU_mem   box_loss   seg_loss   cls_loss   dfl_loss  Instances       Size\n"
     ]
    },
    {
     "name": "stderr",
     "output_type": "stream",
     "text": [
      "      5/100      2.67G      2.026      2.351      2.285      2.681         48        640: 100%|██████████| 48/48 [00:45<00:00,  1.06it/s]\n",
      "                 Class     Images  Instances      Box(P          R      mAP50  mAP50-95)     Mask(P          R      mAP50  mAP50-95): 100%|██████████| 3/3 [00:01<00:00,  1.63it/s]"
     ]
    },
    {
     "name": "stdout",
     "output_type": "stream",
     "text": [
      "                   all         73         74      0.531      0.595      0.445      0.177      0.485      0.548      0.406      0.145\n"
     ]
    },
    {
     "name": "stderr",
     "output_type": "stream",
     "text": [
      "\n"
     ]
    },
    {
     "name": "stdout",
     "output_type": "stream",
     "text": [
      "\n",
      "      Epoch    GPU_mem   box_loss   seg_loss   cls_loss   dfl_loss  Instances       Size\n"
     ]
    },
    {
     "name": "stderr",
     "output_type": "stream",
     "text": [
      "      6/100      2.69G      1.796      2.272      1.943      2.423         37        640: 100%|██████████| 48/48 [00:45<00:00,  1.06it/s]\n",
      "                 Class     Images  Instances      Box(P          R      mAP50  mAP50-95)     Mask(P          R      mAP50  mAP50-95): 100%|██████████| 3/3 [00:01<00:00,  1.69it/s]"
     ]
    },
    {
     "name": "stdout",
     "output_type": "stream",
     "text": [
      "                   all         73         74      0.761      0.459      0.558      0.242      0.723      0.432      0.472      0.154\n"
     ]
    },
    {
     "name": "stderr",
     "output_type": "stream",
     "text": [
      "\n"
     ]
    },
    {
     "name": "stdout",
     "output_type": "stream",
     "text": [
      "\n",
      "      Epoch    GPU_mem   box_loss   seg_loss   cls_loss   dfl_loss  Instances       Size\n"
     ]
    },
    {
     "name": "stderr",
     "output_type": "stream",
     "text": [
      "      7/100      2.67G      1.659      2.185      1.739      2.299         44        640: 100%|██████████| 48/48 [00:41<00:00,  1.17it/s]\n",
      "                 Class     Images  Instances      Box(P          R      mAP50  mAP50-95)     Mask(P          R      mAP50  mAP50-95): 100%|██████████| 3/3 [00:01<00:00,  1.61it/s]"
     ]
    },
    {
     "name": "stdout",
     "output_type": "stream",
     "text": [
      "                   all         73         74      0.642       0.51      0.488      0.235      0.706      0.595      0.565      0.246\n"
     ]
    },
    {
     "name": "stderr",
     "output_type": "stream",
     "text": [
      "\n"
     ]
    },
    {
     "name": "stdout",
     "output_type": "stream",
     "text": [
      "\n",
      "      Epoch    GPU_mem   box_loss   seg_loss   cls_loss   dfl_loss  Instances       Size\n"
     ]
    },
    {
     "name": "stderr",
     "output_type": "stream",
     "text": [
      "      8/100      2.67G      1.592      2.162       1.63       2.21         46        640: 100%|██████████| 48/48 [00:46<00:00,  1.04it/s]\n",
      "                 Class     Images  Instances      Box(P          R      mAP50  mAP50-95)     Mask(P          R      mAP50  mAP50-95): 100%|██████████| 3/3 [00:01<00:00,  1.65it/s]"
     ]
    },
    {
     "name": "stdout",
     "output_type": "stream",
     "text": [
      "                   all         73         74      0.729      0.554      0.666      0.435      0.672      0.676      0.693      0.369\n"
     ]
    },
    {
     "name": "stderr",
     "output_type": "stream",
     "text": [
      "\n"
     ]
    },
    {
     "name": "stdout",
     "output_type": "stream",
     "text": [
      "\n",
      "      Epoch    GPU_mem   box_loss   seg_loss   cls_loss   dfl_loss  Instances       Size\n"
     ]
    },
    {
     "name": "stderr",
     "output_type": "stream",
     "text": [
      "      9/100      2.65G      1.459      2.116      1.468      2.068         45        640: 100%|██████████| 48/48 [00:46<00:00,  1.04it/s]\n",
      "                 Class     Images  Instances      Box(P          R      mAP50  mAP50-95)     Mask(P          R      mAP50  mAP50-95): 100%|██████████| 3/3 [00:01<00:00,  1.64it/s]"
     ]
    },
    {
     "name": "stdout",
     "output_type": "stream",
     "text": [
      "                   all         73         74       0.76      0.555      0.671       0.45      0.637      0.676      0.697      0.394\n"
     ]
    },
    {
     "name": "stderr",
     "output_type": "stream",
     "text": [
      "\n"
     ]
    },
    {
     "name": "stdout",
     "output_type": "stream",
     "text": [
      "\n",
      "      Epoch    GPU_mem   box_loss   seg_loss   cls_loss   dfl_loss  Instances       Size\n"
     ]
    },
    {
     "name": "stderr",
     "output_type": "stream",
     "text": [
      "     10/100      2.65G      1.405      2.064      1.382      1.999         52        640: 100%|██████████| 48/48 [00:45<00:00,  1.05it/s]\n",
      "                 Class     Images  Instances      Box(P          R      mAP50  mAP50-95)     Mask(P          R      mAP50  mAP50-95): 100%|██████████| 3/3 [00:01<00:00,  1.66it/s]"
     ]
    },
    {
     "name": "stdout",
     "output_type": "stream",
     "text": [
      "                   all         73         74       0.81      0.527      0.667      0.433      0.801      0.527      0.668      0.261\n"
     ]
    },
    {
     "name": "stderr",
     "output_type": "stream",
     "text": [
      "\n"
     ]
    },
    {
     "name": "stdout",
     "output_type": "stream",
     "text": [
      "\n",
      "      Epoch    GPU_mem   box_loss   seg_loss   cls_loss   dfl_loss  Instances       Size\n"
     ]
    },
    {
     "name": "stderr",
     "output_type": "stream",
     "text": [
      "     11/100      2.81G      1.317      2.045      1.324      1.913         38        640: 100%|██████████| 48/48 [00:45<00:00,  1.05it/s]\n",
      "                 Class     Images  Instances      Box(P          R      mAP50  mAP50-95)     Mask(P          R      mAP50  mAP50-95): 100%|██████████| 3/3 [00:01<00:00,  1.68it/s]"
     ]
    },
    {
     "name": "stdout",
     "output_type": "stream",
     "text": [
      "                   all         73         74      0.733      0.676      0.736      0.505      0.691      0.634      0.723      0.393\n"
     ]
    },
    {
     "name": "stderr",
     "output_type": "stream",
     "text": [
      "\n"
     ]
    },
    {
     "name": "stdout",
     "output_type": "stream",
     "text": [
      "\n",
      "      Epoch    GPU_mem   box_loss   seg_loss   cls_loss   dfl_loss  Instances       Size\n"
     ]
    },
    {
     "name": "stderr",
     "output_type": "stream",
     "text": [
      "     12/100      2.67G      1.264      1.962      1.229      1.849         47        640: 100%|██████████| 48/48 [00:45<00:00,  1.05it/s]\n",
      "                 Class     Images  Instances      Box(P          R      mAP50  mAP50-95)     Mask(P          R      mAP50  mAP50-95): 100%|██████████| 3/3 [00:01<00:00,  1.65it/s]"
     ]
    },
    {
     "name": "stdout",
     "output_type": "stream",
     "text": [
      "                   all         73         74      0.585      0.703      0.573       0.38      0.662      0.703       0.64      0.351\n"
     ]
    },
    {
     "name": "stderr",
     "output_type": "stream",
     "text": [
      "\n"
     ]
    },
    {
     "name": "stdout",
     "output_type": "stream",
     "text": [
      "\n",
      "      Epoch    GPU_mem   box_loss   seg_loss   cls_loss   dfl_loss  Instances       Size\n"
     ]
    },
    {
     "name": "stderr",
     "output_type": "stream",
     "text": [
      "     13/100      2.79G      1.246      1.937      1.207       1.82         44        640: 100%|██████████| 48/48 [00:45<00:00,  1.05it/s]\n",
      "                 Class     Images  Instances      Box(P          R      mAP50  mAP50-95)     Mask(P          R      mAP50  mAP50-95): 100%|██████████| 3/3 [00:01<00:00,  1.71it/s]"
     ]
    },
    {
     "name": "stdout",
     "output_type": "stream",
     "text": [
      "                   all         73         74      0.643      0.676      0.719      0.418      0.661       0.77      0.721      0.385\n"
     ]
    },
    {
     "name": "stderr",
     "output_type": "stream",
     "text": [
      "\n"
     ]
    },
    {
     "name": "stdout",
     "output_type": "stream",
     "text": [
      "\n",
      "      Epoch    GPU_mem   box_loss   seg_loss   cls_loss   dfl_loss  Instances       Size\n"
     ]
    },
    {
     "name": "stderr",
     "output_type": "stream",
     "text": [
      "     14/100      2.67G      1.197      1.991       1.18      1.771         49        640: 100%|██████████| 48/48 [00:45<00:00,  1.06it/s]\n",
      "                 Class     Images  Instances      Box(P          R      mAP50  mAP50-95)     Mask(P          R      mAP50  mAP50-95): 100%|██████████| 3/3 [00:01<00:00,  1.71it/s]"
     ]
    },
    {
     "name": "stdout",
     "output_type": "stream",
     "text": [
      "                   all         73         74      0.741      0.703       0.71      0.516      0.741      0.703      0.726       0.42\n"
     ]
    },
    {
     "name": "stderr",
     "output_type": "stream",
     "text": [
      "\n"
     ]
    },
    {
     "name": "stdout",
     "output_type": "stream",
     "text": [
      "\n",
      "      Epoch    GPU_mem   box_loss   seg_loss   cls_loss   dfl_loss  Instances       Size\n"
     ]
    },
    {
     "name": "stderr",
     "output_type": "stream",
     "text": [
      "     15/100      2.81G      1.154      1.924      1.086      1.711         45        640: 100%|██████████| 48/48 [00:45<00:00,  1.06it/s]\n",
      "                 Class     Images  Instances      Box(P          R      mAP50  mAP50-95)     Mask(P          R      mAP50  mAP50-95): 100%|██████████| 3/3 [00:01<00:00,  1.72it/s]"
     ]
    },
    {
     "name": "stdout",
     "output_type": "stream",
     "text": [
      "                   all         73         74      0.837      0.622      0.764      0.531      0.955        0.5      0.712      0.411\n"
     ]
    },
    {
     "name": "stderr",
     "output_type": "stream",
     "text": [
      "\n"
     ]
    },
    {
     "name": "stdout",
     "output_type": "stream",
     "text": [
      "\n",
      "      Epoch    GPU_mem   box_loss   seg_loss   cls_loss   dfl_loss  Instances       Size\n"
     ]
    },
    {
     "name": "stderr",
     "output_type": "stream",
     "text": [
      "     16/100      2.65G      1.115      1.895      1.063      1.681         45        640: 100%|██████████| 48/48 [00:45<00:00,  1.06it/s]\n",
      "                 Class     Images  Instances      Box(P          R      mAP50  mAP50-95)     Mask(P          R      mAP50  mAP50-95): 100%|██████████| 3/3 [00:01<00:00,  1.69it/s]"
     ]
    },
    {
     "name": "stdout",
     "output_type": "stream",
     "text": [
      "                   all         73         74      0.715      0.678      0.713      0.486      0.717      0.685      0.709      0.387\n"
     ]
    },
    {
     "name": "stderr",
     "output_type": "stream",
     "text": [
      "\n"
     ]
    },
    {
     "name": "stdout",
     "output_type": "stream",
     "text": [
      "\n",
      "      Epoch    GPU_mem   box_loss   seg_loss   cls_loss   dfl_loss  Instances       Size\n"
     ]
    },
    {
     "name": "stderr",
     "output_type": "stream",
     "text": [
      "     17/100      2.67G      1.092      1.817      1.045      1.643         46        640: 100%|██████████| 48/48 [00:45<00:00,  1.06it/s]\n",
      "                 Class     Images  Instances      Box(P          R      mAP50  mAP50-95)     Mask(P          R      mAP50  mAP50-95): 100%|██████████| 3/3 [00:01<00:00,  1.71it/s]"
     ]
    },
    {
     "name": "stdout",
     "output_type": "stream",
     "text": [
      "                   all         73         74      0.789      0.649      0.757      0.539      0.848      0.603       0.75       0.47\n"
     ]
    },
    {
     "name": "stderr",
     "output_type": "stream",
     "text": [
      "\n"
     ]
    },
    {
     "name": "stdout",
     "output_type": "stream",
     "text": [
      "\n",
      "      Epoch    GPU_mem   box_loss   seg_loss   cls_loss   dfl_loss  Instances       Size\n"
     ]
    },
    {
     "name": "stderr",
     "output_type": "stream",
     "text": [
      "     18/100      2.67G      1.055      1.812      1.017      1.631         46        640: 100%|██████████| 48/48 [00:45<00:00,  1.05it/s]\n",
      "                 Class     Images  Instances      Box(P          R      mAP50  mAP50-95)     Mask(P          R      mAP50  mAP50-95): 100%|██████████| 3/3 [00:01<00:00,  1.68it/s]"
     ]
    },
    {
     "name": "stdout",
     "output_type": "stream",
     "text": [
      "                   all         73         74      0.722      0.689      0.734      0.513      0.767      0.689      0.763      0.474\n"
     ]
    },
    {
     "name": "stderr",
     "output_type": "stream",
     "text": [
      "\n"
     ]
    },
    {
     "name": "stdout",
     "output_type": "stream",
     "text": [
      "\n",
      "      Epoch    GPU_mem   box_loss   seg_loss   cls_loss   dfl_loss  Instances       Size\n"
     ]
    },
    {
     "name": "stderr",
     "output_type": "stream",
     "text": [
      "     19/100      2.81G      1.028      1.758     0.9973      1.607         50        640: 100%|██████████| 48/48 [00:45<00:00,  1.05it/s]\n",
      "                 Class     Images  Instances      Box(P          R      mAP50  mAP50-95)     Mask(P          R      mAP50  mAP50-95): 100%|██████████| 3/3 [00:01<00:00,  1.70it/s]"
     ]
    },
    {
     "name": "stdout",
     "output_type": "stream",
     "text": [
      "                   all         73         74      0.876      0.608      0.756       0.55       0.75      0.662      0.755      0.478\n"
     ]
    },
    {
     "name": "stderr",
     "output_type": "stream",
     "text": [
      "\n"
     ]
    },
    {
     "name": "stdout",
     "output_type": "stream",
     "text": [
      "\n",
      "      Epoch    GPU_mem   box_loss   seg_loss   cls_loss   dfl_loss  Instances       Size\n"
     ]
    },
    {
     "name": "stderr",
     "output_type": "stream",
     "text": [
      "     20/100      2.79G      1.056      1.811      1.012      1.623         47        640: 100%|██████████| 48/48 [00:45<00:00,  1.05it/s]\n",
      "                 Class     Images  Instances      Box(P          R      mAP50  mAP50-95)     Mask(P          R      mAP50  mAP50-95): 100%|██████████| 3/3 [00:01<00:00,  1.67it/s]"
     ]
    },
    {
     "name": "stdout",
     "output_type": "stream",
     "text": [
      "                   all         73         74      0.831      0.664      0.762      0.519      0.814      0.651      0.756       0.43\n"
     ]
    },
    {
     "name": "stderr",
     "output_type": "stream",
     "text": [
      "\n"
     ]
    },
    {
     "name": "stdout",
     "output_type": "stream",
     "text": [
      "\n",
      "      Epoch    GPU_mem   box_loss   seg_loss   cls_loss   dfl_loss  Instances       Size\n"
     ]
    },
    {
     "name": "stderr",
     "output_type": "stream",
     "text": [
      "     21/100      2.67G      1.034      1.848     0.9836      1.607         49        640: 100%|██████████| 48/48 [00:45<00:00,  1.05it/s]\n",
      "                 Class     Images  Instances      Box(P          R      mAP50  mAP50-95)     Mask(P          R      mAP50  mAP50-95): 100%|██████████| 3/3 [00:01<00:00,  1.70it/s]"
     ]
    },
    {
     "name": "stdout",
     "output_type": "stream",
     "text": [
      "                   all         73         74      0.926       0.73       0.81      0.575      0.926       0.73      0.813      0.451\n"
     ]
    },
    {
     "name": "stderr",
     "output_type": "stream",
     "text": [
      "\n"
     ]
    },
    {
     "name": "stdout",
     "output_type": "stream",
     "text": [
      "\n",
      "      Epoch    GPU_mem   box_loss   seg_loss   cls_loss   dfl_loss  Instances       Size\n"
     ]
    },
    {
     "name": "stderr",
     "output_type": "stream",
     "text": [
      "     22/100      2.69G     0.9944      1.794     0.9242      1.553         54        640: 100%|██████████| 48/48 [00:45<00:00,  1.05it/s]\n",
      "                 Class     Images  Instances      Box(P          R      mAP50  mAP50-95)     Mask(P          R      mAP50  mAP50-95): 100%|██████████| 3/3 [00:01<00:00,  1.68it/s]"
     ]
    },
    {
     "name": "stdout",
     "output_type": "stream",
     "text": [
      "                   all         73         74       0.75      0.689      0.758      0.557       0.68      0.784      0.781      0.481\n"
     ]
    },
    {
     "name": "stderr",
     "output_type": "stream",
     "text": [
      "\n"
     ]
    },
    {
     "name": "stdout",
     "output_type": "stream",
     "text": [
      "\n",
      "      Epoch    GPU_mem   box_loss   seg_loss   cls_loss   dfl_loss  Instances       Size\n"
     ]
    },
    {
     "name": "stderr",
     "output_type": "stream",
     "text": [
      "     23/100      2.69G      1.028      1.867     0.9861      1.581         44        640: 100%|██████████| 48/48 [00:46<00:00,  1.04it/s]\n",
      "                 Class     Images  Instances      Box(P          R      mAP50  mAP50-95)     Mask(P          R      mAP50  mAP50-95): 100%|██████████| 3/3 [00:01<00:00,  1.65it/s]"
     ]
    },
    {
     "name": "stdout",
     "output_type": "stream",
     "text": [
      "                   all         73         74      0.639      0.716      0.709      0.536      0.678      0.757      0.752      0.458\n"
     ]
    },
    {
     "name": "stderr",
     "output_type": "stream",
     "text": [
      "\n"
     ]
    },
    {
     "name": "stdout",
     "output_type": "stream",
     "text": [
      "\n",
      "      Epoch    GPU_mem   box_loss   seg_loss   cls_loss   dfl_loss  Instances       Size\n"
     ]
    },
    {
     "name": "stderr",
     "output_type": "stream",
     "text": [
      "     24/100      2.69G      1.008      1.769     0.9534      1.542         46        640: 100%|██████████| 48/48 [00:45<00:00,  1.04it/s]\n",
      "                 Class     Images  Instances      Box(P          R      mAP50  mAP50-95)     Mask(P          R      mAP50  mAP50-95): 100%|██████████| 3/3 [00:01<00:00,  1.63it/s]"
     ]
    },
    {
     "name": "stdout",
     "output_type": "stream",
     "text": [
      "                   all         73         74      0.806      0.743      0.806      0.608       0.85      0.703      0.796      0.507\n"
     ]
    },
    {
     "name": "stderr",
     "output_type": "stream",
     "text": [
      "\n"
     ]
    },
    {
     "name": "stdout",
     "output_type": "stream",
     "text": [
      "\n",
      "      Epoch    GPU_mem   box_loss   seg_loss   cls_loss   dfl_loss  Instances       Size\n"
     ]
    },
    {
     "name": "stderr",
     "output_type": "stream",
     "text": [
      "     25/100      2.65G     0.9649       1.77     0.9426      1.538         45        640: 100%|██████████| 48/48 [00:46<00:00,  1.04it/s]\n",
      "                 Class     Images  Instances      Box(P          R      mAP50  mAP50-95)     Mask(P          R      mAP50  mAP50-95): 100%|██████████| 3/3 [00:01<00:00,  1.62it/s]"
     ]
    },
    {
     "name": "stdout",
     "output_type": "stream",
     "text": [
      "                   all         73         74      0.851      0.693      0.785      0.601      0.885      0.728        0.8      0.525\n"
     ]
    },
    {
     "name": "stderr",
     "output_type": "stream",
     "text": [
      "\n"
     ]
    },
    {
     "name": "stdout",
     "output_type": "stream",
     "text": [
      "\n",
      "      Epoch    GPU_mem   box_loss   seg_loss   cls_loss   dfl_loss  Instances       Size\n"
     ]
    },
    {
     "name": "stderr",
     "output_type": "stream",
     "text": [
      "     26/100      2.67G     0.9429      1.682     0.8948      1.519         44        640: 100%|██████████| 48/48 [00:45<00:00,  1.05it/s]\n",
      "                 Class     Images  Instances      Box(P          R      mAP50  mAP50-95)     Mask(P          R      mAP50  mAP50-95): 100%|██████████| 3/3 [00:01<00:00,  1.70it/s]"
     ]
    },
    {
     "name": "stdout",
     "output_type": "stream",
     "text": [
      "                   all         73         74      0.812      0.716      0.782      0.556      0.796      0.703      0.771      0.486\n"
     ]
    },
    {
     "name": "stderr",
     "output_type": "stream",
     "text": [
      "\n"
     ]
    },
    {
     "name": "stdout",
     "output_type": "stream",
     "text": [
      "\n",
      "      Epoch    GPU_mem   box_loss   seg_loss   cls_loss   dfl_loss  Instances       Size\n"
     ]
    },
    {
     "name": "stderr",
     "output_type": "stream",
     "text": [
      "     27/100      2.69G     0.9754      1.787     0.9142      1.542         44        640: 100%|██████████| 48/48 [00:45<00:00,  1.06it/s]\n",
      "                 Class     Images  Instances      Box(P          R      mAP50  mAP50-95)     Mask(P          R      mAP50  mAP50-95): 100%|██████████| 3/3 [00:01<00:00,  1.69it/s]"
     ]
    },
    {
     "name": "stdout",
     "output_type": "stream",
     "text": [
      "                   all         73         74      0.768      0.716      0.759      0.535      0.754      0.703      0.742      0.427\n"
     ]
    },
    {
     "name": "stderr",
     "output_type": "stream",
     "text": [
      "\n"
     ]
    },
    {
     "name": "stdout",
     "output_type": "stream",
     "text": [
      "\n",
      "      Epoch    GPU_mem   box_loss   seg_loss   cls_loss   dfl_loss  Instances       Size\n"
     ]
    },
    {
     "name": "stderr",
     "output_type": "stream",
     "text": [
      "     28/100      2.68G     0.9202      1.677     0.8709      1.501         52        640: 100%|██████████| 48/48 [00:45<00:00,  1.06it/s]\n",
      "                 Class     Images  Instances      Box(P          R      mAP50  mAP50-95)     Mask(P          R      mAP50  mAP50-95): 100%|██████████| 3/3 [00:01<00:00,  1.72it/s]"
     ]
    },
    {
     "name": "stdout",
     "output_type": "stream",
     "text": [
      "                   all         73         74      0.863      0.684      0.786      0.591      0.898      0.711      0.803      0.521\n"
     ]
    },
    {
     "name": "stderr",
     "output_type": "stream",
     "text": [
      "\n"
     ]
    },
    {
     "name": "stdout",
     "output_type": "stream",
     "text": [
      "\n",
      "      Epoch    GPU_mem   box_loss   seg_loss   cls_loss   dfl_loss  Instances       Size\n"
     ]
    },
    {
     "name": "stderr",
     "output_type": "stream",
     "text": [
      "     29/100      2.69G      0.982      1.657     0.9235      1.538         47        640: 100%|██████████| 48/48 [00:45<00:00,  1.06it/s]\n",
      "                 Class     Images  Instances      Box(P          R      mAP50  mAP50-95)     Mask(P          R      mAP50  mAP50-95): 100%|██████████| 3/3 [00:01<00:00,  1.71it/s]"
     ]
    },
    {
     "name": "stdout",
     "output_type": "stream",
     "text": [
      "                   all         73         74      0.748      0.797      0.812      0.602      0.723       0.77       0.79       0.52\n"
     ]
    },
    {
     "name": "stderr",
     "output_type": "stream",
     "text": [
      "\n"
     ]
    },
    {
     "name": "stdout",
     "output_type": "stream",
     "text": [
      "\n",
      "      Epoch    GPU_mem   box_loss   seg_loss   cls_loss   dfl_loss  Instances       Size\n"
     ]
    },
    {
     "name": "stderr",
     "output_type": "stream",
     "text": [
      "     30/100      2.65G     0.9467       1.76     0.8971      1.511         47        640: 100%|██████████| 48/48 [00:45<00:00,  1.06it/s]\n",
      "                 Class     Images  Instances      Box(P          R      mAP50  mAP50-95)     Mask(P          R      mAP50  mAP50-95): 100%|██████████| 3/3 [00:01<00:00,  1.72it/s]"
     ]
    },
    {
     "name": "stdout",
     "output_type": "stream",
     "text": [
      "                   all         73         74      0.897      0.635      0.777      0.576      0.819      0.703      0.789      0.459\n"
     ]
    },
    {
     "name": "stderr",
     "output_type": "stream",
     "text": [
      "\n"
     ]
    },
    {
     "name": "stdout",
     "output_type": "stream",
     "text": [
      "\n",
      "      Epoch    GPU_mem   box_loss   seg_loss   cls_loss   dfl_loss  Instances       Size\n"
     ]
    },
    {
     "name": "stderr",
     "output_type": "stream",
     "text": [
      "     31/100      2.69G      0.893       1.67     0.8548      1.455         46        640: 100%|██████████| 48/48 [00:45<00:00,  1.06it/s]\n",
      "                 Class     Images  Instances      Box(P          R      mAP50  mAP50-95)     Mask(P          R      mAP50  mAP50-95): 100%|██████████| 3/3 [00:01<00:00,  1.72it/s]"
     ]
    },
    {
     "name": "stdout",
     "output_type": "stream",
     "text": [
      "                   all         73         74      0.769      0.757      0.805      0.589      0.753      0.743      0.785      0.505\n"
     ]
    },
    {
     "name": "stderr",
     "output_type": "stream",
     "text": [
      "\n"
     ]
    },
    {
     "name": "stdout",
     "output_type": "stream",
     "text": [
      "\n",
      "      Epoch    GPU_mem   box_loss   seg_loss   cls_loss   dfl_loss  Instances       Size\n"
     ]
    },
    {
     "name": "stderr",
     "output_type": "stream",
     "text": [
      "     32/100      2.67G     0.9042      1.682     0.8538      1.469         46        640: 100%|██████████| 48/48 [00:45<00:00,  1.06it/s]\n",
      "                 Class     Images  Instances      Box(P          R      mAP50  mAP50-95)     Mask(P          R      mAP50  mAP50-95): 100%|██████████| 3/3 [00:01<00:00,  1.73it/s]"
     ]
    },
    {
     "name": "stdout",
     "output_type": "stream",
     "text": [
      "                   all         73         74      0.918      0.743      0.815      0.586      0.901       0.73      0.818      0.546\n"
     ]
    },
    {
     "name": "stderr",
     "output_type": "stream",
     "text": [
      "\n"
     ]
    },
    {
     "name": "stdout",
     "output_type": "stream",
     "text": [
      "\n",
      "      Epoch    GPU_mem   box_loss   seg_loss   cls_loss   dfl_loss  Instances       Size\n"
     ]
    },
    {
     "name": "stderr",
     "output_type": "stream",
     "text": [
      "     33/100      2.67G     0.9128      1.611     0.8825      1.477         50        640: 100%|██████████| 48/48 [00:45<00:00,  1.06it/s]\n",
      "                 Class     Images  Instances      Box(P          R      mAP50  mAP50-95)     Mask(P          R      mAP50  mAP50-95): 100%|██████████| 3/3 [00:01<00:00,  1.72it/s]"
     ]
    },
    {
     "name": "stdout",
     "output_type": "stream",
     "text": [
      "                   all         73         74      0.878      0.775      0.813      0.603      0.862      0.762        0.8      0.531\n"
     ]
    },
    {
     "name": "stderr",
     "output_type": "stream",
     "text": [
      "\n"
     ]
    },
    {
     "name": "stdout",
     "output_type": "stream",
     "text": [
      "\n",
      "      Epoch    GPU_mem   box_loss   seg_loss   cls_loss   dfl_loss  Instances       Size\n"
     ]
    },
    {
     "name": "stderr",
     "output_type": "stream",
     "text": [
      "     34/100      2.65G     0.8746      1.584     0.8475      1.446         50        640: 100%|██████████| 48/48 [00:45<00:00,  1.06it/s]\n",
      "                 Class     Images  Instances      Box(P          R      mAP50  mAP50-95)     Mask(P          R      mAP50  mAP50-95): 100%|██████████| 3/3 [00:01<00:00,  1.73it/s]"
     ]
    },
    {
     "name": "stdout",
     "output_type": "stream",
     "text": [
      "                   all         73         74       0.78       0.77      0.805      0.607      0.779       0.77      0.787      0.508\n"
     ]
    },
    {
     "name": "stderr",
     "output_type": "stream",
     "text": [
      "\n"
     ]
    },
    {
     "name": "stdout",
     "output_type": "stream",
     "text": [
      "\n",
      "      Epoch    GPU_mem   box_loss   seg_loss   cls_loss   dfl_loss  Instances       Size\n"
     ]
    },
    {
     "name": "stderr",
     "output_type": "stream",
     "text": [
      "     35/100      2.69G     0.9021      1.689     0.8532      1.468         41        640: 100%|██████████| 48/48 [00:45<00:00,  1.06it/s]\n",
      "                 Class     Images  Instances      Box(P          R      mAP50  mAP50-95)     Mask(P          R      mAP50  mAP50-95): 100%|██████████| 3/3 [00:01<00:00,  1.70it/s]"
     ]
    },
    {
     "name": "stdout",
     "output_type": "stream",
     "text": [
      "                   all         73         74      0.931      0.676       0.82      0.592      0.799      0.808      0.826      0.509\n"
     ]
    },
    {
     "name": "stderr",
     "output_type": "stream",
     "text": [
      "\n"
     ]
    },
    {
     "name": "stdout",
     "output_type": "stream",
     "text": [
      "\n",
      "      Epoch    GPU_mem   box_loss   seg_loss   cls_loss   dfl_loss  Instances       Size\n"
     ]
    },
    {
     "name": "stderr",
     "output_type": "stream",
     "text": [
      "     36/100      2.67G     0.8862      1.637     0.8427      1.468         43        640: 100%|██████████| 48/48 [00:45<00:00,  1.06it/s]\n",
      "                 Class     Images  Instances      Box(P          R      mAP50  mAP50-95)     Mask(P          R      mAP50  mAP50-95): 100%|██████████| 3/3 [00:01<00:00,  1.72it/s]"
     ]
    },
    {
     "name": "stdout",
     "output_type": "stream",
     "text": [
      "                   all         73         74      0.802      0.743      0.787      0.596      0.788       0.73      0.786      0.529\n"
     ]
    },
    {
     "name": "stderr",
     "output_type": "stream",
     "text": [
      "\n"
     ]
    },
    {
     "name": "stdout",
     "output_type": "stream",
     "text": [
      "\n",
      "      Epoch    GPU_mem   box_loss   seg_loss   cls_loss   dfl_loss  Instances       Size\n"
     ]
    },
    {
     "name": "stderr",
     "output_type": "stream",
     "text": [
      "     37/100      2.69G     0.8862      1.635     0.8473      1.445         44        640: 100%|██████████| 48/48 [00:45<00:00,  1.06it/s]\n",
      "                 Class     Images  Instances      Box(P          R      mAP50  mAP50-95)     Mask(P          R      mAP50  mAP50-95): 100%|██████████| 3/3 [00:01<00:00,  1.71it/s]"
     ]
    },
    {
     "name": "stdout",
     "output_type": "stream",
     "text": [
      "                   all         73         74      0.902      0.745      0.806      0.626      0.886      0.732      0.794      0.537\n"
     ]
    },
    {
     "name": "stderr",
     "output_type": "stream",
     "text": [
      "\n"
     ]
    },
    {
     "name": "stdout",
     "output_type": "stream",
     "text": [
      "\n",
      "      Epoch    GPU_mem   box_loss   seg_loss   cls_loss   dfl_loss  Instances       Size\n"
     ]
    },
    {
     "name": "stderr",
     "output_type": "stream",
     "text": [
      "     38/100      2.65G     0.8538      1.571     0.8051      1.417         48        640: 100%|██████████| 48/48 [00:45<00:00,  1.06it/s]\n",
      "                 Class     Images  Instances      Box(P          R      mAP50  mAP50-95)     Mask(P          R      mAP50  mAP50-95): 100%|██████████| 3/3 [00:01<00:00,  1.71it/s]"
     ]
    },
    {
     "name": "stdout",
     "output_type": "stream",
     "text": [
      "                   all         73         74      0.944      0.689      0.818      0.637      0.849       0.73      0.795      0.511\n"
     ]
    },
    {
     "name": "stderr",
     "output_type": "stream",
     "text": [
      "\n"
     ]
    },
    {
     "name": "stdout",
     "output_type": "stream",
     "text": [
      "\n",
      "      Epoch    GPU_mem   box_loss   seg_loss   cls_loss   dfl_loss  Instances       Size\n"
     ]
    },
    {
     "name": "stderr",
     "output_type": "stream",
     "text": [
      "     39/100      2.79G     0.9113      1.643     0.8541      1.452         49        640: 100%|██████████| 48/48 [00:45<00:00,  1.06it/s]\n",
      "                 Class     Images  Instances      Box(P          R      mAP50  mAP50-95)     Mask(P          R      mAP50  mAP50-95): 100%|██████████| 3/3 [00:01<00:00,  1.70it/s]"
     ]
    },
    {
     "name": "stdout",
     "output_type": "stream",
     "text": [
      "                   all         73         74      0.872       0.73      0.821      0.639      0.872       0.73       0.81      0.556\n"
     ]
    },
    {
     "name": "stderr",
     "output_type": "stream",
     "text": [
      "\n"
     ]
    },
    {
     "name": "stdout",
     "output_type": "stream",
     "text": [
      "\n",
      "      Epoch    GPU_mem   box_loss   seg_loss   cls_loss   dfl_loss  Instances       Size\n"
     ]
    },
    {
     "name": "stderr",
     "output_type": "stream",
     "text": [
      "     40/100      2.67G     0.8517      1.636     0.7996      1.426         42        640: 100%|██████████| 48/48 [00:45<00:00,  1.06it/s]\n",
      "                 Class     Images  Instances      Box(P          R      mAP50  mAP50-95)     Mask(P          R      mAP50  mAP50-95): 100%|██████████| 3/3 [00:01<00:00,  1.72it/s]"
     ]
    },
    {
     "name": "stdout",
     "output_type": "stream",
     "text": [
      "                   all         73         74      0.868       0.73      0.814      0.637      0.848      0.756      0.818      0.525\n"
     ]
    },
    {
     "name": "stderr",
     "output_type": "stream",
     "text": [
      "\n"
     ]
    },
    {
     "name": "stdout",
     "output_type": "stream",
     "text": [
      "\n",
      "      Epoch    GPU_mem   box_loss   seg_loss   cls_loss   dfl_loss  Instances       Size\n"
     ]
    },
    {
     "name": "stderr",
     "output_type": "stream",
     "text": [
      "     41/100      2.65G     0.8437      1.567     0.8059      1.412         46        640: 100%|██████████| 48/48 [00:45<00:00,  1.06it/s]\n",
      "                 Class     Images  Instances      Box(P          R      mAP50  mAP50-95)     Mask(P          R      mAP50  mAP50-95): 100%|██████████| 3/3 [00:01<00:00,  1.72it/s]"
     ]
    },
    {
     "name": "stdout",
     "output_type": "stream",
     "text": [
      "                   all         73         74      0.829      0.797      0.829      0.651      0.801       0.77      0.808      0.542\n"
     ]
    },
    {
     "name": "stderr",
     "output_type": "stream",
     "text": [
      "\n"
     ]
    },
    {
     "name": "stdout",
     "output_type": "stream",
     "text": [
      "\n",
      "      Epoch    GPU_mem   box_loss   seg_loss   cls_loss   dfl_loss  Instances       Size\n"
     ]
    },
    {
     "name": "stderr",
     "output_type": "stream",
     "text": [
      "     42/100      2.67G     0.8848      1.594     0.8364       1.44         47        640: 100%|██████████| 48/48 [00:45<00:00,  1.06it/s]\n",
      "                 Class     Images  Instances      Box(P          R      mAP50  mAP50-95)     Mask(P          R      mAP50  mAP50-95): 100%|██████████| 3/3 [00:01<00:00,  1.72it/s]"
     ]
    },
    {
     "name": "stdout",
     "output_type": "stream",
     "text": [
      "                   all         73         74      0.862      0.743      0.817      0.624      0.868      0.711       0.78      0.532\n"
     ]
    },
    {
     "name": "stderr",
     "output_type": "stream",
     "text": [
      "\n"
     ]
    },
    {
     "name": "stdout",
     "output_type": "stream",
     "text": [
      "\n",
      "      Epoch    GPU_mem   box_loss   seg_loss   cls_loss   dfl_loss  Instances       Size\n"
     ]
    },
    {
     "name": "stderr",
     "output_type": "stream",
     "text": [
      "     43/100      2.67G      0.848      1.574     0.7778      1.417         44        640: 100%|██████████| 48/48 [00:45<00:00,  1.06it/s]\n",
      "                 Class     Images  Instances      Box(P          R      mAP50  mAP50-95)     Mask(P          R      mAP50  mAP50-95): 100%|██████████| 3/3 [00:01<00:00,  1.72it/s]"
     ]
    },
    {
     "name": "stdout",
     "output_type": "stream",
     "text": [
      "                   all         73         74       0.85      0.757      0.829      0.647      0.844      0.733      0.812      0.537\n"
     ]
    },
    {
     "name": "stderr",
     "output_type": "stream",
     "text": [
      "\n"
     ]
    },
    {
     "name": "stdout",
     "output_type": "stream",
     "text": [
      "\n",
      "      Epoch    GPU_mem   box_loss   seg_loss   cls_loss   dfl_loss  Instances       Size\n"
     ]
    },
    {
     "name": "stderr",
     "output_type": "stream",
     "text": [
      "     44/100      2.65G     0.8494      1.618     0.7859      1.405         51        640: 100%|██████████| 48/48 [00:45<00:00,  1.06it/s]\n",
      "                 Class     Images  Instances      Box(P          R      mAP50  mAP50-95)     Mask(P          R      mAP50  mAP50-95): 100%|██████████| 3/3 [00:01<00:00,  1.72it/s]"
     ]
    },
    {
     "name": "stdout",
     "output_type": "stream",
     "text": [
      "                   all         73         74      0.915       0.77      0.829      0.625      0.915       0.77      0.825      0.539\n"
     ]
    },
    {
     "name": "stderr",
     "output_type": "stream",
     "text": [
      "\n"
     ]
    },
    {
     "name": "stdout",
     "output_type": "stream",
     "text": [
      "\n",
      "      Epoch    GPU_mem   box_loss   seg_loss   cls_loss   dfl_loss  Instances       Size\n"
     ]
    },
    {
     "name": "stderr",
     "output_type": "stream",
     "text": [
      "     45/100      2.81G     0.8193       1.56     0.7677       1.38         40        640: 100%|██████████| 48/48 [00:45<00:00,  1.06it/s]\n",
      "                 Class     Images  Instances      Box(P          R      mAP50  mAP50-95)     Mask(P          R      mAP50  mAP50-95): 100%|██████████| 3/3 [00:01<00:00,  1.70it/s]"
     ]
    },
    {
     "name": "stdout",
     "output_type": "stream",
     "text": [
      "                   all         73         74      0.963      0.701      0.829      0.635      0.889       0.77       0.83      0.539\n"
     ]
    },
    {
     "name": "stderr",
     "output_type": "stream",
     "text": [
      "\n"
     ]
    },
    {
     "name": "stdout",
     "output_type": "stream",
     "text": [
      "\n",
      "      Epoch    GPU_mem   box_loss   seg_loss   cls_loss   dfl_loss  Instances       Size\n"
     ]
    },
    {
     "name": "stderr",
     "output_type": "stream",
     "text": [
      "     46/100      2.67G     0.8431      1.574     0.7726      1.416         46        640: 100%|██████████| 48/48 [00:45<00:00,  1.06it/s]\n",
      "                 Class     Images  Instances      Box(P          R      mAP50  mAP50-95)     Mask(P          R      mAP50  mAP50-95): 100%|██████████| 3/3 [00:01<00:00,  1.73it/s]"
     ]
    },
    {
     "name": "stdout",
     "output_type": "stream",
     "text": [
      "                   all         73         74      0.878       0.77      0.818      0.632      0.865      0.779      0.824      0.537\n"
     ]
    },
    {
     "name": "stderr",
     "output_type": "stream",
     "text": [
      "\n"
     ]
    },
    {
     "name": "stdout",
     "output_type": "stream",
     "text": [
      "\n",
      "      Epoch    GPU_mem   box_loss   seg_loss   cls_loss   dfl_loss  Instances       Size\n"
     ]
    },
    {
     "name": "stderr",
     "output_type": "stream",
     "text": [
      "     47/100      2.67G     0.8165      1.506       0.75      1.373         45        640: 100%|██████████| 48/48 [00:45<00:00,  1.06it/s]\n",
      "                 Class     Images  Instances      Box(P          R      mAP50  mAP50-95)     Mask(P          R      mAP50  mAP50-95): 100%|██████████| 3/3 [00:01<00:00,  1.72it/s]"
     ]
    },
    {
     "name": "stdout",
     "output_type": "stream",
     "text": [
      "                   all         73         74      0.934      0.676       0.82      0.645      0.856      0.703      0.817      0.517\n"
     ]
    },
    {
     "name": "stderr",
     "output_type": "stream",
     "text": [
      "\n"
     ]
    },
    {
     "name": "stdout",
     "output_type": "stream",
     "text": [
      "\n",
      "      Epoch    GPU_mem   box_loss   seg_loss   cls_loss   dfl_loss  Instances       Size\n"
     ]
    },
    {
     "name": "stderr",
     "output_type": "stream",
     "text": [
      "     48/100      2.67G     0.8272      1.592     0.7828      1.398         50        640: 100%|██████████| 48/48 [00:45<00:00,  1.06it/s]\n",
      "                 Class     Images  Instances      Box(P          R      mAP50  mAP50-95)     Mask(P          R      mAP50  mAP50-95): 100%|██████████| 3/3 [00:01<00:00,  1.72it/s]"
     ]
    },
    {
     "name": "stdout",
     "output_type": "stream",
     "text": [
      "                   all         73         74      0.945      0.695      0.842      0.624      0.906      0.703      0.837      0.557\n"
     ]
    },
    {
     "name": "stderr",
     "output_type": "stream",
     "text": [
      "\n"
     ]
    },
    {
     "name": "stdout",
     "output_type": "stream",
     "text": [
      "\n",
      "      Epoch    GPU_mem   box_loss   seg_loss   cls_loss   dfl_loss  Instances       Size\n"
     ]
    },
    {
     "name": "stderr",
     "output_type": "stream",
     "text": [
      "     49/100      2.68G     0.8018      1.539     0.7403      1.374         42        640: 100%|██████████| 48/48 [00:45<00:00,  1.06it/s]\n",
      "                 Class     Images  Instances      Box(P          R      mAP50  mAP50-95)     Mask(P          R      mAP50  mAP50-95): 100%|██████████| 3/3 [00:01<00:00,  1.73it/s]"
     ]
    },
    {
     "name": "stdout",
     "output_type": "stream",
     "text": [
      "                   all         73         74      0.765      0.784      0.823      0.645      0.765      0.784      0.813      0.542\n"
     ]
    },
    {
     "name": "stderr",
     "output_type": "stream",
     "text": [
      "\n"
     ]
    },
    {
     "name": "stdout",
     "output_type": "stream",
     "text": [
      "\n",
      "      Epoch    GPU_mem   box_loss   seg_loss   cls_loss   dfl_loss  Instances       Size\n"
     ]
    },
    {
     "name": "stderr",
     "output_type": "stream",
     "text": [
      "     50/100      2.65G     0.7927      1.549     0.7307      1.376         42        640: 100%|██████████| 48/48 [00:45<00:00,  1.06it/s]\n",
      "                 Class     Images  Instances      Box(P          R      mAP50  mAP50-95)     Mask(P          R      mAP50  mAP50-95): 100%|██████████| 3/3 [00:01<00:00,  1.71it/s]"
     ]
    },
    {
     "name": "stdout",
     "output_type": "stream",
     "text": [
      "                   all         73         74      0.865      0.781       0.83      0.636      0.865      0.781      0.822      0.552\n"
     ]
    },
    {
     "name": "stderr",
     "output_type": "stream",
     "text": [
      "\n"
     ]
    },
    {
     "name": "stdout",
     "output_type": "stream",
     "text": [
      "\n",
      "      Epoch    GPU_mem   box_loss   seg_loss   cls_loss   dfl_loss  Instances       Size\n"
     ]
    },
    {
     "name": "stderr",
     "output_type": "stream",
     "text": [
      "     51/100      2.68G     0.8139      1.576     0.7701      1.384         49        640: 100%|██████████| 48/48 [00:45<00:00,  1.06it/s]\n",
      "                 Class     Images  Instances      Box(P          R      mAP50  mAP50-95)     Mask(P          R      mAP50  mAP50-95): 100%|██████████| 3/3 [00:01<00:00,  1.72it/s]"
     ]
    },
    {
     "name": "stdout",
     "output_type": "stream",
     "text": [
      "                   all         73         74      0.911      0.694      0.802      0.613      0.912      0.698       0.78      0.513\n"
     ]
    },
    {
     "name": "stderr",
     "output_type": "stream",
     "text": [
      "\n"
     ]
    },
    {
     "name": "stdout",
     "output_type": "stream",
     "text": [
      "\n",
      "      Epoch    GPU_mem   box_loss   seg_loss   cls_loss   dfl_loss  Instances       Size\n"
     ]
    },
    {
     "name": "stderr",
     "output_type": "stream",
     "text": [
      "     52/100      2.68G      0.787      1.492     0.7403      1.362         53        640: 100%|██████████| 48/48 [00:45<00:00,  1.06it/s]\n",
      "                 Class     Images  Instances      Box(P          R      mAP50  mAP50-95)     Mask(P          R      mAP50  mAP50-95): 100%|██████████| 3/3 [00:01<00:00,  1.72it/s]"
     ]
    },
    {
     "name": "stdout",
     "output_type": "stream",
     "text": [
      "                   all         73         74      0.947      0.731      0.837      0.641      0.931      0.725      0.821      0.539\n"
     ]
    },
    {
     "name": "stderr",
     "output_type": "stream",
     "text": [
      "\n"
     ]
    },
    {
     "name": "stdout",
     "output_type": "stream",
     "text": [
      "\n",
      "      Epoch    GPU_mem   box_loss   seg_loss   cls_loss   dfl_loss  Instances       Size\n"
     ]
    },
    {
     "name": "stderr",
     "output_type": "stream",
     "text": [
      "     53/100      2.69G     0.7976      1.548     0.7337      1.367         47        640: 100%|██████████| 48/48 [00:45<00:00,  1.06it/s]\n",
      "                 Class     Images  Instances      Box(P          R      mAP50  mAP50-95)     Mask(P          R      mAP50  mAP50-95): 100%|██████████| 3/3 [00:01<00:00,  1.72it/s]"
     ]
    },
    {
     "name": "stdout",
     "output_type": "stream",
     "text": [
      "                   all         73         74      0.915       0.77      0.844      0.654      0.906      0.782      0.843      0.573\n"
     ]
    },
    {
     "name": "stderr",
     "output_type": "stream",
     "text": [
      "\n"
     ]
    },
    {
     "name": "stdout",
     "output_type": "stream",
     "text": [
      "\n",
      "      Epoch    GPU_mem   box_loss   seg_loss   cls_loss   dfl_loss  Instances       Size\n"
     ]
    },
    {
     "name": "stderr",
     "output_type": "stream",
     "text": [
      "     54/100      2.67G      0.794      1.574      0.742       1.36         50        640: 100%|██████████| 48/48 [00:45<00:00,  1.06it/s]\n",
      "                 Class     Images  Instances      Box(P          R      mAP50  mAP50-95)     Mask(P          R      mAP50  mAP50-95): 100%|██████████| 3/3 [00:01<00:00,  1.72it/s]"
     ]
    },
    {
     "name": "stdout",
     "output_type": "stream",
     "text": [
      "                   all         73         74       0.83      0.757      0.805      0.632      0.888      0.716      0.795      0.537\n"
     ]
    },
    {
     "name": "stderr",
     "output_type": "stream",
     "text": [
      "\n"
     ]
    },
    {
     "name": "stdout",
     "output_type": "stream",
     "text": [
      "\n",
      "      Epoch    GPU_mem   box_loss   seg_loss   cls_loss   dfl_loss  Instances       Size\n"
     ]
    },
    {
     "name": "stderr",
     "output_type": "stream",
     "text": [
      "     55/100      2.79G     0.7882      1.538     0.7383      1.363         47        640: 100%|██████████| 48/48 [00:45<00:00,  1.06it/s]\n",
      "                 Class     Images  Instances      Box(P          R      mAP50  mAP50-95)     Mask(P          R      mAP50  mAP50-95): 100%|██████████| 3/3 [00:01<00:00,  1.72it/s]"
     ]
    },
    {
     "name": "stdout",
     "output_type": "stream",
     "text": [
      "                   all         73         74      0.918      0.757      0.837      0.668       0.89      0.767      0.833      0.576\n"
     ]
    },
    {
     "name": "stderr",
     "output_type": "stream",
     "text": [
      "\n"
     ]
    },
    {
     "name": "stdout",
     "output_type": "stream",
     "text": [
      "\n",
      "      Epoch    GPU_mem   box_loss   seg_loss   cls_loss   dfl_loss  Instances       Size\n"
     ]
    },
    {
     "name": "stderr",
     "output_type": "stream",
     "text": [
      "     56/100      2.69G     0.7916      1.501     0.7361      1.359         52        640: 100%|██████████| 48/48 [00:45<00:00,  1.06it/s]\n",
      "                 Class     Images  Instances      Box(P          R      mAP50  mAP50-95)     Mask(P          R      mAP50  mAP50-95): 100%|██████████| 3/3 [00:01<00:00,  1.72it/s]"
     ]
    },
    {
     "name": "stdout",
     "output_type": "stream",
     "text": [
      "                   all         73         74      0.857      0.797       0.84      0.643      0.853      0.797      0.829      0.545\n"
     ]
    },
    {
     "name": "stderr",
     "output_type": "stream",
     "text": [
      "\n"
     ]
    },
    {
     "name": "stdout",
     "output_type": "stream",
     "text": [
      "\n",
      "      Epoch    GPU_mem   box_loss   seg_loss   cls_loss   dfl_loss  Instances       Size\n"
     ]
    },
    {
     "name": "stderr",
     "output_type": "stream",
     "text": [
      "     57/100      2.81G     0.7768      1.458     0.7077      1.345         45        640: 100%|██████████| 48/48 [00:45<00:00,  1.06it/s]\n",
      "                 Class     Images  Instances      Box(P          R      mAP50  mAP50-95)     Mask(P          R      mAP50  mAP50-95): 100%|██████████| 3/3 [00:01<00:00,  1.73it/s]"
     ]
    },
    {
     "name": "stdout",
     "output_type": "stream",
     "text": [
      "                   all         73         74      0.888      0.757      0.829      0.644      0.888      0.757      0.808      0.545\n"
     ]
    },
    {
     "name": "stderr",
     "output_type": "stream",
     "text": [
      "\n"
     ]
    },
    {
     "name": "stdout",
     "output_type": "stream",
     "text": [
      "\n",
      "      Epoch    GPU_mem   box_loss   seg_loss   cls_loss   dfl_loss  Instances       Size\n"
     ]
    },
    {
     "name": "stderr",
     "output_type": "stream",
     "text": [
      "     58/100      2.65G     0.7771      1.464     0.6878       1.35         40        640: 100%|██████████| 48/48 [00:45<00:00,  1.06it/s]\n",
      "                 Class     Images  Instances      Box(P          R      mAP50  mAP50-95)     Mask(P          R      mAP50  mAP50-95): 100%|██████████| 3/3 [00:01<00:00,  1.73it/s]"
     ]
    },
    {
     "name": "stdout",
     "output_type": "stream",
     "text": [
      "                   all         73         74      0.908      0.757      0.847      0.651      0.801      0.818      0.826      0.556\n"
     ]
    },
    {
     "name": "stderr",
     "output_type": "stream",
     "text": [
      "\n"
     ]
    },
    {
     "name": "stdout",
     "output_type": "stream",
     "text": [
      "\n",
      "      Epoch    GPU_mem   box_loss   seg_loss   cls_loss   dfl_loss  Instances       Size\n"
     ]
    },
    {
     "name": "stderr",
     "output_type": "stream",
     "text": [
      "     59/100      2.67G     0.7628      1.486     0.7057       1.34         43        640: 100%|██████████| 48/48 [00:45<00:00,  1.06it/s]\n",
      "                 Class     Images  Instances      Box(P          R      mAP50  mAP50-95)     Mask(P          R      mAP50  mAP50-95): 100%|██████████| 3/3 [00:01<00:00,  1.73it/s]"
     ]
    },
    {
     "name": "stdout",
     "output_type": "stream",
     "text": [
      "                   all         73         74      0.905       0.73      0.841       0.66      0.799      0.797      0.827      0.572\n"
     ]
    },
    {
     "name": "stderr",
     "output_type": "stream",
     "text": [
      "\n"
     ]
    },
    {
     "name": "stdout",
     "output_type": "stream",
     "text": [
      "\n",
      "      Epoch    GPU_mem   box_loss   seg_loss   cls_loss   dfl_loss  Instances       Size\n"
     ]
    },
    {
     "name": "stderr",
     "output_type": "stream",
     "text": [
      "     60/100      2.68G     0.7682       1.46     0.7166      1.337         46        640: 100%|██████████| 48/48 [00:45<00:00,  1.06it/s]\n",
      "                 Class     Images  Instances      Box(P          R      mAP50  mAP50-95)     Mask(P          R      mAP50  mAP50-95): 100%|██████████| 3/3 [00:01<00:00,  1.71it/s]"
     ]
    },
    {
     "name": "stdout",
     "output_type": "stream",
     "text": [
      "                   all         73         74      0.907      0.793      0.856      0.655       0.89      0.784      0.836      0.573\n"
     ]
    },
    {
     "name": "stderr",
     "output_type": "stream",
     "text": [
      "\n"
     ]
    },
    {
     "name": "stdout",
     "output_type": "stream",
     "text": [
      "\n",
      "      Epoch    GPU_mem   box_loss   seg_loss   cls_loss   dfl_loss  Instances       Size\n"
     ]
    },
    {
     "name": "stderr",
     "output_type": "stream",
     "text": [
      "     61/100      2.81G     0.7718      1.467     0.7165       1.34         47        640: 100%|██████████| 48/48 [00:45<00:00,  1.06it/s]\n",
      "                 Class     Images  Instances      Box(P          R      mAP50  mAP50-95)     Mask(P          R      mAP50  mAP50-95): 100%|██████████| 3/3 [00:01<00:00,  1.71it/s]"
     ]
    },
    {
     "name": "stdout",
     "output_type": "stream",
     "text": [
      "                   all         73         74      0.946      0.703       0.84       0.62      0.886      0.757      0.819      0.532\n"
     ]
    },
    {
     "name": "stderr",
     "output_type": "stream",
     "text": [
      "\n"
     ]
    },
    {
     "name": "stdout",
     "output_type": "stream",
     "text": [
      "\n",
      "      Epoch    GPU_mem   box_loss   seg_loss   cls_loss   dfl_loss  Instances       Size\n"
     ]
    },
    {
     "name": "stderr",
     "output_type": "stream",
     "text": [
      "     62/100      2.69G     0.7606      1.444     0.6935      1.327         54        640: 100%|██████████| 48/48 [00:45<00:00,  1.06it/s]\n",
      "                 Class     Images  Instances      Box(P          R      mAP50  mAP50-95)     Mask(P          R      mAP50  mAP50-95): 100%|██████████| 3/3 [00:01<00:00,  1.72it/s]"
     ]
    },
    {
     "name": "stdout",
     "output_type": "stream",
     "text": [
      "                   all         73         74      0.901      0.811      0.851      0.651      0.885       0.77      0.834       0.56\n"
     ]
    },
    {
     "name": "stderr",
     "output_type": "stream",
     "text": [
      "\n"
     ]
    },
    {
     "name": "stdout",
     "output_type": "stream",
     "text": [
      "\n",
      "      Epoch    GPU_mem   box_loss   seg_loss   cls_loss   dfl_loss  Instances       Size\n"
     ]
    },
    {
     "name": "stderr",
     "output_type": "stream",
     "text": [
      "     63/100      2.67G     0.7582      1.465     0.6981      1.325         50        640: 100%|██████████| 48/48 [00:45<00:00,  1.06it/s]\n",
      "                 Class     Images  Instances      Box(P          R      mAP50  mAP50-95)     Mask(P          R      mAP50  mAP50-95): 100%|██████████| 3/3 [00:01<00:00,  1.72it/s]"
     ]
    },
    {
     "name": "stdout",
     "output_type": "stream",
     "text": [
      "                   all         73         74      0.926       0.77      0.846      0.644      0.813      0.821      0.834      0.572\n"
     ]
    },
    {
     "name": "stderr",
     "output_type": "stream",
     "text": [
      "\n"
     ]
    },
    {
     "name": "stdout",
     "output_type": "stream",
     "text": [
      "\n",
      "      Epoch    GPU_mem   box_loss   seg_loss   cls_loss   dfl_loss  Instances       Size\n"
     ]
    },
    {
     "name": "stderr",
     "output_type": "stream",
     "text": [
      "     64/100      2.67G     0.7355      1.463     0.6715      1.305         44        640: 100%|██████████| 48/48 [00:45<00:00,  1.06it/s]\n",
      "                 Class     Images  Instances      Box(P          R      mAP50  mAP50-95)     Mask(P          R      mAP50  mAP50-95): 100%|██████████| 3/3 [00:01<00:00,  1.71it/s]"
     ]
    },
    {
     "name": "stdout",
     "output_type": "stream",
     "text": [
      "                   all         73         74      0.868      0.811      0.852      0.651      0.908      0.805      0.839      0.561\n"
     ]
    },
    {
     "name": "stderr",
     "output_type": "stream",
     "text": [
      "\n"
     ]
    },
    {
     "name": "stdout",
     "output_type": "stream",
     "text": [
      "\n",
      "      Epoch    GPU_mem   box_loss   seg_loss   cls_loss   dfl_loss  Instances       Size\n"
     ]
    },
    {
     "name": "stderr",
     "output_type": "stream",
     "text": [
      "     65/100      2.69G     0.7464       1.44     0.6881       1.32         46        640: 100%|██████████| 48/48 [00:45<00:00,  1.06it/s]\n",
      "                 Class     Images  Instances      Box(P          R      mAP50  mAP50-95)     Mask(P          R      mAP50  mAP50-95): 100%|██████████| 3/3 [00:01<00:00,  1.72it/s]"
     ]
    },
    {
     "name": "stdout",
     "output_type": "stream",
     "text": [
      "                   all         73         74      0.805      0.839      0.832      0.624       0.78      0.817      0.808      0.549\n"
     ]
    },
    {
     "name": "stderr",
     "output_type": "stream",
     "text": [
      "\n"
     ]
    },
    {
     "name": "stdout",
     "output_type": "stream",
     "text": [
      "\n",
      "      Epoch    GPU_mem   box_loss   seg_loss   cls_loss   dfl_loss  Instances       Size\n"
     ]
    },
    {
     "name": "stderr",
     "output_type": "stream",
     "text": [
      "     66/100      2.67G     0.7354      1.403     0.6648      1.307         45        640: 100%|██████████| 48/48 [00:45<00:00,  1.06it/s]\n",
      "                 Class     Images  Instances      Box(P          R      mAP50  mAP50-95)     Mask(P          R      mAP50  mAP50-95): 100%|██████████| 3/3 [00:01<00:00,  1.72it/s]"
     ]
    },
    {
     "name": "stdout",
     "output_type": "stream",
     "text": [
      "                   all         73         74       0.88      0.797      0.842      0.663      0.863      0.784      0.826      0.582\n"
     ]
    },
    {
     "name": "stderr",
     "output_type": "stream",
     "text": [
      "\n"
     ]
    },
    {
     "name": "stdout",
     "output_type": "stream",
     "text": [
      "\n",
      "      Epoch    GPU_mem   box_loss   seg_loss   cls_loss   dfl_loss  Instances       Size\n"
     ]
    },
    {
     "name": "stderr",
     "output_type": "stream",
     "text": [
      "     67/100      2.65G     0.7391      1.465     0.6853      1.311         47        640: 100%|██████████| 48/48 [00:45<00:00,  1.06it/s]\n",
      "                 Class     Images  Instances      Box(P          R      mAP50  mAP50-95)     Mask(P          R      mAP50  mAP50-95): 100%|██████████| 3/3 [00:01<00:00,  1.73it/s]"
     ]
    },
    {
     "name": "stdout",
     "output_type": "stream",
     "text": [
      "                   all         73         74      0.903      0.797      0.853      0.657      0.877      0.784      0.834      0.563\n"
     ]
    },
    {
     "name": "stderr",
     "output_type": "stream",
     "text": [
      "\n"
     ]
    },
    {
     "name": "stdout",
     "output_type": "stream",
     "text": [
      "\n",
      "      Epoch    GPU_mem   box_loss   seg_loss   cls_loss   dfl_loss  Instances       Size\n"
     ]
    },
    {
     "name": "stderr",
     "output_type": "stream",
     "text": [
      "     68/100       2.7G     0.7384      1.442     0.6716      1.309         36        640: 100%|██████████| 48/48 [00:45<00:00,  1.06it/s]\n",
      "                 Class     Images  Instances      Box(P          R      mAP50  mAP50-95)     Mask(P          R      mAP50  mAP50-95): 100%|██████████| 3/3 [00:01<00:00,  1.71it/s]"
     ]
    },
    {
     "name": "stdout",
     "output_type": "stream",
     "text": [
      "                   all         73         74      0.878      0.811      0.854      0.676      0.862      0.797      0.839      0.595\n"
     ]
    },
    {
     "name": "stderr",
     "output_type": "stream",
     "text": [
      "\n"
     ]
    },
    {
     "name": "stdout",
     "output_type": "stream",
     "text": [
      "\n",
      "      Epoch    GPU_mem   box_loss   seg_loss   cls_loss   dfl_loss  Instances       Size\n"
     ]
    },
    {
     "name": "stderr",
     "output_type": "stream",
     "text": [
      "     69/100      2.69G     0.7089      1.387     0.6473      1.293         40        640: 100%|██████████| 48/48 [00:45<00:00,  1.06it/s]\n",
      "                 Class     Images  Instances      Box(P          R      mAP50  mAP50-95)     Mask(P          R      mAP50  mAP50-95): 100%|██████████| 3/3 [00:01<00:00,  1.73it/s]"
     ]
    },
    {
     "name": "stdout",
     "output_type": "stream",
     "text": [
      "                   all         73         74      0.923      0.808      0.858      0.648      0.907      0.794      0.828      0.545\n"
     ]
    },
    {
     "name": "stderr",
     "output_type": "stream",
     "text": [
      "\n"
     ]
    },
    {
     "name": "stdout",
     "output_type": "stream",
     "text": [
      "\n",
      "      Epoch    GPU_mem   box_loss   seg_loss   cls_loss   dfl_loss  Instances       Size\n"
     ]
    },
    {
     "name": "stderr",
     "output_type": "stream",
     "text": [
      "     70/100      2.67G     0.7306      1.406     0.6719      1.294         48        640: 100%|██████████| 48/48 [00:45<00:00,  1.06it/s]\n",
      "                 Class     Images  Instances      Box(P          R      mAP50  mAP50-95)     Mask(P          R      mAP50  mAP50-95): 100%|██████████| 3/3 [00:01<00:00,  1.72it/s]"
     ]
    },
    {
     "name": "stdout",
     "output_type": "stream",
     "text": [
      "                   all         73         74      0.974      0.797      0.868      0.651      0.917      0.797      0.851      0.571\n"
     ]
    },
    {
     "name": "stderr",
     "output_type": "stream",
     "text": [
      "\n"
     ]
    },
    {
     "name": "stdout",
     "output_type": "stream",
     "text": [
      "\n",
      "      Epoch    GPU_mem   box_loss   seg_loss   cls_loss   dfl_loss  Instances       Size\n"
     ]
    },
    {
     "name": "stderr",
     "output_type": "stream",
     "text": [
      "     71/100      2.67G     0.7335      1.418      0.662      1.314         47        640: 100%|██████████| 48/48 [00:45<00:00,  1.06it/s]\n",
      "                 Class     Images  Instances      Box(P          R      mAP50  mAP50-95)     Mask(P          R      mAP50  mAP50-95): 100%|██████████| 3/3 [00:01<00:00,  1.72it/s]"
     ]
    },
    {
     "name": "stdout",
     "output_type": "stream",
     "text": [
      "                   all         73         74      0.907      0.811      0.857      0.664      0.858      0.838      0.847      0.574\n"
     ]
    },
    {
     "name": "stderr",
     "output_type": "stream",
     "text": [
      "\n"
     ]
    },
    {
     "name": "stdout",
     "output_type": "stream",
     "text": [
      "\n",
      "      Epoch    GPU_mem   box_loss   seg_loss   cls_loss   dfl_loss  Instances       Size\n"
     ]
    },
    {
     "name": "stderr",
     "output_type": "stream",
     "text": [
      "     72/100      2.67G     0.7166      1.399     0.6532      1.293         52        640: 100%|██████████| 48/48 [00:45<00:00,  1.06it/s]\n",
      "                 Class     Images  Instances      Box(P          R      mAP50  mAP50-95)     Mask(P          R      mAP50  mAP50-95): 100%|██████████| 3/3 [00:01<00:00,  1.73it/s]"
     ]
    },
    {
     "name": "stdout",
     "output_type": "stream",
     "text": [
      "                   all         73         74      0.953      0.784      0.861      0.681      0.907      0.811      0.851      0.592\n"
     ]
    },
    {
     "name": "stderr",
     "output_type": "stream",
     "text": [
      "\n"
     ]
    },
    {
     "name": "stdout",
     "output_type": "stream",
     "text": [
      "\n",
      "      Epoch    GPU_mem   box_loss   seg_loss   cls_loss   dfl_loss  Instances       Size\n"
     ]
    },
    {
     "name": "stderr",
     "output_type": "stream",
     "text": [
      "     73/100      2.69G      0.736      1.386     0.6588      1.296         43        640: 100%|██████████| 48/48 [00:45<00:00,  1.06it/s]\n",
      "                 Class     Images  Instances      Box(P          R      mAP50  mAP50-95)     Mask(P          R      mAP50  mAP50-95): 100%|██████████| 3/3 [00:01<00:00,  1.73it/s]"
     ]
    },
    {
     "name": "stdout",
     "output_type": "stream",
     "text": [
      "                   all         73         74      0.906      0.811      0.858      0.667      0.882      0.809      0.843      0.575\n"
     ]
    },
    {
     "name": "stderr",
     "output_type": "stream",
     "text": [
      "\n"
     ]
    },
    {
     "name": "stdout",
     "output_type": "stream",
     "text": [
      "\n",
      "      Epoch    GPU_mem   box_loss   seg_loss   cls_loss   dfl_loss  Instances       Size\n"
     ]
    },
    {
     "name": "stderr",
     "output_type": "stream",
     "text": [
      "     74/100      2.69G     0.7208      1.407      0.675       1.29         49        640: 100%|██████████| 48/48 [00:45<00:00,  1.06it/s]\n",
      "                 Class     Images  Instances      Box(P          R      mAP50  mAP50-95)     Mask(P          R      mAP50  mAP50-95): 100%|██████████| 3/3 [00:01<00:00,  1.71it/s]"
     ]
    },
    {
     "name": "stdout",
     "output_type": "stream",
     "text": [
      "                   all         73         74      0.835      0.838      0.843      0.652      0.826      0.832      0.839      0.586\n"
     ]
    },
    {
     "name": "stderr",
     "output_type": "stream",
     "text": [
      "\n"
     ]
    },
    {
     "name": "stdout",
     "output_type": "stream",
     "text": [
      "\n",
      "      Epoch    GPU_mem   box_loss   seg_loss   cls_loss   dfl_loss  Instances       Size\n"
     ]
    },
    {
     "name": "stderr",
     "output_type": "stream",
     "text": [
      "     75/100      2.81G     0.7116      1.378     0.6445      1.284         42        640: 100%|██████████| 48/48 [00:45<00:00,  1.06it/s]\n",
      "                 Class     Images  Instances      Box(P          R      mAP50  mAP50-95)     Mask(P          R      mAP50  mAP50-95): 100%|██████████| 3/3 [00:01<00:00,  1.73it/s]"
     ]
    },
    {
     "name": "stdout",
     "output_type": "stream",
     "text": [
      "                   all         73         74      0.951      0.795      0.862      0.683      0.919      0.769      0.838      0.574\n"
     ]
    },
    {
     "name": "stderr",
     "output_type": "stream",
     "text": [
      "\n"
     ]
    },
    {
     "name": "stdout",
     "output_type": "stream",
     "text": [
      "\n",
      "      Epoch    GPU_mem   box_loss   seg_loss   cls_loss   dfl_loss  Instances       Size\n"
     ]
    },
    {
     "name": "stderr",
     "output_type": "stream",
     "text": [
      "     76/100      2.69G     0.7222      1.418     0.6322      1.294         54        640: 100%|██████████| 48/48 [00:45<00:00,  1.06it/s]\n",
      "                 Class     Images  Instances      Box(P          R      mAP50  mAP50-95)     Mask(P          R      mAP50  mAP50-95): 100%|██████████| 3/3 [00:01<00:00,  1.72it/s]"
     ]
    },
    {
     "name": "stdout",
     "output_type": "stream",
     "text": [
      "                   all         73         74      0.954      0.833      0.869      0.667      0.896      0.811      0.848       0.58\n"
     ]
    },
    {
     "name": "stderr",
     "output_type": "stream",
     "text": [
      "\n"
     ]
    },
    {
     "name": "stdout",
     "output_type": "stream",
     "text": [
      "\n",
      "      Epoch    GPU_mem   box_loss   seg_loss   cls_loss   dfl_loss  Instances       Size\n"
     ]
    },
    {
     "name": "stderr",
     "output_type": "stream",
     "text": [
      "     77/100      2.69G     0.7028       1.39     0.6349      1.285         42        640: 100%|██████████| 48/48 [00:45<00:00,  1.06it/s]\n",
      "                 Class     Images  Instances      Box(P          R      mAP50  mAP50-95)     Mask(P          R      mAP50  mAP50-95): 100%|██████████| 3/3 [00:01<00:00,  1.73it/s]"
     ]
    },
    {
     "name": "stdout",
     "output_type": "stream",
     "text": [
      "                   all         73         74      0.896      0.824      0.865      0.682      0.899      0.824      0.852      0.596\n"
     ]
    },
    {
     "name": "stderr",
     "output_type": "stream",
     "text": [
      "\n"
     ]
    },
    {
     "name": "stdout",
     "output_type": "stream",
     "text": [
      "\n",
      "      Epoch    GPU_mem   box_loss   seg_loss   cls_loss   dfl_loss  Instances       Size\n"
     ]
    },
    {
     "name": "stderr",
     "output_type": "stream",
     "text": [
      "     78/100      2.68G     0.7307      1.389     0.6509      1.312         51        640: 100%|██████████| 48/48 [00:45<00:00,  1.06it/s]\n",
      "                 Class     Images  Instances      Box(P          R      mAP50  mAP50-95)     Mask(P          R      mAP50  mAP50-95): 100%|██████████| 3/3 [00:01<00:00,  1.72it/s]"
     ]
    },
    {
     "name": "stdout",
     "output_type": "stream",
     "text": [
      "                   all         73         74      0.969      0.811      0.867      0.679        0.9      0.838      0.861       0.59\n"
     ]
    },
    {
     "name": "stderr",
     "output_type": "stream",
     "text": [
      "\n"
     ]
    },
    {
     "name": "stdout",
     "output_type": "stream",
     "text": [
      "\n",
      "      Epoch    GPU_mem   box_loss   seg_loss   cls_loss   dfl_loss  Instances       Size\n"
     ]
    },
    {
     "name": "stderr",
     "output_type": "stream",
     "text": [
      "     79/100      2.67G     0.6847      1.363     0.6279      1.268         51        640: 100%|██████████| 48/48 [00:45<00:00,  1.06it/s]\n",
      "                 Class     Images  Instances      Box(P          R      mAP50  mAP50-95)     Mask(P          R      mAP50  mAP50-95): 100%|██████████| 3/3 [00:01<00:00,  1.72it/s]"
     ]
    },
    {
     "name": "stdout",
     "output_type": "stream",
     "text": [
      "                   all         73         74       0.91      0.811      0.867      0.681      0.871      0.821      0.852      0.586\n"
     ]
    },
    {
     "name": "stderr",
     "output_type": "stream",
     "text": [
      "\n"
     ]
    },
    {
     "name": "stdout",
     "output_type": "stream",
     "text": [
      "\n",
      "      Epoch    GPU_mem   box_loss   seg_loss   cls_loss   dfl_loss  Instances       Size\n"
     ]
    },
    {
     "name": "stderr",
     "output_type": "stream",
     "text": [
      "     80/100      2.65G     0.7141      1.378     0.6308      1.292         46        640: 100%|██████████| 48/48 [00:45<00:00,  1.06it/s]\n",
      "                 Class     Images  Instances      Box(P          R      mAP50  mAP50-95)     Mask(P          R      mAP50  mAP50-95): 100%|██████████| 3/3 [00:01<00:00,  1.73it/s]"
     ]
    },
    {
     "name": "stdout",
     "output_type": "stream",
     "text": [
      "                   all         73         74      0.981      0.757      0.865      0.676      0.879      0.786      0.845      0.595\n"
     ]
    },
    {
     "name": "stderr",
     "output_type": "stream",
     "text": [
      "\n"
     ]
    },
    {
     "name": "stdout",
     "output_type": "stream",
     "text": [
      "\n",
      "      Epoch    GPU_mem   box_loss   seg_loss   cls_loss   dfl_loss  Instances       Size\n"
     ]
    },
    {
     "name": "stderr",
     "output_type": "stream",
     "text": [
      "     81/100      2.67G     0.7094      1.364      0.633      1.282         43        640: 100%|██████████| 48/48 [00:45<00:00,  1.06it/s]\n",
      "                 Class     Images  Instances      Box(P          R      mAP50  mAP50-95)     Mask(P          R      mAP50  mAP50-95): 100%|██████████| 3/3 [00:01<00:00,  1.73it/s]"
     ]
    },
    {
     "name": "stdout",
     "output_type": "stream",
     "text": [
      "                   all         73         74      0.946      0.838      0.871      0.697      0.915      0.811      0.852      0.598\n"
     ]
    },
    {
     "name": "stderr",
     "output_type": "stream",
     "text": [
      "\n"
     ]
    },
    {
     "name": "stdout",
     "output_type": "stream",
     "text": [
      "\n",
      "      Epoch    GPU_mem   box_loss   seg_loss   cls_loss   dfl_loss  Instances       Size\n"
     ]
    },
    {
     "name": "stderr",
     "output_type": "stream",
     "text": [
      "     82/100      2.67G     0.6915      1.398      0.627      1.273         48        640: 100%|██████████| 48/48 [00:45<00:00,  1.06it/s]\n",
      "                 Class     Images  Instances      Box(P          R      mAP50  mAP50-95)     Mask(P          R      mAP50  mAP50-95): 100%|██████████| 3/3 [00:01<00:00,  1.73it/s]"
     ]
    },
    {
     "name": "stdout",
     "output_type": "stream",
     "text": [
      "                   all         73         74      0.941      0.861      0.873      0.689      0.912      0.836      0.858       0.59\n"
     ]
    },
    {
     "name": "stderr",
     "output_type": "stream",
     "text": [
      "\n"
     ]
    },
    {
     "name": "stdout",
     "output_type": "stream",
     "text": [
      "\n",
      "      Epoch    GPU_mem   box_loss   seg_loss   cls_loss   dfl_loss  Instances       Size\n"
     ]
    },
    {
     "name": "stderr",
     "output_type": "stream",
     "text": [
      "     83/100      2.81G     0.6955      1.381     0.6028      1.273         49        640: 100%|██████████| 48/48 [00:45<00:00,  1.06it/s]\n",
      "                 Class     Images  Instances      Box(P          R      mAP50  mAP50-95)     Mask(P          R      mAP50  mAP50-95): 100%|██████████| 3/3 [00:01<00:00,  1.74it/s]"
     ]
    },
    {
     "name": "stdout",
     "output_type": "stream",
     "text": [
      "                   all         73         74      0.901      0.865      0.869      0.685      0.871      0.838      0.843      0.575\n"
     ]
    },
    {
     "name": "stderr",
     "output_type": "stream",
     "text": [
      "\n"
     ]
    },
    {
     "name": "stdout",
     "output_type": "stream",
     "text": [
      "\n",
      "      Epoch    GPU_mem   box_loss   seg_loss   cls_loss   dfl_loss  Instances       Size\n"
     ]
    },
    {
     "name": "stderr",
     "output_type": "stream",
     "text": [
      "     84/100      2.67G     0.6983      1.401     0.6146      1.276         44        640: 100%|██████████| 48/48 [00:45<00:00,  1.06it/s]\n",
      "                 Class     Images  Instances      Box(P          R      mAP50  mAP50-95)     Mask(P          R      mAP50  mAP50-95): 100%|██████████| 3/3 [00:01<00:00,  1.73it/s]"
     ]
    },
    {
     "name": "stdout",
     "output_type": "stream",
     "text": [
      "                   all         73         74      0.907      0.784      0.856      0.681      0.891       0.77      0.837       0.59\n"
     ]
    },
    {
     "name": "stderr",
     "output_type": "stream",
     "text": [
      "\n"
     ]
    },
    {
     "name": "stdout",
     "output_type": "stream",
     "text": [
      "\n",
      "      Epoch    GPU_mem   box_loss   seg_loss   cls_loss   dfl_loss  Instances       Size\n"
     ]
    },
    {
     "name": "stderr",
     "output_type": "stream",
     "text": [
      "     85/100      2.67G     0.6723      1.345     0.6124      1.256         48        640: 100%|██████████| 48/48 [00:45<00:00,  1.06it/s]\n",
      "                 Class     Images  Instances      Box(P          R      mAP50  mAP50-95)     Mask(P          R      mAP50  mAP50-95): 100%|██████████| 3/3 [00:01<00:00,  1.73it/s]"
     ]
    },
    {
     "name": "stdout",
     "output_type": "stream",
     "text": [
      "                   all         73         74      0.938      0.813      0.863       0.69      0.907      0.786      0.845      0.591\n"
     ]
    },
    {
     "name": "stderr",
     "output_type": "stream",
     "text": [
      "\n"
     ]
    },
    {
     "name": "stdout",
     "output_type": "stream",
     "text": [
      "\n",
      "      Epoch    GPU_mem   box_loss   seg_loss   cls_loss   dfl_loss  Instances       Size\n"
     ]
    },
    {
     "name": "stderr",
     "output_type": "stream",
     "text": [
      "     86/100      2.79G     0.6717       1.34     0.6004      1.252         46        640: 100%|██████████| 48/48 [00:45<00:00,  1.06it/s]\n",
      "                 Class     Images  Instances      Box(P          R      mAP50  mAP50-95)     Mask(P          R      mAP50  mAP50-95): 100%|██████████| 3/3 [00:01<00:00,  1.73it/s]"
     ]
    },
    {
     "name": "stdout",
     "output_type": "stream",
     "text": [
      "                   all         73         74      0.983      0.805      0.874      0.695       0.95      0.778      0.858      0.594\n"
     ]
    },
    {
     "name": "stderr",
     "output_type": "stream",
     "text": [
      "\n"
     ]
    },
    {
     "name": "stdout",
     "output_type": "stream",
     "text": [
      "\n",
      "      Epoch    GPU_mem   box_loss   seg_loss   cls_loss   dfl_loss  Instances       Size\n"
     ]
    },
    {
     "name": "stderr",
     "output_type": "stream",
     "text": [
      "     87/100      2.67G     0.6766      1.311     0.5971      1.265         46        640: 100%|██████████| 48/48 [00:45<00:00,  1.06it/s]\n",
      "                 Class     Images  Instances      Box(P          R      mAP50  mAP50-95)     Mask(P          R      mAP50  mAP50-95): 100%|██████████| 3/3 [00:01<00:00,  1.73it/s]"
     ]
    },
    {
     "name": "stdout",
     "output_type": "stream",
     "text": [
      "                   all         73         74        0.9      0.854      0.871      0.677      0.872      0.827      0.845      0.581\n"
     ]
    },
    {
     "name": "stderr",
     "output_type": "stream",
     "text": [
      "\n"
     ]
    },
    {
     "name": "stdout",
     "output_type": "stream",
     "text": [
      "\n",
      "      Epoch    GPU_mem   box_loss   seg_loss   cls_loss   dfl_loss  Instances       Size\n"
     ]
    },
    {
     "name": "stderr",
     "output_type": "stream",
     "text": [
      "     88/100      2.69G     0.6689      1.317     0.6145      1.256         41        640: 100%|██████████| 48/48 [00:45<00:00,  1.06it/s]\n",
      "                 Class     Images  Instances      Box(P          R      mAP50  mAP50-95)     Mask(P          R      mAP50  mAP50-95): 100%|██████████| 3/3 [00:01<00:00,  1.73it/s]"
     ]
    },
    {
     "name": "stdout",
     "output_type": "stream",
     "text": [
      "                   all         73         74       0.95      0.838      0.869      0.693      0.919      0.811      0.848      0.591\n"
     ]
    },
    {
     "name": "stderr",
     "output_type": "stream",
     "text": [
      "\n"
     ]
    },
    {
     "name": "stdout",
     "output_type": "stream",
     "text": [
      "\n",
      "      Epoch    GPU_mem   box_loss   seg_loss   cls_loss   dfl_loss  Instances       Size\n"
     ]
    },
    {
     "name": "stderr",
     "output_type": "stream",
     "text": [
      "     89/100      2.67G     0.6728        1.3     0.6043      1.257         45        640: 100%|██████████| 48/48 [00:45<00:00,  1.06it/s]\n",
      "                 Class     Images  Instances      Box(P          R      mAP50  mAP50-95)     Mask(P          R      mAP50  mAP50-95): 100%|██████████| 3/3 [00:01<00:00,  1.70it/s]"
     ]
    },
    {
     "name": "stdout",
     "output_type": "stream",
     "text": [
      "                   all         73         74       0.96      0.811      0.868       0.69      0.903      0.811      0.848      0.586\n"
     ]
    },
    {
     "name": "stderr",
     "output_type": "stream",
     "text": [
      "\n"
     ]
    },
    {
     "name": "stdout",
     "output_type": "stream",
     "text": [
      "\n",
      "      Epoch    GPU_mem   box_loss   seg_loss   cls_loss   dfl_loss  Instances       Size\n"
     ]
    },
    {
     "name": "stderr",
     "output_type": "stream",
     "text": [
      "     90/100      2.68G     0.6703      1.308     0.5971      1.262         44        640: 100%|██████████| 48/48 [00:45<00:00,  1.06it/s]\n",
      "                 Class     Images  Instances      Box(P          R      mAP50  mAP50-95)     Mask(P          R      mAP50  mAP50-95): 100%|██████████| 3/3 [00:01<00:00,  1.70it/s]"
     ]
    },
    {
     "name": "stdout",
     "output_type": "stream",
     "text": [
      "                   all         73         74      0.938      0.838      0.869      0.697      0.907      0.811      0.862      0.598\n"
     ]
    },
    {
     "name": "stderr",
     "output_type": "stream",
     "text": [
      "\n"
     ]
    },
    {
     "name": "stdout",
     "output_type": "stream",
     "text": [
      "Closing dataloader mosaic\n",
      "\n",
      "      Epoch    GPU_mem   box_loss   seg_loss   cls_loss   dfl_loss  Instances       Size\n"
     ]
    },
    {
     "name": "stderr",
     "output_type": "stream",
     "text": [
      "     91/100       2.6G     0.5471      1.177     0.6568      1.263         16        640: 100%|██████████| 48/48 [00:45<00:00,  1.06it/s]\n",
      "                 Class     Images  Instances      Box(P          R      mAP50  mAP50-95)     Mask(P          R      mAP50  mAP50-95): 100%|██████████| 3/3 [00:01<00:00,  1.72it/s]"
     ]
    },
    {
     "name": "stdout",
     "output_type": "stream",
     "text": [
      "                   all         73         74      0.984      0.832      0.871      0.702      0.952      0.805      0.857      0.605\n"
     ]
    },
    {
     "name": "stderr",
     "output_type": "stream",
     "text": [
      "\n"
     ]
    },
    {
     "name": "stdout",
     "output_type": "stream",
     "text": [
      "\n",
      "      Epoch    GPU_mem   box_loss   seg_loss   cls_loss   dfl_loss  Instances       Size\n"
     ]
    },
    {
     "name": "stderr",
     "output_type": "stream",
     "text": [
      "     92/100       2.6G     0.5234      1.166      0.523      1.274         16        640: 100%|██████████| 48/48 [00:44<00:00,  1.08it/s]\n",
      "                 Class     Images  Instances      Box(P          R      mAP50  mAP50-95)     Mask(P          R      mAP50  mAP50-95): 100%|██████████| 3/3 [00:01<00:00,  1.73it/s]"
     ]
    },
    {
     "name": "stdout",
     "output_type": "stream",
     "text": [
      "                   all         73         74      0.954      0.832      0.874      0.708      0.923      0.807      0.861      0.602\n"
     ]
    },
    {
     "name": "stderr",
     "output_type": "stream",
     "text": [
      "\n"
     ]
    },
    {
     "name": "stdout",
     "output_type": "stream",
     "text": [
      "\n",
      "      Epoch    GPU_mem   box_loss   seg_loss   cls_loss   dfl_loss  Instances       Size\n"
     ]
    },
    {
     "name": "stderr",
     "output_type": "stream",
     "text": [
      "     93/100       2.6G      0.494       1.15     0.4759      1.255         16        640: 100%|██████████| 48/48 [00:44<00:00,  1.08it/s]\n",
      "                 Class     Images  Instances      Box(P          R      mAP50  mAP50-95)     Mask(P          R      mAP50  mAP50-95): 100%|██████████| 3/3 [00:01<00:00,  1.73it/s]"
     ]
    },
    {
     "name": "stdout",
     "output_type": "stream",
     "text": [
      "                   all         73         74      0.975      0.838       0.88      0.716      0.927      0.797      0.864      0.601\n"
     ]
    },
    {
     "name": "stderr",
     "output_type": "stream",
     "text": [
      "\n"
     ]
    },
    {
     "name": "stdout",
     "output_type": "stream",
     "text": [
      "\n",
      "      Epoch    GPU_mem   box_loss   seg_loss   cls_loss   dfl_loss  Instances       Size\n"
     ]
    },
    {
     "name": "stderr",
     "output_type": "stream",
     "text": [
      "     94/100       2.6G     0.5107      1.155     0.5015      1.269         16        640: 100%|██████████| 48/48 [00:44<00:00,  1.08it/s]\n",
      "                 Class     Images  Instances      Box(P          R      mAP50  mAP50-95)     Mask(P          R      mAP50  mAP50-95): 100%|██████████| 3/3 [00:01<00:00,  1.73it/s]"
     ]
    },
    {
     "name": "stdout",
     "output_type": "stream",
     "text": [
      "                   all         73         74      0.929      0.851      0.878      0.714      0.898      0.824      0.866      0.621\n"
     ]
    },
    {
     "name": "stderr",
     "output_type": "stream",
     "text": [
      "\n"
     ]
    },
    {
     "name": "stdout",
     "output_type": "stream",
     "text": [
      "\n",
      "      Epoch    GPU_mem   box_loss   seg_loss   cls_loss   dfl_loss  Instances       Size\n"
     ]
    },
    {
     "name": "stderr",
     "output_type": "stream",
     "text": [
      "     95/100      2.74G     0.4984      1.132     0.4886      1.233         16        640: 100%|██████████| 48/48 [00:44<00:00,  1.08it/s]\n",
      "                 Class     Images  Instances      Box(P          R      mAP50  mAP50-95)     Mask(P          R      mAP50  mAP50-95): 100%|██████████| 3/3 [00:01<00:00,  1.72it/s]"
     ]
    },
    {
     "name": "stdout",
     "output_type": "stream",
     "text": [
      "                   all         73         74       0.98      0.811      0.877      0.712      0.947      0.784      0.859      0.614\n"
     ]
    },
    {
     "name": "stderr",
     "output_type": "stream",
     "text": [
      "\n"
     ]
    },
    {
     "name": "stdout",
     "output_type": "stream",
     "text": [
      "\n",
      "      Epoch    GPU_mem   box_loss   seg_loss   cls_loss   dfl_loss  Instances       Size\n"
     ]
    },
    {
     "name": "stderr",
     "output_type": "stream",
     "text": [
      "     96/100       2.6G     0.5041      1.104     0.4748      1.257         16        640: 100%|██████████| 48/48 [00:44<00:00,  1.08it/s]\n",
      "                 Class     Images  Instances      Box(P          R      mAP50  mAP50-95)     Mask(P          R      mAP50  mAP50-95): 100%|██████████| 3/3 [00:01<00:00,  1.73it/s]"
     ]
    },
    {
     "name": "stdout",
     "output_type": "stream",
     "text": [
      "                   all         73         74      0.984      0.848      0.881      0.709      0.943      0.838      0.869      0.623\n"
     ]
    },
    {
     "name": "stderr",
     "output_type": "stream",
     "text": [
      "\n"
     ]
    },
    {
     "name": "stdout",
     "output_type": "stream",
     "text": [
      "\n",
      "      Epoch    GPU_mem   box_loss   seg_loss   cls_loss   dfl_loss  Instances       Size\n"
     ]
    },
    {
     "name": "stderr",
     "output_type": "stream",
     "text": [
      "     97/100       2.6G     0.5051      1.146      0.469      1.258         16        640: 100%|██████████| 48/48 [00:44<00:00,  1.08it/s]\n",
      "                 Class     Images  Instances      Box(P          R      mAP50  mAP50-95)     Mask(P          R      mAP50  mAP50-95): 100%|██████████| 3/3 [00:01<00:00,  1.73it/s]"
     ]
    },
    {
     "name": "stdout",
     "output_type": "stream",
     "text": [
      "                   all         73         74      0.982      0.838      0.881      0.723      0.914      0.859      0.869      0.626\n"
     ]
    },
    {
     "name": "stderr",
     "output_type": "stream",
     "text": [
      "\n"
     ]
    },
    {
     "name": "stdout",
     "output_type": "stream",
     "text": [
      "\n",
      "      Epoch    GPU_mem   box_loss   seg_loss   cls_loss   dfl_loss  Instances       Size\n"
     ]
    },
    {
     "name": "stderr",
     "output_type": "stream",
     "text": [
      "     98/100       2.6G     0.4908      1.099     0.4637      1.234         16        640: 100%|██████████| 48/48 [00:44<00:00,  1.08it/s]\n",
      "                 Class     Images  Instances      Box(P          R      mAP50  mAP50-95)     Mask(P          R      mAP50  mAP50-95): 100%|██████████| 3/3 [00:01<00:00,  1.73it/s]"
     ]
    },
    {
     "name": "stdout",
     "output_type": "stream",
     "text": [
      "                   all         73         74      0.955      0.838      0.881      0.725      0.939      0.824      0.867      0.623\n"
     ]
    },
    {
     "name": "stderr",
     "output_type": "stream",
     "text": [
      "\n"
     ]
    },
    {
     "name": "stdout",
     "output_type": "stream",
     "text": [
      "\n",
      "      Epoch    GPU_mem   box_loss   seg_loss   cls_loss   dfl_loss  Instances       Size\n"
     ]
    },
    {
     "name": "stderr",
     "output_type": "stream",
     "text": [
      "     99/100       2.6G     0.4735      1.092     0.4584       1.23         16        640: 100%|██████████| 48/48 [00:44<00:00,  1.08it/s]\n",
      "                 Class     Images  Instances      Box(P          R      mAP50  mAP50-95)     Mask(P          R      mAP50  mAP50-95): 100%|██████████| 3/3 [00:01<00:00,  1.73it/s]"
     ]
    },
    {
     "name": "stdout",
     "output_type": "stream",
     "text": [
      "                   all         73         74      0.982      0.838      0.881      0.729      0.953      0.821      0.869      0.624\n"
     ]
    },
    {
     "name": "stderr",
     "output_type": "stream",
     "text": [
      "\n"
     ]
    },
    {
     "name": "stdout",
     "output_type": "stream",
     "text": [
      "\n",
      "      Epoch    GPU_mem   box_loss   seg_loss   cls_loss   dfl_loss  Instances       Size\n"
     ]
    },
    {
     "name": "stderr",
     "output_type": "stream",
     "text": [
      "    100/100       2.6G     0.4703      1.071      0.443      1.217         16        640: 100%|██████████| 48/48 [00:44<00:00,  1.07it/s]\n",
      "                 Class     Images  Instances      Box(P          R      mAP50  mAP50-95)     Mask(P          R      mAP50  mAP50-95): 100%|██████████| 3/3 [00:01<00:00,  1.72it/s]"
     ]
    },
    {
     "name": "stdout",
     "output_type": "stream",
     "text": [
      "                   all         73         74      0.984      0.849      0.881      0.727      0.953      0.824      0.868      0.624\n"
     ]
    },
    {
     "name": "stderr",
     "output_type": "stream",
     "text": [
      "\n"
     ]
    },
    {
     "name": "stdout",
     "output_type": "stream",
     "text": [
      "\n",
      "100 epochs completed in 1.328 hours.\n",
      "Optimizer stripped from c:\\Users\\PC\\Documents\\YOLO\\runs\\segment\\train11\\weights\\last.pt, 6.8MB\n",
      "Optimizer stripped from c:\\Users\\PC\\Documents\\YOLO\\runs\\segment\\train11\\weights\\best.pt, 6.8MB\n",
      "\n",
      "Validating c:\\Users\\PC\\Documents\\YOLO\\runs\\segment\\train11\\weights\\best.pt...\n",
      "Ultralytics YOLOv8.2.2  Python-3.9.13 torch-2.2.2+cu118 CUDA:0 (NVIDIA GeForce GTX 1660 SUPER, 6144MiB)\n",
      "YOLOv8n-seg summary (fused): 195 layers, 3258259 parameters, 0 gradients, 12.0 GFLOPs\n"
     ]
    },
    {
     "name": "stderr",
     "output_type": "stream",
     "text": [
      "                 Class     Images  Instances      Box(P          R      mAP50  mAP50-95)     Mask(P          R      mAP50  mAP50-95): 100%|██████████| 3/3 [00:02<00:00,  1.44it/s]\n"
     ]
    },
    {
     "name": "stdout",
     "output_type": "stream",
     "text": [
      "                   all         73         74      0.982      0.838      0.881      0.729      0.953      0.821      0.869      0.624\n",
      "Speed: 0.2ms preprocess, 18.0ms inference, 0.0ms loss, 1.4ms postprocess per image\n",
      "Results saved to \u001b[1mc:\\Users\\PC\\Documents\\YOLO\\runs\\segment\\train11\u001b[0m\n"
     ]
    },
    {
     "data": {
      "text/plain": [
       "ultralytics.utils.metrics.SegmentMetrics object with attributes:\n",
       "\n",
       "ap_class_index: array([0])\n",
       "box: ultralytics.utils.metrics.Metric object\n",
       "confusion_matrix: <ultralytics.utils.metrics.ConfusionMatrix object at 0x000001ED3A92B910>\n",
       "curves: ['Precision-Recall(B)', 'F1-Confidence(B)', 'Precision-Confidence(B)', 'Recall-Confidence(B)', 'Precision-Recall(M)', 'F1-Confidence(M)', 'Precision-Confidence(M)', 'Recall-Confidence(M)']\n",
       "curves_results: [[array([          0,    0.001001,    0.002002,    0.003003,    0.004004,    0.005005,    0.006006,    0.007007,    0.008008,    0.009009,     0.01001,    0.011011,    0.012012,    0.013013,    0.014014,    0.015015,    0.016016,    0.017017,    0.018018,    0.019019,     0.02002,    0.021021,    0.022022,    0.023023,\n",
       "          0.024024,    0.025025,    0.026026,    0.027027,    0.028028,    0.029029,     0.03003,    0.031031,    0.032032,    0.033033,    0.034034,    0.035035,    0.036036,    0.037037,    0.038038,    0.039039,     0.04004,    0.041041,    0.042042,    0.043043,    0.044044,    0.045045,    0.046046,    0.047047,\n",
       "          0.048048,    0.049049,     0.05005,    0.051051,    0.052052,    0.053053,    0.054054,    0.055055,    0.056056,    0.057057,    0.058058,    0.059059,     0.06006,    0.061061,    0.062062,    0.063063,    0.064064,    0.065065,    0.066066,    0.067067,    0.068068,    0.069069,     0.07007,    0.071071,\n",
       "          0.072072,    0.073073,    0.074074,    0.075075,    0.076076,    0.077077,    0.078078,    0.079079,     0.08008,    0.081081,    0.082082,    0.083083,    0.084084,    0.085085,    0.086086,    0.087087,    0.088088,    0.089089,     0.09009,    0.091091,    0.092092,    0.093093,    0.094094,    0.095095,\n",
       "          0.096096,    0.097097,    0.098098,    0.099099,      0.1001,      0.1011,      0.1021,      0.1031,      0.1041,     0.10511,     0.10611,     0.10711,     0.10811,     0.10911,     0.11011,     0.11111,     0.11211,     0.11311,     0.11411,     0.11512,     0.11612,     0.11712,     0.11812,     0.11912,\n",
       "           0.12012,     0.12112,     0.12212,     0.12312,     0.12412,     0.12513,     0.12613,     0.12713,     0.12813,     0.12913,     0.13013,     0.13113,     0.13213,     0.13313,     0.13413,     0.13514,     0.13614,     0.13714,     0.13814,     0.13914,     0.14014,     0.14114,     0.14214,     0.14314,\n",
       "           0.14414,     0.14515,     0.14615,     0.14715,     0.14815,     0.14915,     0.15015,     0.15115,     0.15215,     0.15315,     0.15415,     0.15516,     0.15616,     0.15716,     0.15816,     0.15916,     0.16016,     0.16116,     0.16216,     0.16316,     0.16416,     0.16517,     0.16617,     0.16717,\n",
       "           0.16817,     0.16917,     0.17017,     0.17117,     0.17217,     0.17317,     0.17417,     0.17518,     0.17618,     0.17718,     0.17818,     0.17918,     0.18018,     0.18118,     0.18218,     0.18318,     0.18418,     0.18519,     0.18619,     0.18719,     0.18819,     0.18919,     0.19019,     0.19119,\n",
       "           0.19219,     0.19319,     0.19419,      0.1952,      0.1962,      0.1972,      0.1982,      0.1992,      0.2002,      0.2012,      0.2022,      0.2032,      0.2042,     0.20521,     0.20621,     0.20721,     0.20821,     0.20921,     0.21021,     0.21121,     0.21221,     0.21321,     0.21421,     0.21522,\n",
       "           0.21622,     0.21722,     0.21822,     0.21922,     0.22022,     0.22122,     0.22222,     0.22322,     0.22422,     0.22523,     0.22623,     0.22723,     0.22823,     0.22923,     0.23023,     0.23123,     0.23223,     0.23323,     0.23423,     0.23524,     0.23624,     0.23724,     0.23824,     0.23924,\n",
       "           0.24024,     0.24124,     0.24224,     0.24324,     0.24424,     0.24525,     0.24625,     0.24725,     0.24825,     0.24925,     0.25025,     0.25125,     0.25225,     0.25325,     0.25425,     0.25526,     0.25626,     0.25726,     0.25826,     0.25926,     0.26026,     0.26126,     0.26226,     0.26326,\n",
       "           0.26426,     0.26527,     0.26627,     0.26727,     0.26827,     0.26927,     0.27027,     0.27127,     0.27227,     0.27327,     0.27427,     0.27528,     0.27628,     0.27728,     0.27828,     0.27928,     0.28028,     0.28128,     0.28228,     0.28328,     0.28428,     0.28529,     0.28629,     0.28729,\n",
       "           0.28829,     0.28929,     0.29029,     0.29129,     0.29229,     0.29329,     0.29429,      0.2953,      0.2963,      0.2973,      0.2983,      0.2993,      0.3003,      0.3013,      0.3023,      0.3033,      0.3043,     0.30531,     0.30631,     0.30731,     0.30831,     0.30931,     0.31031,     0.31131,\n",
       "           0.31231,     0.31331,     0.31431,     0.31532,     0.31632,     0.31732,     0.31832,     0.31932,     0.32032,     0.32132,     0.32232,     0.32332,     0.32432,     0.32533,     0.32633,     0.32733,     0.32833,     0.32933,     0.33033,     0.33133,     0.33233,     0.33333,     0.33433,     0.33534,\n",
       "           0.33634,     0.33734,     0.33834,     0.33934,     0.34034,     0.34134,     0.34234,     0.34334,     0.34434,     0.34535,     0.34635,     0.34735,     0.34835,     0.34935,     0.35035,     0.35135,     0.35235,     0.35335,     0.35435,     0.35536,     0.35636,     0.35736,     0.35836,     0.35936,\n",
       "           0.36036,     0.36136,     0.36236,     0.36336,     0.36436,     0.36537,     0.36637,     0.36737,     0.36837,     0.36937,     0.37037,     0.37137,     0.37237,     0.37337,     0.37437,     0.37538,     0.37638,     0.37738,     0.37838,     0.37938,     0.38038,     0.38138,     0.38238,     0.38338,\n",
       "           0.38438,     0.38539,     0.38639,     0.38739,     0.38839,     0.38939,     0.39039,     0.39139,     0.39239,     0.39339,     0.39439,      0.3954,      0.3964,      0.3974,      0.3984,      0.3994,      0.4004,      0.4014,      0.4024,      0.4034,      0.4044,     0.40541,     0.40641,     0.40741,\n",
       "           0.40841,     0.40941,     0.41041,     0.41141,     0.41241,     0.41341,     0.41441,     0.41542,     0.41642,     0.41742,     0.41842,     0.41942,     0.42042,     0.42142,     0.42242,     0.42342,     0.42442,     0.42543,     0.42643,     0.42743,     0.42843,     0.42943,     0.43043,     0.43143,\n",
       "           0.43243,     0.43343,     0.43443,     0.43544,     0.43644,     0.43744,     0.43844,     0.43944,     0.44044,     0.44144,     0.44244,     0.44344,     0.44444,     0.44545,     0.44645,     0.44745,     0.44845,     0.44945,     0.45045,     0.45145,     0.45245,     0.45345,     0.45445,     0.45546,\n",
       "           0.45646,     0.45746,     0.45846,     0.45946,     0.46046,     0.46146,     0.46246,     0.46346,     0.46446,     0.46547,     0.46647,     0.46747,     0.46847,     0.46947,     0.47047,     0.47147,     0.47247,     0.47347,     0.47447,     0.47548,     0.47648,     0.47748,     0.47848,     0.47948,\n",
       "           0.48048,     0.48148,     0.48248,     0.48348,     0.48448,     0.48549,     0.48649,     0.48749,     0.48849,     0.48949,     0.49049,     0.49149,     0.49249,     0.49349,     0.49449,      0.4955,      0.4965,      0.4975,      0.4985,      0.4995,      0.5005,      0.5015,      0.5025,      0.5035,\n",
       "            0.5045,     0.50551,     0.50651,     0.50751,     0.50851,     0.50951,     0.51051,     0.51151,     0.51251,     0.51351,     0.51451,     0.51552,     0.51652,     0.51752,     0.51852,     0.51952,     0.52052,     0.52152,     0.52252,     0.52352,     0.52452,     0.52553,     0.52653,     0.52753,\n",
       "           0.52853,     0.52953,     0.53053,     0.53153,     0.53253,     0.53353,     0.53453,     0.53554,     0.53654,     0.53754,     0.53854,     0.53954,     0.54054,     0.54154,     0.54254,     0.54354,     0.54454,     0.54555,     0.54655,     0.54755,     0.54855,     0.54955,     0.55055,     0.55155,\n",
       "           0.55255,     0.55355,     0.55455,     0.55556,     0.55656,     0.55756,     0.55856,     0.55956,     0.56056,     0.56156,     0.56256,     0.56356,     0.56456,     0.56557,     0.56657,     0.56757,     0.56857,     0.56957,     0.57057,     0.57157,     0.57257,     0.57357,     0.57457,     0.57558,\n",
       "           0.57658,     0.57758,     0.57858,     0.57958,     0.58058,     0.58158,     0.58258,     0.58358,     0.58458,     0.58559,     0.58659,     0.58759,     0.58859,     0.58959,     0.59059,     0.59159,     0.59259,     0.59359,     0.59459,      0.5956,      0.5966,      0.5976,      0.5986,      0.5996,\n",
       "            0.6006,      0.6016,      0.6026,      0.6036,      0.6046,     0.60561,     0.60661,     0.60761,     0.60861,     0.60961,     0.61061,     0.61161,     0.61261,     0.61361,     0.61461,     0.61562,     0.61662,     0.61762,     0.61862,     0.61962,     0.62062,     0.62162,     0.62262,     0.62362,\n",
       "           0.62462,     0.62563,     0.62663,     0.62763,     0.62863,     0.62963,     0.63063,     0.63163,     0.63263,     0.63363,     0.63463,     0.63564,     0.63664,     0.63764,     0.63864,     0.63964,     0.64064,     0.64164,     0.64264,     0.64364,     0.64464,     0.64565,     0.64665,     0.64765,\n",
       "           0.64865,     0.64965,     0.65065,     0.65165,     0.65265,     0.65365,     0.65465,     0.65566,     0.65666,     0.65766,     0.65866,     0.65966,     0.66066,     0.66166,     0.66266,     0.66366,     0.66466,     0.66567,     0.66667,     0.66767,     0.66867,     0.66967,     0.67067,     0.67167,\n",
       "           0.67267,     0.67367,     0.67467,     0.67568,     0.67668,     0.67768,     0.67868,     0.67968,     0.68068,     0.68168,     0.68268,     0.68368,     0.68468,     0.68569,     0.68669,     0.68769,     0.68869,     0.68969,     0.69069,     0.69169,     0.69269,     0.69369,     0.69469,      0.6957,\n",
       "            0.6967,      0.6977,      0.6987,      0.6997,      0.7007,      0.7017,      0.7027,      0.7037,      0.7047,     0.70571,     0.70671,     0.70771,     0.70871,     0.70971,     0.71071,     0.71171,     0.71271,     0.71371,     0.71471,     0.71572,     0.71672,     0.71772,     0.71872,     0.71972,\n",
       "           0.72072,     0.72172,     0.72272,     0.72372,     0.72472,     0.72573,     0.72673,     0.72773,     0.72873,     0.72973,     0.73073,     0.73173,     0.73273,     0.73373,     0.73473,     0.73574,     0.73674,     0.73774,     0.73874,     0.73974,     0.74074,     0.74174,     0.74274,     0.74374,\n",
       "           0.74474,     0.74575,     0.74675,     0.74775,     0.74875,     0.74975,     0.75075,     0.75175,     0.75275,     0.75375,     0.75475,     0.75576,     0.75676,     0.75776,     0.75876,     0.75976,     0.76076,     0.76176,     0.76276,     0.76376,     0.76476,     0.76577,     0.76677,     0.76777,\n",
       "           0.76877,     0.76977,     0.77077,     0.77177,     0.77277,     0.77377,     0.77477,     0.77578,     0.77678,     0.77778,     0.77878,     0.77978,     0.78078,     0.78178,     0.78278,     0.78378,     0.78478,     0.78579,     0.78679,     0.78779,     0.78879,     0.78979,     0.79079,     0.79179,\n",
       "           0.79279,     0.79379,     0.79479,      0.7958,      0.7968,      0.7978,      0.7988,      0.7998,      0.8008,      0.8018,      0.8028,      0.8038,      0.8048,     0.80581,     0.80681,     0.80781,     0.80881,     0.80981,     0.81081,     0.81181,     0.81281,     0.81381,     0.81481,     0.81582,\n",
       "           0.81682,     0.81782,     0.81882,     0.81982,     0.82082,     0.82182,     0.82282,     0.82382,     0.82482,     0.82583,     0.82683,     0.82783,     0.82883,     0.82983,     0.83083,     0.83183,     0.83283,     0.83383,     0.83483,     0.83584,     0.83684,     0.83784,     0.83884,     0.83984,\n",
       "           0.84084,     0.84184,     0.84284,     0.84384,     0.84484,     0.84585,     0.84685,     0.84785,     0.84885,     0.84985,     0.85085,     0.85185,     0.85285,     0.85385,     0.85485,     0.85586,     0.85686,     0.85786,     0.85886,     0.85986,     0.86086,     0.86186,     0.86286,     0.86386,\n",
       "           0.86486,     0.86587,     0.86687,     0.86787,     0.86887,     0.86987,     0.87087,     0.87187,     0.87287,     0.87387,     0.87487,     0.87588,     0.87688,     0.87788,     0.87888,     0.87988,     0.88088,     0.88188,     0.88288,     0.88388,     0.88488,     0.88589,     0.88689,     0.88789,\n",
       "           0.88889,     0.88989,     0.89089,     0.89189,     0.89289,     0.89389,     0.89489,      0.8959,      0.8969,      0.8979,      0.8989,      0.8999,      0.9009,      0.9019,      0.9029,      0.9039,      0.9049,     0.90591,     0.90691,     0.90791,     0.90891,     0.90991,     0.91091,     0.91191,\n",
       "           0.91291,     0.91391,     0.91491,     0.91592,     0.91692,     0.91792,     0.91892,     0.91992,     0.92092,     0.92192,     0.92292,     0.92392,     0.92492,     0.92593,     0.92693,     0.92793,     0.92893,     0.92993,     0.93093,     0.93193,     0.93293,     0.93393,     0.93493,     0.93594,\n",
       "           0.93694,     0.93794,     0.93894,     0.93994,     0.94094,     0.94194,     0.94294,     0.94394,     0.94494,     0.94595,     0.94695,     0.94795,     0.94895,     0.94995,     0.95095,     0.95195,     0.95295,     0.95395,     0.95495,     0.95596,     0.95696,     0.95796,     0.95896,     0.95996,\n",
       "           0.96096,     0.96196,     0.96296,     0.96396,     0.96496,     0.96597,     0.96697,     0.96797,     0.96897,     0.96997,     0.97097,     0.97197,     0.97297,     0.97397,     0.97497,     0.97598,     0.97698,     0.97798,     0.97898,     0.97998,     0.98098,     0.98198,     0.98298,     0.98398,\n",
       "           0.98498,     0.98599,     0.98699,     0.98799,     0.98899,     0.98999,     0.99099,     0.99199,     0.99299,     0.99399,     0.99499,       0.996,       0.997,       0.998,       0.999,           1]), array([[          1,           1,           1,           1,           1,           1,           1,           1,           1,           1,           1,           1,           1,           1,           1,           1,           1,           1,           1,           1,           1,           1,           1,\n",
       "                  1,           1,           1,           1,           1,           1,           1,           1,           1,           1,           1,           1,           1,           1,           1,           1,           1,           1,           1,           1,           1,           1,           1,\n",
       "                  1,           1,           1,           1,           1,           1,           1,           1,           1,           1,           1,           1,           1,           1,           1,           1,           1,           1,           1,           1,           1,           1,           1,\n",
       "                  1,           1,           1,           1,           1,           1,           1,           1,           1,           1,           1,           1,           1,           1,           1,           1,           1,           1,           1,           1,           1,           1,           1,\n",
       "                  1,           1,           1,           1,           1,           1,           1,           1,           1,           1,           1,           1,           1,           1,           1,           1,           1,           1,           1,           1,           1,           1,           1,\n",
       "                  1,           1,           1,           1,           1,           1,           1,           1,           1,           1,           1,           1,           1,           1,           1,           1,           1,           1,           1,           1,           1,           1,           1,\n",
       "                  1,           1,           1,           1,           1,           1,           1,           1,           1,           1,           1,           1,           1,           1,           1,           1,           1,           1,           1,           1,           1,           1,           1,\n",
       "                  1,           1,           1,           1,           1,           1,           1,           1,           1,           1,           1,           1,           1,           1,           1,           1,           1,           1,           1,           1,           1,           1,           1,\n",
       "                  1,           1,           1,           1,           1,           1,           1,           1,           1,           1,           1,           1,           1,           1,           1,           1,           1,           1,           1,           1,           1,           1,           1,\n",
       "                  1,           1,           1,           1,           1,           1,           1,           1,           1,           1,           1,           1,           1,           1,           1,           1,           1,           1,           1,           1,           1,           1,           1,\n",
       "                  1,           1,           1,           1,           1,           1,           1,           1,           1,           1,           1,           1,           1,           1,           1,           1,           1,           1,           1,           1,           1,           1,           1,\n",
       "                  1,           1,           1,           1,           1,           1,           1,           1,           1,           1,           1,           1,           1,           1,           1,           1,           1,           1,           1,           1,           1,           1,           1,\n",
       "                  1,           1,           1,           1,           1,           1,           1,           1,           1,           1,           1,           1,           1,           1,           1,           1,           1,           1,           1,           1,           1,           1,           1,\n",
       "                  1,           1,           1,           1,           1,           1,           1,           1,           1,           1,           1,           1,           1,           1,           1,           1,           1,           1,           1,           1,           1,           1,           1,\n",
       "                  1,           1,           1,           1,           1,           1,           1,           1,           1,           1,           1,           1,           1,           1,           1,           1,           1,           1,           1,           1,           1,           1,           1,\n",
       "                  1,           1,           1,           1,           1,           1,           1,           1,           1,           1,           1,           1,           1,           1,           1,           1,           1,           1,           1,           1,           1,           1,           1,\n",
       "                  1,           1,           1,           1,           1,           1,           1,           1,           1,           1,           1,           1,           1,           1,           1,           1,           1,           1,           1,           1,           1,           1,           1,\n",
       "                  1,           1,           1,           1,           1,           1,           1,           1,           1,           1,           1,           1,           1,           1,           1,           1,           1,           1,           1,           1,           1,           1,           1,\n",
       "                  1,           1,           1,           1,           1,           1,           1,           1,           1,           1,           1,           1,           1,           1,           1,           1,           1,           1,           1,           1,           1,           1,           1,\n",
       "                  1,           1,           1,           1,           1,           1,           1,           1,           1,           1,           1,           1,           1,           1,           1,           1,           1,           1,           1,           1,           1,           1,           1,\n",
       "                  1,           1,           1,           1,           1,           1,           1,           1,           1,           1,           1,           1,           1,           1,           1,           1,           1,           1,           1,           1,           1,           1,           1,\n",
       "                  1,           1,           1,           1,           1,           1,           1,           1,           1,           1,           1,           1,           1,           1,           1,           1,           1,           1,           1,           1,           1,           1,           1,\n",
       "                  1,           1,           1,           1,           1,           1,           1,           1,           1,           1,           1,           1,           1,           1,           1,           1,           1,           1,           1,           1,           1,           1,           1,\n",
       "                  1,           1,           1,           1,           1,           1,           1,           1,           1,           1,           1,           1,           1,           1,           1,           1,           1,           1,           1,           1,           1,           1,           1,\n",
       "                  1,           1,           1,           1,           1,           1,           1,           1,           1,           1,           1,           1,           1,           1,           1,           1,           1,           1,           1,           1,           1,           1,           1,\n",
       "                  1,           1,           1,           1,           1,           1,           1,           1,           1,           1,           1,           1,           1,           1,           1,           1,           1,           1,           1,           1,           1,           1,           1,\n",
       "                  1,           1,           1,           1,           1,           1,           1,           1,           1,           1,           1,           1,           1,           1,           1,           1,           1,           1,           1,           1,           1,           1,           1,\n",
       "                  1,           1,           1,           1,           1,           1,           1,           1,           1,           1,           1,           1,           1,           1,           1,           1,           1,           1,           1,           1,           1,           1,           1,\n",
       "                  1,           1,           1,           1,           1,           1,           1,           1,           1,           1,           1,           1,           1,           1,           1,           1,           1,           1,           1,           1,           1,           1,           1,\n",
       "                  1,           1,           1,           1,           1,           1,           1,           1,           1,           1,           1,           1,           1,           1,           1,           1,           1,           1,           1,           1,           1,           1,           1,\n",
       "                  1,           1,           1,           1,           1,           1,           1,           1,           1,           1,           1,           1,           1,           1,           1,           1,           1,           1,           1,           1,           1,           1,           1,\n",
       "                  1,           1,           1,           1,           1,           1,           1,           1,           1,           1,           1,           1,           1,           1,           1,           1,           1,           1,           1,           1,           1,           1,           1,\n",
       "                  1,           1,           1,           1,           1,           1,           1,           1,           1,           1,           1,           1,           1,           1,           1,           1,           1,           1,           1,           1,           1,           1,           1,\n",
       "                  1,           1,           1,           1,           1,           1,           1,           1,           1,           1,           1,           1,           1,           1,           1,           1,           1,           1,           1,           1,           1,           1,           1,\n",
       "                  1,           1,           1,           1,           1,           1,           1,           1,           1,           1,           1,           1,           1,           1,           1,           1,           1,           1,           1,           1,           1,           1,           1,\n",
       "                  1,           1,           1,           1,           1,     0.98413,     0.98413,     0.98413,     0.98413,     0.98413,     0.98413,     0.98413,     0.98413,     0.98413,     0.98413,     0.98413,     0.98413,     0.98413,     0.98413,     0.98413,     0.98413,     0.98413,     0.98413,\n",
       "            0.98413,     0.98413,     0.98413,     0.98413,     0.98413,     0.98413,     0.98413,     0.98413,     0.98413,     0.96923,     0.96923,     0.96923,     0.96923,     0.96923,     0.96923,     0.96923,     0.96923,     0.96923,     0.96923,     0.96923,     0.96923,     0.96923,     0.96923,\n",
       "            0.92754,     0.92754,     0.92754,     0.92754,     0.92754,     0.92754,     0.92754,     0.92754,     0.92754,     0.92754,     0.92754,     0.92754,     0.92754,     0.90278,     0.90278,     0.90278,     0.90278,     0.90278,     0.90278,     0.90278,     0.90278,     0.90278,     0.90278,\n",
       "            0.90278,     0.90278,     0.90278,     0.90278,     0.13861,     0.13747,     0.13632,     0.13518,     0.13403,     0.13289,     0.13174,     0.13059,     0.12945,      0.1283,     0.12716,     0.12601,     0.12487,     0.12372,     0.12258,     0.12143,     0.12028,     0.11914,     0.11799,\n",
       "            0.11685,      0.1157,     0.11456,     0.11341,     0.11227,     0.11112,     0.10997,     0.10883,     0.10768,     0.10654,     0.10539,     0.10425,      0.1031,     0.10196,     0.10081,    0.099664,    0.098519,    0.097373,    0.096228,    0.095082,    0.093936,    0.092791,    0.091645,\n",
       "             0.0905,    0.089354,    0.088209,    0.087063,    0.085917,    0.084772,    0.083626,    0.082481,    0.081335,     0.08019,    0.079044,    0.077899,    0.076753,    0.075607,    0.074462,    0.073316,    0.072171,    0.071025,     0.06988,    0.068734,    0.067588,    0.066443,    0.065297,\n",
       "           0.064152,    0.063006,    0.061861,    0.060715,    0.059569,    0.058424,    0.057278,    0.056133,    0.054987,    0.053842,    0.052696,     0.05155,    0.050405,    0.049259,    0.048114,    0.046968,    0.045823,    0.044677,    0.043532,    0.042386,     0.04124,    0.040095,    0.038949,\n",
       "           0.037804,    0.036658,    0.035513,    0.034367,    0.033221,    0.032076,     0.03093,    0.029785,    0.028639,    0.027494,    0.026348,    0.025202,    0.024057,    0.022911,    0.021766,     0.02062,    0.019475,    0.018329,    0.017183,    0.016038,    0.014892,    0.013747,    0.012601,\n",
       "           0.011456,     0.01031,   0.0091645,    0.008019,   0.0068734,   0.0057278,   0.0045823,   0.0034367,   0.0022911,   0.0011456,           0]]), 'Recall', 'Precision'], [array([          0,    0.001001,    0.002002,    0.003003,    0.004004,    0.005005,    0.006006,    0.007007,    0.008008,    0.009009,     0.01001,    0.011011,    0.012012,    0.013013,    0.014014,    0.015015,    0.016016,    0.017017,    0.018018,    0.019019,     0.02002,    0.021021,    0.022022,    0.023023,\n",
       "          0.024024,    0.025025,    0.026026,    0.027027,    0.028028,    0.029029,     0.03003,    0.031031,    0.032032,    0.033033,    0.034034,    0.035035,    0.036036,    0.037037,    0.038038,    0.039039,     0.04004,    0.041041,    0.042042,    0.043043,    0.044044,    0.045045,    0.046046,    0.047047,\n",
       "          0.048048,    0.049049,     0.05005,    0.051051,    0.052052,    0.053053,    0.054054,    0.055055,    0.056056,    0.057057,    0.058058,    0.059059,     0.06006,    0.061061,    0.062062,    0.063063,    0.064064,    0.065065,    0.066066,    0.067067,    0.068068,    0.069069,     0.07007,    0.071071,\n",
       "          0.072072,    0.073073,    0.074074,    0.075075,    0.076076,    0.077077,    0.078078,    0.079079,     0.08008,    0.081081,    0.082082,    0.083083,    0.084084,    0.085085,    0.086086,    0.087087,    0.088088,    0.089089,     0.09009,    0.091091,    0.092092,    0.093093,    0.094094,    0.095095,\n",
       "          0.096096,    0.097097,    0.098098,    0.099099,      0.1001,      0.1011,      0.1021,      0.1031,      0.1041,     0.10511,     0.10611,     0.10711,     0.10811,     0.10911,     0.11011,     0.11111,     0.11211,     0.11311,     0.11411,     0.11512,     0.11612,     0.11712,     0.11812,     0.11912,\n",
       "           0.12012,     0.12112,     0.12212,     0.12312,     0.12412,     0.12513,     0.12613,     0.12713,     0.12813,     0.12913,     0.13013,     0.13113,     0.13213,     0.13313,     0.13413,     0.13514,     0.13614,     0.13714,     0.13814,     0.13914,     0.14014,     0.14114,     0.14214,     0.14314,\n",
       "           0.14414,     0.14515,     0.14615,     0.14715,     0.14815,     0.14915,     0.15015,     0.15115,     0.15215,     0.15315,     0.15415,     0.15516,     0.15616,     0.15716,     0.15816,     0.15916,     0.16016,     0.16116,     0.16216,     0.16316,     0.16416,     0.16517,     0.16617,     0.16717,\n",
       "           0.16817,     0.16917,     0.17017,     0.17117,     0.17217,     0.17317,     0.17417,     0.17518,     0.17618,     0.17718,     0.17818,     0.17918,     0.18018,     0.18118,     0.18218,     0.18318,     0.18418,     0.18519,     0.18619,     0.18719,     0.18819,     0.18919,     0.19019,     0.19119,\n",
       "           0.19219,     0.19319,     0.19419,      0.1952,      0.1962,      0.1972,      0.1982,      0.1992,      0.2002,      0.2012,      0.2022,      0.2032,      0.2042,     0.20521,     0.20621,     0.20721,     0.20821,     0.20921,     0.21021,     0.21121,     0.21221,     0.21321,     0.21421,     0.21522,\n",
       "           0.21622,     0.21722,     0.21822,     0.21922,     0.22022,     0.22122,     0.22222,     0.22322,     0.22422,     0.22523,     0.22623,     0.22723,     0.22823,     0.22923,     0.23023,     0.23123,     0.23223,     0.23323,     0.23423,     0.23524,     0.23624,     0.23724,     0.23824,     0.23924,\n",
       "           0.24024,     0.24124,     0.24224,     0.24324,     0.24424,     0.24525,     0.24625,     0.24725,     0.24825,     0.24925,     0.25025,     0.25125,     0.25225,     0.25325,     0.25425,     0.25526,     0.25626,     0.25726,     0.25826,     0.25926,     0.26026,     0.26126,     0.26226,     0.26326,\n",
       "           0.26426,     0.26527,     0.26627,     0.26727,     0.26827,     0.26927,     0.27027,     0.27127,     0.27227,     0.27327,     0.27427,     0.27528,     0.27628,     0.27728,     0.27828,     0.27928,     0.28028,     0.28128,     0.28228,     0.28328,     0.28428,     0.28529,     0.28629,     0.28729,\n",
       "           0.28829,     0.28929,     0.29029,     0.29129,     0.29229,     0.29329,     0.29429,      0.2953,      0.2963,      0.2973,      0.2983,      0.2993,      0.3003,      0.3013,      0.3023,      0.3033,      0.3043,     0.30531,     0.30631,     0.30731,     0.30831,     0.30931,     0.31031,     0.31131,\n",
       "           0.31231,     0.31331,     0.31431,     0.31532,     0.31632,     0.31732,     0.31832,     0.31932,     0.32032,     0.32132,     0.32232,     0.32332,     0.32432,     0.32533,     0.32633,     0.32733,     0.32833,     0.32933,     0.33033,     0.33133,     0.33233,     0.33333,     0.33433,     0.33534,\n",
       "           0.33634,     0.33734,     0.33834,     0.33934,     0.34034,     0.34134,     0.34234,     0.34334,     0.34434,     0.34535,     0.34635,     0.34735,     0.34835,     0.34935,     0.35035,     0.35135,     0.35235,     0.35335,     0.35435,     0.35536,     0.35636,     0.35736,     0.35836,     0.35936,\n",
       "           0.36036,     0.36136,     0.36236,     0.36336,     0.36436,     0.36537,     0.36637,     0.36737,     0.36837,     0.36937,     0.37037,     0.37137,     0.37237,     0.37337,     0.37437,     0.37538,     0.37638,     0.37738,     0.37838,     0.37938,     0.38038,     0.38138,     0.38238,     0.38338,\n",
       "           0.38438,     0.38539,     0.38639,     0.38739,     0.38839,     0.38939,     0.39039,     0.39139,     0.39239,     0.39339,     0.39439,      0.3954,      0.3964,      0.3974,      0.3984,      0.3994,      0.4004,      0.4014,      0.4024,      0.4034,      0.4044,     0.40541,     0.40641,     0.40741,\n",
       "           0.40841,     0.40941,     0.41041,     0.41141,     0.41241,     0.41341,     0.41441,     0.41542,     0.41642,     0.41742,     0.41842,     0.41942,     0.42042,     0.42142,     0.42242,     0.42342,     0.42442,     0.42543,     0.42643,     0.42743,     0.42843,     0.42943,     0.43043,     0.43143,\n",
       "           0.43243,     0.43343,     0.43443,     0.43544,     0.43644,     0.43744,     0.43844,     0.43944,     0.44044,     0.44144,     0.44244,     0.44344,     0.44444,     0.44545,     0.44645,     0.44745,     0.44845,     0.44945,     0.45045,     0.45145,     0.45245,     0.45345,     0.45445,     0.45546,\n",
       "           0.45646,     0.45746,     0.45846,     0.45946,     0.46046,     0.46146,     0.46246,     0.46346,     0.46446,     0.46547,     0.46647,     0.46747,     0.46847,     0.46947,     0.47047,     0.47147,     0.47247,     0.47347,     0.47447,     0.47548,     0.47648,     0.47748,     0.47848,     0.47948,\n",
       "           0.48048,     0.48148,     0.48248,     0.48348,     0.48448,     0.48549,     0.48649,     0.48749,     0.48849,     0.48949,     0.49049,     0.49149,     0.49249,     0.49349,     0.49449,      0.4955,      0.4965,      0.4975,      0.4985,      0.4995,      0.5005,      0.5015,      0.5025,      0.5035,\n",
       "            0.5045,     0.50551,     0.50651,     0.50751,     0.50851,     0.50951,     0.51051,     0.51151,     0.51251,     0.51351,     0.51451,     0.51552,     0.51652,     0.51752,     0.51852,     0.51952,     0.52052,     0.52152,     0.52252,     0.52352,     0.52452,     0.52553,     0.52653,     0.52753,\n",
       "           0.52853,     0.52953,     0.53053,     0.53153,     0.53253,     0.53353,     0.53453,     0.53554,     0.53654,     0.53754,     0.53854,     0.53954,     0.54054,     0.54154,     0.54254,     0.54354,     0.54454,     0.54555,     0.54655,     0.54755,     0.54855,     0.54955,     0.55055,     0.55155,\n",
       "           0.55255,     0.55355,     0.55455,     0.55556,     0.55656,     0.55756,     0.55856,     0.55956,     0.56056,     0.56156,     0.56256,     0.56356,     0.56456,     0.56557,     0.56657,     0.56757,     0.56857,     0.56957,     0.57057,     0.57157,     0.57257,     0.57357,     0.57457,     0.57558,\n",
       "           0.57658,     0.57758,     0.57858,     0.57958,     0.58058,     0.58158,     0.58258,     0.58358,     0.58458,     0.58559,     0.58659,     0.58759,     0.58859,     0.58959,     0.59059,     0.59159,     0.59259,     0.59359,     0.59459,      0.5956,      0.5966,      0.5976,      0.5986,      0.5996,\n",
       "            0.6006,      0.6016,      0.6026,      0.6036,      0.6046,     0.60561,     0.60661,     0.60761,     0.60861,     0.60961,     0.61061,     0.61161,     0.61261,     0.61361,     0.61461,     0.61562,     0.61662,     0.61762,     0.61862,     0.61962,     0.62062,     0.62162,     0.62262,     0.62362,\n",
       "           0.62462,     0.62563,     0.62663,     0.62763,     0.62863,     0.62963,     0.63063,     0.63163,     0.63263,     0.63363,     0.63463,     0.63564,     0.63664,     0.63764,     0.63864,     0.63964,     0.64064,     0.64164,     0.64264,     0.64364,     0.64464,     0.64565,     0.64665,     0.64765,\n",
       "           0.64865,     0.64965,     0.65065,     0.65165,     0.65265,     0.65365,     0.65465,     0.65566,     0.65666,     0.65766,     0.65866,     0.65966,     0.66066,     0.66166,     0.66266,     0.66366,     0.66466,     0.66567,     0.66667,     0.66767,     0.66867,     0.66967,     0.67067,     0.67167,\n",
       "           0.67267,     0.67367,     0.67467,     0.67568,     0.67668,     0.67768,     0.67868,     0.67968,     0.68068,     0.68168,     0.68268,     0.68368,     0.68468,     0.68569,     0.68669,     0.68769,     0.68869,     0.68969,     0.69069,     0.69169,     0.69269,     0.69369,     0.69469,      0.6957,\n",
       "            0.6967,      0.6977,      0.6987,      0.6997,      0.7007,      0.7017,      0.7027,      0.7037,      0.7047,     0.70571,     0.70671,     0.70771,     0.70871,     0.70971,     0.71071,     0.71171,     0.71271,     0.71371,     0.71471,     0.71572,     0.71672,     0.71772,     0.71872,     0.71972,\n",
       "           0.72072,     0.72172,     0.72272,     0.72372,     0.72472,     0.72573,     0.72673,     0.72773,     0.72873,     0.72973,     0.73073,     0.73173,     0.73273,     0.73373,     0.73473,     0.73574,     0.73674,     0.73774,     0.73874,     0.73974,     0.74074,     0.74174,     0.74274,     0.74374,\n",
       "           0.74474,     0.74575,     0.74675,     0.74775,     0.74875,     0.74975,     0.75075,     0.75175,     0.75275,     0.75375,     0.75475,     0.75576,     0.75676,     0.75776,     0.75876,     0.75976,     0.76076,     0.76176,     0.76276,     0.76376,     0.76476,     0.76577,     0.76677,     0.76777,\n",
       "           0.76877,     0.76977,     0.77077,     0.77177,     0.77277,     0.77377,     0.77477,     0.77578,     0.77678,     0.77778,     0.77878,     0.77978,     0.78078,     0.78178,     0.78278,     0.78378,     0.78478,     0.78579,     0.78679,     0.78779,     0.78879,     0.78979,     0.79079,     0.79179,\n",
       "           0.79279,     0.79379,     0.79479,      0.7958,      0.7968,      0.7978,      0.7988,      0.7998,      0.8008,      0.8018,      0.8028,      0.8038,      0.8048,     0.80581,     0.80681,     0.80781,     0.80881,     0.80981,     0.81081,     0.81181,     0.81281,     0.81381,     0.81481,     0.81582,\n",
       "           0.81682,     0.81782,     0.81882,     0.81982,     0.82082,     0.82182,     0.82282,     0.82382,     0.82482,     0.82583,     0.82683,     0.82783,     0.82883,     0.82983,     0.83083,     0.83183,     0.83283,     0.83383,     0.83483,     0.83584,     0.83684,     0.83784,     0.83884,     0.83984,\n",
       "           0.84084,     0.84184,     0.84284,     0.84384,     0.84484,     0.84585,     0.84685,     0.84785,     0.84885,     0.84985,     0.85085,     0.85185,     0.85285,     0.85385,     0.85485,     0.85586,     0.85686,     0.85786,     0.85886,     0.85986,     0.86086,     0.86186,     0.86286,     0.86386,\n",
       "           0.86486,     0.86587,     0.86687,     0.86787,     0.86887,     0.86987,     0.87087,     0.87187,     0.87287,     0.87387,     0.87487,     0.87588,     0.87688,     0.87788,     0.87888,     0.87988,     0.88088,     0.88188,     0.88288,     0.88388,     0.88488,     0.88589,     0.88689,     0.88789,\n",
       "           0.88889,     0.88989,     0.89089,     0.89189,     0.89289,     0.89389,     0.89489,      0.8959,      0.8969,      0.8979,      0.8989,      0.8999,      0.9009,      0.9019,      0.9029,      0.9039,      0.9049,     0.90591,     0.90691,     0.90791,     0.90891,     0.90991,     0.91091,     0.91191,\n",
       "           0.91291,     0.91391,     0.91491,     0.91592,     0.91692,     0.91792,     0.91892,     0.91992,     0.92092,     0.92192,     0.92292,     0.92392,     0.92492,     0.92593,     0.92693,     0.92793,     0.92893,     0.92993,     0.93093,     0.93193,     0.93293,     0.93393,     0.93493,     0.93594,\n",
       "           0.93694,     0.93794,     0.93894,     0.93994,     0.94094,     0.94194,     0.94294,     0.94394,     0.94494,     0.94595,     0.94695,     0.94795,     0.94895,     0.94995,     0.95095,     0.95195,     0.95295,     0.95395,     0.95495,     0.95596,     0.95696,     0.95796,     0.95896,     0.95996,\n",
       "           0.96096,     0.96196,     0.96296,     0.96396,     0.96496,     0.96597,     0.96697,     0.96797,     0.96897,     0.96997,     0.97097,     0.97197,     0.97297,     0.97397,     0.97497,     0.97598,     0.97698,     0.97798,     0.97898,     0.97998,     0.98098,     0.98198,     0.98298,     0.98398,\n",
       "           0.98498,     0.98599,     0.98699,     0.98799,     0.98899,     0.98999,     0.99099,     0.99199,     0.99299,     0.99399,     0.99499,       0.996,       0.997,       0.998,       0.999,           1]), array([[     0.2403,      0.2403,     0.32251,     0.37549,     0.41625,     0.44739,      0.4906,     0.52322,     0.55053,     0.56634,     0.59042,     0.59985,     0.61342,     0.64532,      0.6783,     0.68964,     0.69341,      0.6959,     0.69833,     0.71697,     0.72555,     0.72836,     0.73164,\n",
       "            0.73644,     0.74761,     0.75601,     0.76067,     0.76204,     0.76341,     0.76481,      0.7667,     0.76859,     0.77407,     0.77498,     0.77588,     0.77678,     0.77767,     0.77875,     0.78092,     0.78308,     0.78471,     0.78631,     0.78791,     0.78952,     0.79113,     0.79275,\n",
       "            0.79494,     0.79712,      0.7988,     0.80036,     0.80191,     0.80879,     0.81089,     0.81268,     0.81346,     0.81423,     0.81501,     0.81579,     0.81656,     0.81733,     0.81813,     0.81894,     0.81974,     0.82055,     0.82135,     0.82215,     0.82578,     0.83355,     0.83417,\n",
       "            0.83479,     0.83541,     0.83603,     0.83664,     0.83726,     0.83787,     0.83849,      0.8394,     0.84048,     0.84155,     0.84263,      0.8437,     0.84466,     0.84555,     0.84643,      0.8473,     0.84818,     0.84906,     0.85011,      0.8516,     0.85307,     0.85455,     0.85663,\n",
       "            0.85929,     0.86105,     0.86138,      0.8617,     0.86203,     0.86235,     0.86268,       0.863,     0.86332,     0.86365,     0.86397,     0.86429,     0.86462,     0.86494,     0.86526,     0.86558,     0.86591,     0.86623,     0.86655,     0.86673,     0.86683,     0.86693,     0.86703,\n",
       "            0.86713,     0.86723,     0.86733,     0.86743,     0.86753,     0.86763,     0.86773,     0.86783,     0.86793,     0.86803,     0.86813,     0.86823,     0.86833,     0.86843,     0.86853,     0.86863,     0.86873,     0.86883,     0.86893,     0.86903,     0.86913,     0.86923,     0.86933,\n",
       "            0.86943,     0.86953,     0.86963,     0.86973,     0.86983,     0.86993,     0.87003,     0.87013,     0.87023,     0.87033,     0.87043,     0.87053,     0.87063,     0.87073,     0.87083,     0.87093,     0.87103,     0.87113,     0.87123,     0.87133,     0.87143,     0.87153,     0.87162,\n",
       "            0.87172,     0.87182,     0.87192,     0.87202,     0.87212,     0.87222,     0.87232,     0.87242,     0.87294,     0.87425,     0.87556,     0.87686,     0.87816,     0.87893,      0.8796,     0.88026,     0.88093,     0.88159,     0.88225,     0.88291,     0.88357,     0.88423,     0.88492,\n",
       "            0.88563,     0.88633,     0.88703,     0.88773,     0.88843,     0.88912,     0.88982,     0.89039,     0.89028,     0.89017,     0.89005,     0.88994,     0.88983,     0.88971,      0.8896,     0.88949,     0.88937,     0.88926,     0.88915,     0.88903,     0.88892,     0.88881,     0.88869,\n",
       "            0.88858,     0.88847,     0.88835,     0.88824,     0.88813,     0.88801,      0.8879,     0.88778,     0.88767,     0.88756,     0.88744,     0.88733,     0.88722,      0.8871,     0.88699,     0.88687,     0.88676,     0.88665,     0.88653,     0.88642,      0.8863,     0.88619,     0.88608,\n",
       "            0.88596,     0.88585,     0.88573,     0.88562,     0.88551,     0.88539,     0.88528,     0.88516,     0.88505,     0.88494,     0.88482,     0.88471,     0.88459,     0.88448,     0.88437,     0.88425,     0.88414,     0.88402,     0.88391,     0.88379,     0.88368,     0.88356,     0.88345,\n",
       "            0.88334,     0.88322,     0.88311,     0.88299,     0.88288,     0.88276,     0.88322,     0.88369,     0.88417,     0.88464,     0.88512,     0.88559,     0.88607,     0.88654,     0.88702,     0.88749,     0.88796,     0.88843,      0.8889,      0.8892,     0.88951,     0.88981,     0.89012,\n",
       "            0.89042,     0.89073,     0.89103,     0.89134,     0.89164,     0.89194,     0.89225,     0.89255,     0.89285,     0.89316,     0.89346,     0.89376,     0.89406,     0.89436,     0.89467,     0.89497,     0.89486,     0.89442,     0.89397,     0.89352,     0.89307,     0.89262,     0.89218,\n",
       "            0.89173,     0.89128,     0.89083,     0.89038,     0.88993,     0.88948,     0.88903,     0.88858,     0.88812,     0.88767,     0.88737,     0.88759,     0.88781,     0.88803,     0.88825,     0.88846,     0.88868,      0.8889,     0.88912,     0.88934,     0.88955,     0.88977,     0.88999,\n",
       "             0.8902,     0.89042,     0.89064,     0.89085,     0.89107,     0.89129,      0.8915,     0.89172,     0.89194,     0.89215,     0.89237,     0.89258,      0.8928,     0.89301,     0.89323,     0.89345,     0.89375,     0.89439,     0.89503,     0.89567,     0.89631,     0.89695,     0.89759,\n",
       "            0.89823,     0.89886,      0.8995,     0.90019,     0.90111,     0.90203,     0.90295,     0.90386,     0.90477,     0.90568,     0.90627,     0.90473,     0.90319,     0.90164,     0.90009,     0.89855,     0.89861,     0.89867,     0.89873,     0.89879,     0.89885,      0.8989,     0.89896,\n",
       "            0.89902,     0.89908,     0.89914,      0.8992,     0.89926,     0.89932,     0.89938,     0.89943,     0.89949,     0.89955,     0.89961,     0.89967,     0.89973,     0.89979,     0.89985,      0.8999,     0.89996,     0.90002,     0.90008,     0.90014,      0.9002,     0.90026,     0.90032,\n",
       "            0.90037,     0.90043,     0.90049,     0.90055,     0.90061,     0.90067,     0.90073,     0.90079,     0.90084,      0.9009,     0.90096,     0.90102,     0.90108,     0.90114,      0.9012,     0.90125,     0.90131,     0.90137,     0.90143,     0.90149,     0.90155,      0.9016,     0.90166,\n",
       "            0.90172,     0.90178,     0.90184,      0.9019,     0.90196,     0.90201,     0.90207,     0.90213,     0.90219,     0.90225,     0.90231,     0.90236,     0.90242,     0.90248,     0.90254,      0.9026,     0.90266,     0.90271,     0.90277,     0.90283,     0.90289,     0.90295,     0.90301,\n",
       "            0.90306,     0.90312,     0.90318,     0.90324,      0.9033,     0.90336,     0.90341,     0.90347,     0.90353,     0.90359,     0.90365,     0.90371,     0.90376,     0.90382,     0.90388,     0.90394,       0.904,     0.90405,     0.90411,     0.90417,     0.90423,     0.90429,     0.90434,\n",
       "             0.9044,     0.90446,     0.90452,     0.90458,     0.90463,     0.90469,     0.90475,     0.90481,     0.90487,     0.90492,     0.90498,     0.90504,      0.9051,     0.90502,      0.9049,     0.90479,     0.90468,     0.90456,     0.90445,     0.90433,     0.90422,     0.90411,     0.90399,\n",
       "            0.90388,     0.90376,     0.90365,     0.90353,     0.90342,     0.90331,     0.90319,     0.90308,     0.90296,     0.90285,     0.90274,     0.90262,     0.90251,     0.90239,     0.90228,     0.90216,     0.90205,     0.90194,     0.90182,     0.90171,     0.90159,     0.90148,     0.90136,\n",
       "            0.90125,     0.90113,     0.90102,      0.9009,     0.90079,     0.90067,     0.90056,     0.90045,     0.90033,     0.90022,      0.9001,     0.89999,     0.89987,     0.89976,     0.89964,     0.89953,     0.89941,      0.8993,     0.89918,     0.89907,     0.89895,     0.89884,     0.89872,\n",
       "            0.89861,     0.89849,     0.89838,     0.89826,     0.89815,     0.89803,     0.89792,      0.8978,     0.89768,     0.89757,     0.89745,     0.89734,     0.89722,     0.89711,      0.8969,     0.89661,     0.89633,     0.89605,     0.89577,     0.89549,      0.8952,     0.89492,     0.89464,\n",
       "            0.89435,     0.89407,     0.89379,      0.8935,     0.89322,     0.89294,     0.89265,     0.89237,     0.89208,      0.8918,     0.89151,     0.89123,     0.89095,     0.89066,     0.89038,     0.89009,      0.8898,     0.88952,     0.88923,     0.88895,     0.88908,     0.88933,     0.88957,\n",
       "            0.88982,     0.89006,     0.89031,     0.89055,     0.89079,     0.89104,     0.89128,     0.89152,     0.89177,     0.89201,     0.89225,      0.8925,     0.89274,     0.89298,     0.89322,     0.89347,     0.89371,     0.89395,     0.89419,     0.89443,     0.89467,     0.89491,     0.89516,\n",
       "             0.8954,     0.89485,     0.89344,     0.89202,      0.8906,     0.88918,     0.88775,     0.88709,     0.88688,     0.88667,     0.88646,     0.88625,     0.88604,     0.88583,     0.88562,     0.88541,      0.8852,     0.88499,     0.88478,     0.88457,     0.88436,     0.88415,     0.88394,\n",
       "            0.88373,     0.88352,     0.88331,      0.8831,     0.88289,     0.88268,     0.88247,     0.88225,     0.88204,     0.88183,     0.88162,     0.88141,      0.8812,     0.88099,     0.88078,     0.88056,     0.88035,     0.88014,     0.87993,     0.87972,      0.8795,     0.87929,     0.87908,\n",
       "            0.87887,     0.87862,     0.87836,     0.87809,     0.87783,     0.87757,      0.8773,     0.87704,     0.87677,     0.87651,     0.87624,     0.87598,     0.87571,     0.87545,     0.87518,     0.87492,     0.87465,     0.87438,     0.87412,     0.87385,     0.87359,     0.87332,     0.87305,\n",
       "            0.87279,     0.87252,     0.87225,     0.87199,     0.87172,     0.87145,     0.87118,     0.87092,     0.87065,     0.87038,      0.8701,     0.86981,     0.86951,     0.86922,     0.86892,     0.86863,     0.86833,     0.86804,     0.86774,     0.86744,     0.86715,     0.86685,     0.86655,\n",
       "            0.86626,     0.86596,     0.86566,     0.86537,     0.86507,     0.86477,     0.86447,     0.86418,     0.86388,     0.86358,     0.86328,     0.86298,     0.86269,     0.86239,     0.86209,     0.86179,     0.86149,     0.86116,     0.86083,      0.8605,     0.86018,     0.85985,     0.85952,\n",
       "             0.8592,     0.85887,     0.85854,     0.85821,     0.85788,     0.85755,     0.85723,      0.8569,     0.85657,     0.85624,     0.85591,     0.85558,     0.85525,     0.85492,     0.85459,     0.85426,     0.85393,      0.8536,     0.85326,     0.85293,     0.85256,     0.85212,     0.85167,\n",
       "            0.85123,     0.85078,     0.85034,     0.84989,     0.84944,     0.84899,     0.84855,      0.8481,     0.84765,      0.8472,     0.84675,      0.8463,     0.84585,      0.8454,     0.84495,      0.8445,     0.84405,     0.84323,     0.84169,     0.84013,     0.83858,     0.83702,     0.83546,\n",
       "            0.83382,     0.83211,     0.83039,     0.82866,     0.82693,     0.82466,     0.81824,     0.81494,     0.81332,     0.81169,     0.81006,     0.80842,     0.80678,     0.80487,     0.80289,      0.8009,     0.79891,     0.79691,     0.79625,     0.79571,     0.79516,     0.79462,     0.79407,\n",
       "            0.79353,     0.79298,     0.79244,     0.79189,     0.79135,      0.7908,     0.79025,      0.7897,     0.78915,     0.78861,     0.78806,     0.78751,     0.78696,      0.7849,     0.78263,     0.78034,     0.77805,     0.77485,     0.77068,     0.76644,     0.76114,     0.75431,     0.74475,\n",
       "            0.74307,     0.74138,     0.73969,       0.738,      0.7363,     0.73456,      0.7327,     0.73085,     0.72899,     0.72712,     0.72525,     0.72398,     0.72358,     0.72318,     0.72279,     0.72239,     0.72199,      0.7216,      0.7212,      0.7208,      0.7204,     0.72001,     0.71961,\n",
       "            0.71921,     0.71881,     0.71841,     0.71801,     0.71761,     0.71721,     0.71681,     0.71641,     0.71601,     0.71561,     0.71521,     0.71481,     0.71441,     0.71401,      0.7136,      0.7132,     0.71165,     0.70935,     0.70704,     0.70472,     0.70239,     0.70127,      0.7006,\n",
       "            0.69993,     0.69926,     0.69859,     0.69792,     0.69725,     0.69658,     0.69591,     0.69523,     0.69456,     0.69388,     0.69321,     0.69253,     0.69186,     0.69118,      0.6905,     0.68981,     0.68911,     0.68841,     0.68771,       0.687,      0.6863,      0.6856,     0.68489,\n",
       "            0.68419,     0.68348,     0.68278,     0.68207,     0.68136,     0.68065,     0.67994,     0.67923,     0.67687,     0.66307,     0.65685,     0.65296,     0.65044,     0.64791,     0.64538,     0.64283,     0.62785,     0.62547,     0.62309,      0.6207,      0.6183,     0.61425,     0.60757,\n",
       "            0.59785,      0.5895,     0.58738,     0.58525,     0.58311,     0.58097,     0.57882,     0.57524,     0.56228,     0.55653,     0.55074,     0.54213,     0.53363,     0.52936,     0.52507,     0.52075,     0.51749,     0.51444,     0.51137,      0.5083,     0.50521,     0.48736,     0.48206,\n",
       "            0.47672,     0.47077,     0.46426,     0.44049,     0.42347,     0.40352,     0.36741,      0.3427,     0.29667,     0.28656,     0.26806,     0.25061,     0.23995,     0.23214,      0.2249,     0.21759,     0.19045,     0.17904,     0.16569,     0.15002,     0.12655,     0.12524,     0.12392,\n",
       "             0.1226,     0.12128,     0.11996,     0.11864,     0.11731,     0.11598,     0.11465,     0.11332,     0.11199,     0.11065,     0.10931,     0.10797,     0.10663,     0.10529,     0.10395,      0.1026,    0.077947,    0.072225,    0.066488,    0.060717,    0.054912,    0.044603,    0.031272,\n",
       "                  0,           0,           0,           0,           0,           0,           0,           0,           0,           0,           0,           0,           0,           0,           0,           0,           0,           0,           0,           0,           0,           0,           0,\n",
       "                  0,           0,           0,           0,           0,           0,           0,           0,           0,           0,           0]]), 'Confidence', 'F1'], [array([          0,    0.001001,    0.002002,    0.003003,    0.004004,    0.005005,    0.006006,    0.007007,    0.008008,    0.009009,     0.01001,    0.011011,    0.012012,    0.013013,    0.014014,    0.015015,    0.016016,    0.017017,    0.018018,    0.019019,     0.02002,    0.021021,    0.022022,    0.023023,\n",
       "          0.024024,    0.025025,    0.026026,    0.027027,    0.028028,    0.029029,     0.03003,    0.031031,    0.032032,    0.033033,    0.034034,    0.035035,    0.036036,    0.037037,    0.038038,    0.039039,     0.04004,    0.041041,    0.042042,    0.043043,    0.044044,    0.045045,    0.046046,    0.047047,\n",
       "          0.048048,    0.049049,     0.05005,    0.051051,    0.052052,    0.053053,    0.054054,    0.055055,    0.056056,    0.057057,    0.058058,    0.059059,     0.06006,    0.061061,    0.062062,    0.063063,    0.064064,    0.065065,    0.066066,    0.067067,    0.068068,    0.069069,     0.07007,    0.071071,\n",
       "          0.072072,    0.073073,    0.074074,    0.075075,    0.076076,    0.077077,    0.078078,    0.079079,     0.08008,    0.081081,    0.082082,    0.083083,    0.084084,    0.085085,    0.086086,    0.087087,    0.088088,    0.089089,     0.09009,    0.091091,    0.092092,    0.093093,    0.094094,    0.095095,\n",
       "          0.096096,    0.097097,    0.098098,    0.099099,      0.1001,      0.1011,      0.1021,      0.1031,      0.1041,     0.10511,     0.10611,     0.10711,     0.10811,     0.10911,     0.11011,     0.11111,     0.11211,     0.11311,     0.11411,     0.11512,     0.11612,     0.11712,     0.11812,     0.11912,\n",
       "           0.12012,     0.12112,     0.12212,     0.12312,     0.12412,     0.12513,     0.12613,     0.12713,     0.12813,     0.12913,     0.13013,     0.13113,     0.13213,     0.13313,     0.13413,     0.13514,     0.13614,     0.13714,     0.13814,     0.13914,     0.14014,     0.14114,     0.14214,     0.14314,\n",
       "           0.14414,     0.14515,     0.14615,     0.14715,     0.14815,     0.14915,     0.15015,     0.15115,     0.15215,     0.15315,     0.15415,     0.15516,     0.15616,     0.15716,     0.15816,     0.15916,     0.16016,     0.16116,     0.16216,     0.16316,     0.16416,     0.16517,     0.16617,     0.16717,\n",
       "           0.16817,     0.16917,     0.17017,     0.17117,     0.17217,     0.17317,     0.17417,     0.17518,     0.17618,     0.17718,     0.17818,     0.17918,     0.18018,     0.18118,     0.18218,     0.18318,     0.18418,     0.18519,     0.18619,     0.18719,     0.18819,     0.18919,     0.19019,     0.19119,\n",
       "           0.19219,     0.19319,     0.19419,      0.1952,      0.1962,      0.1972,      0.1982,      0.1992,      0.2002,      0.2012,      0.2022,      0.2032,      0.2042,     0.20521,     0.20621,     0.20721,     0.20821,     0.20921,     0.21021,     0.21121,     0.21221,     0.21321,     0.21421,     0.21522,\n",
       "           0.21622,     0.21722,     0.21822,     0.21922,     0.22022,     0.22122,     0.22222,     0.22322,     0.22422,     0.22523,     0.22623,     0.22723,     0.22823,     0.22923,     0.23023,     0.23123,     0.23223,     0.23323,     0.23423,     0.23524,     0.23624,     0.23724,     0.23824,     0.23924,\n",
       "           0.24024,     0.24124,     0.24224,     0.24324,     0.24424,     0.24525,     0.24625,     0.24725,     0.24825,     0.24925,     0.25025,     0.25125,     0.25225,     0.25325,     0.25425,     0.25526,     0.25626,     0.25726,     0.25826,     0.25926,     0.26026,     0.26126,     0.26226,     0.26326,\n",
       "           0.26426,     0.26527,     0.26627,     0.26727,     0.26827,     0.26927,     0.27027,     0.27127,     0.27227,     0.27327,     0.27427,     0.27528,     0.27628,     0.27728,     0.27828,     0.27928,     0.28028,     0.28128,     0.28228,     0.28328,     0.28428,     0.28529,     0.28629,     0.28729,\n",
       "           0.28829,     0.28929,     0.29029,     0.29129,     0.29229,     0.29329,     0.29429,      0.2953,      0.2963,      0.2973,      0.2983,      0.2993,      0.3003,      0.3013,      0.3023,      0.3033,      0.3043,     0.30531,     0.30631,     0.30731,     0.30831,     0.30931,     0.31031,     0.31131,\n",
       "           0.31231,     0.31331,     0.31431,     0.31532,     0.31632,     0.31732,     0.31832,     0.31932,     0.32032,     0.32132,     0.32232,     0.32332,     0.32432,     0.32533,     0.32633,     0.32733,     0.32833,     0.32933,     0.33033,     0.33133,     0.33233,     0.33333,     0.33433,     0.33534,\n",
       "           0.33634,     0.33734,     0.33834,     0.33934,     0.34034,     0.34134,     0.34234,     0.34334,     0.34434,     0.34535,     0.34635,     0.34735,     0.34835,     0.34935,     0.35035,     0.35135,     0.35235,     0.35335,     0.35435,     0.35536,     0.35636,     0.35736,     0.35836,     0.35936,\n",
       "           0.36036,     0.36136,     0.36236,     0.36336,     0.36436,     0.36537,     0.36637,     0.36737,     0.36837,     0.36937,     0.37037,     0.37137,     0.37237,     0.37337,     0.37437,     0.37538,     0.37638,     0.37738,     0.37838,     0.37938,     0.38038,     0.38138,     0.38238,     0.38338,\n",
       "           0.38438,     0.38539,     0.38639,     0.38739,     0.38839,     0.38939,     0.39039,     0.39139,     0.39239,     0.39339,     0.39439,      0.3954,      0.3964,      0.3974,      0.3984,      0.3994,      0.4004,      0.4014,      0.4024,      0.4034,      0.4044,     0.40541,     0.40641,     0.40741,\n",
       "           0.40841,     0.40941,     0.41041,     0.41141,     0.41241,     0.41341,     0.41441,     0.41542,     0.41642,     0.41742,     0.41842,     0.41942,     0.42042,     0.42142,     0.42242,     0.42342,     0.42442,     0.42543,     0.42643,     0.42743,     0.42843,     0.42943,     0.43043,     0.43143,\n",
       "           0.43243,     0.43343,     0.43443,     0.43544,     0.43644,     0.43744,     0.43844,     0.43944,     0.44044,     0.44144,     0.44244,     0.44344,     0.44444,     0.44545,     0.44645,     0.44745,     0.44845,     0.44945,     0.45045,     0.45145,     0.45245,     0.45345,     0.45445,     0.45546,\n",
       "           0.45646,     0.45746,     0.45846,     0.45946,     0.46046,     0.46146,     0.46246,     0.46346,     0.46446,     0.46547,     0.46647,     0.46747,     0.46847,     0.46947,     0.47047,     0.47147,     0.47247,     0.47347,     0.47447,     0.47548,     0.47648,     0.47748,     0.47848,     0.47948,\n",
       "           0.48048,     0.48148,     0.48248,     0.48348,     0.48448,     0.48549,     0.48649,     0.48749,     0.48849,     0.48949,     0.49049,     0.49149,     0.49249,     0.49349,     0.49449,      0.4955,      0.4965,      0.4975,      0.4985,      0.4995,      0.5005,      0.5015,      0.5025,      0.5035,\n",
       "            0.5045,     0.50551,     0.50651,     0.50751,     0.50851,     0.50951,     0.51051,     0.51151,     0.51251,     0.51351,     0.51451,     0.51552,     0.51652,     0.51752,     0.51852,     0.51952,     0.52052,     0.52152,     0.52252,     0.52352,     0.52452,     0.52553,     0.52653,     0.52753,\n",
       "           0.52853,     0.52953,     0.53053,     0.53153,     0.53253,     0.53353,     0.53453,     0.53554,     0.53654,     0.53754,     0.53854,     0.53954,     0.54054,     0.54154,     0.54254,     0.54354,     0.54454,     0.54555,     0.54655,     0.54755,     0.54855,     0.54955,     0.55055,     0.55155,\n",
       "           0.55255,     0.55355,     0.55455,     0.55556,     0.55656,     0.55756,     0.55856,     0.55956,     0.56056,     0.56156,     0.56256,     0.56356,     0.56456,     0.56557,     0.56657,     0.56757,     0.56857,     0.56957,     0.57057,     0.57157,     0.57257,     0.57357,     0.57457,     0.57558,\n",
       "           0.57658,     0.57758,     0.57858,     0.57958,     0.58058,     0.58158,     0.58258,     0.58358,     0.58458,     0.58559,     0.58659,     0.58759,     0.58859,     0.58959,     0.59059,     0.59159,     0.59259,     0.59359,     0.59459,      0.5956,      0.5966,      0.5976,      0.5986,      0.5996,\n",
       "            0.6006,      0.6016,      0.6026,      0.6036,      0.6046,     0.60561,     0.60661,     0.60761,     0.60861,     0.60961,     0.61061,     0.61161,     0.61261,     0.61361,     0.61461,     0.61562,     0.61662,     0.61762,     0.61862,     0.61962,     0.62062,     0.62162,     0.62262,     0.62362,\n",
       "           0.62462,     0.62563,     0.62663,     0.62763,     0.62863,     0.62963,     0.63063,     0.63163,     0.63263,     0.63363,     0.63463,     0.63564,     0.63664,     0.63764,     0.63864,     0.63964,     0.64064,     0.64164,     0.64264,     0.64364,     0.64464,     0.64565,     0.64665,     0.64765,\n",
       "           0.64865,     0.64965,     0.65065,     0.65165,     0.65265,     0.65365,     0.65465,     0.65566,     0.65666,     0.65766,     0.65866,     0.65966,     0.66066,     0.66166,     0.66266,     0.66366,     0.66466,     0.66567,     0.66667,     0.66767,     0.66867,     0.66967,     0.67067,     0.67167,\n",
       "           0.67267,     0.67367,     0.67467,     0.67568,     0.67668,     0.67768,     0.67868,     0.67968,     0.68068,     0.68168,     0.68268,     0.68368,     0.68468,     0.68569,     0.68669,     0.68769,     0.68869,     0.68969,     0.69069,     0.69169,     0.69269,     0.69369,     0.69469,      0.6957,\n",
       "            0.6967,      0.6977,      0.6987,      0.6997,      0.7007,      0.7017,      0.7027,      0.7037,      0.7047,     0.70571,     0.70671,     0.70771,     0.70871,     0.70971,     0.71071,     0.71171,     0.71271,     0.71371,     0.71471,     0.71572,     0.71672,     0.71772,     0.71872,     0.71972,\n",
       "           0.72072,     0.72172,     0.72272,     0.72372,     0.72472,     0.72573,     0.72673,     0.72773,     0.72873,     0.72973,     0.73073,     0.73173,     0.73273,     0.73373,     0.73473,     0.73574,     0.73674,     0.73774,     0.73874,     0.73974,     0.74074,     0.74174,     0.74274,     0.74374,\n",
       "           0.74474,     0.74575,     0.74675,     0.74775,     0.74875,     0.74975,     0.75075,     0.75175,     0.75275,     0.75375,     0.75475,     0.75576,     0.75676,     0.75776,     0.75876,     0.75976,     0.76076,     0.76176,     0.76276,     0.76376,     0.76476,     0.76577,     0.76677,     0.76777,\n",
       "           0.76877,     0.76977,     0.77077,     0.77177,     0.77277,     0.77377,     0.77477,     0.77578,     0.77678,     0.77778,     0.77878,     0.77978,     0.78078,     0.78178,     0.78278,     0.78378,     0.78478,     0.78579,     0.78679,     0.78779,     0.78879,     0.78979,     0.79079,     0.79179,\n",
       "           0.79279,     0.79379,     0.79479,      0.7958,      0.7968,      0.7978,      0.7988,      0.7998,      0.8008,      0.8018,      0.8028,      0.8038,      0.8048,     0.80581,     0.80681,     0.80781,     0.80881,     0.80981,     0.81081,     0.81181,     0.81281,     0.81381,     0.81481,     0.81582,\n",
       "           0.81682,     0.81782,     0.81882,     0.81982,     0.82082,     0.82182,     0.82282,     0.82382,     0.82482,     0.82583,     0.82683,     0.82783,     0.82883,     0.82983,     0.83083,     0.83183,     0.83283,     0.83383,     0.83483,     0.83584,     0.83684,     0.83784,     0.83884,     0.83984,\n",
       "           0.84084,     0.84184,     0.84284,     0.84384,     0.84484,     0.84585,     0.84685,     0.84785,     0.84885,     0.84985,     0.85085,     0.85185,     0.85285,     0.85385,     0.85485,     0.85586,     0.85686,     0.85786,     0.85886,     0.85986,     0.86086,     0.86186,     0.86286,     0.86386,\n",
       "           0.86486,     0.86587,     0.86687,     0.86787,     0.86887,     0.86987,     0.87087,     0.87187,     0.87287,     0.87387,     0.87487,     0.87588,     0.87688,     0.87788,     0.87888,     0.87988,     0.88088,     0.88188,     0.88288,     0.88388,     0.88488,     0.88589,     0.88689,     0.88789,\n",
       "           0.88889,     0.88989,     0.89089,     0.89189,     0.89289,     0.89389,     0.89489,      0.8959,      0.8969,      0.8979,      0.8989,      0.8999,      0.9009,      0.9019,      0.9029,      0.9039,      0.9049,     0.90591,     0.90691,     0.90791,     0.90891,     0.90991,     0.91091,     0.91191,\n",
       "           0.91291,     0.91391,     0.91491,     0.91592,     0.91692,     0.91792,     0.91892,     0.91992,     0.92092,     0.92192,     0.92292,     0.92392,     0.92492,     0.92593,     0.92693,     0.92793,     0.92893,     0.92993,     0.93093,     0.93193,     0.93293,     0.93393,     0.93493,     0.93594,\n",
       "           0.93694,     0.93794,     0.93894,     0.93994,     0.94094,     0.94194,     0.94294,     0.94394,     0.94494,     0.94595,     0.94695,     0.94795,     0.94895,     0.94995,     0.95095,     0.95195,     0.95295,     0.95395,     0.95495,     0.95596,     0.95696,     0.95796,     0.95896,     0.95996,\n",
       "           0.96096,     0.96196,     0.96296,     0.96396,     0.96496,     0.96597,     0.96697,     0.96797,     0.96897,     0.96997,     0.97097,     0.97197,     0.97297,     0.97397,     0.97497,     0.97598,     0.97698,     0.97798,     0.97898,     0.97998,     0.98098,     0.98198,     0.98298,     0.98398,\n",
       "           0.98498,     0.98599,     0.98699,     0.98799,     0.98899,     0.98999,     0.99099,     0.99199,     0.99299,     0.99399,     0.99499,       0.996,       0.997,       0.998,       0.999,           1]), array([[    0.13919,     0.13919,     0.19751,     0.23878,     0.27275,     0.30013,     0.34035,     0.37257,      0.4009,     0.41789,     0.44465,     0.45544,     0.47127,        0.51,     0.55245,     0.56766,      0.5728,      0.5762,     0.57953,     0.60567,     0.61803,     0.62211,     0.62691,\n",
       "            0.63399,     0.65073,     0.66356,     0.67078,     0.67292,     0.67506,     0.67724,     0.68022,      0.6832,     0.69191,     0.69336,      0.6948,     0.69624,     0.69769,     0.69942,     0.70293,     0.70644,     0.70909,     0.71171,     0.71434,     0.71699,     0.71965,     0.72234,\n",
       "            0.72598,     0.72963,     0.73245,     0.73506,     0.73768,     0.74942,     0.75303,     0.75612,     0.75747,     0.75882,     0.76017,     0.76152,     0.76287,     0.76422,     0.76561,     0.76703,     0.76844,     0.76986,     0.77127,     0.77269,     0.77913,     0.79308,      0.7942,\n",
       "            0.79533,     0.79645,     0.79757,     0.79869,     0.79982,     0.80094,     0.80206,     0.80373,     0.80571,     0.80769,     0.80968,     0.81166,     0.81344,     0.81508,     0.81672,     0.81835,     0.81999,     0.82163,     0.82361,      0.8264,     0.82919,     0.83198,     0.83594,\n",
       "            0.84101,     0.84439,     0.84502,     0.84565,     0.84627,      0.8469,     0.84752,     0.84815,     0.84878,      0.8494,     0.85003,     0.85065,     0.85128,     0.85191,     0.85253,     0.85316,     0.85378,     0.85441,     0.85504,     0.85539,     0.85558,     0.85578,     0.85597,\n",
       "            0.85617,     0.85637,     0.85656,     0.85676,     0.85695,     0.85715,     0.85734,     0.85754,     0.85774,     0.85793,     0.85813,     0.85832,     0.85852,     0.85871,     0.85891,      0.8591,      0.8593,      0.8595,     0.85969,     0.85989,     0.86008,     0.86028,     0.86047,\n",
       "            0.86067,     0.86087,     0.86106,     0.86126,     0.86145,     0.86165,     0.86184,     0.86204,     0.86223,     0.86243,     0.86263,     0.86282,     0.86302,     0.86321,     0.86341,      0.8636,      0.8638,       0.864,     0.86419,     0.86439,     0.86458,     0.86478,     0.86497,\n",
       "            0.86517,     0.86536,     0.86556,     0.86576,     0.86595,     0.86615,     0.86634,     0.86654,     0.86756,     0.87016,     0.87275,     0.87535,     0.87795,     0.87949,     0.88082,     0.88216,     0.88349,     0.88482,     0.88616,     0.88749,     0.88882,     0.89016,     0.89157,\n",
       "              0.893,     0.89442,     0.89585,     0.89728,     0.89871,     0.90014,     0.90157,     0.90277,     0.90275,     0.90273,     0.90271,     0.90269,     0.90267,     0.90265,     0.90263,     0.90261,     0.90259,     0.90257,     0.90255,     0.90253,     0.90251,     0.90249,     0.90247,\n",
       "            0.90245,     0.90243,     0.90241,     0.90239,     0.90237,     0.90235,     0.90233,     0.90231,     0.90229,     0.90227,     0.90224,     0.90222,      0.9022,     0.90218,     0.90216,     0.90214,     0.90212,      0.9021,     0.90208,     0.90206,     0.90204,     0.90202,       0.902,\n",
       "            0.90198,     0.90196,     0.90194,     0.90192,      0.9019,     0.90188,     0.90186,     0.90184,     0.90182,      0.9018,     0.90178,     0.90176,     0.90174,     0.90171,     0.90169,     0.90167,     0.90165,     0.90163,     0.90161,     0.90159,     0.90157,     0.90155,     0.90153,\n",
       "            0.90151,     0.90149,     0.90147,     0.90145,     0.90143,     0.90141,     0.90236,     0.90336,     0.90435,     0.90535,     0.90635,     0.90734,     0.90834,     0.90934,     0.91033,     0.91133,     0.91232,     0.91332,     0.91431,     0.91495,      0.9156,     0.91625,     0.91689,\n",
       "            0.91754,     0.91819,     0.91883,     0.91948,     0.92013,     0.92077,     0.92142,     0.92207,     0.92271,     0.92336,     0.92401,     0.92465,      0.9253,     0.92595,     0.92659,     0.92724,      0.9275,     0.92744,     0.92738,     0.92732,     0.92726,      0.9272,     0.92713,\n",
       "            0.92707,     0.92701,     0.92695,     0.92689,     0.92683,     0.92676,      0.9267,     0.92664,     0.92658,     0.92652,     0.92658,     0.92706,     0.92753,     0.92801,     0.92848,     0.92896,     0.92944,     0.92991,     0.93039,     0.93087,     0.93134,     0.93182,      0.9323,\n",
       "            0.93277,     0.93325,     0.93373,      0.9342,     0.93468,     0.93515,     0.93563,     0.93611,     0.93658,     0.93706,     0.93754,     0.93801,     0.93849,     0.93897,     0.93944,     0.93992,     0.94059,     0.94201,     0.94344,     0.94486,     0.94629,     0.94771,     0.94914,\n",
       "            0.95056,     0.95199,     0.95341,     0.95497,     0.95704,     0.95912,      0.9612,     0.96327,     0.96535,     0.96743,     0.96922,     0.96912,     0.96903,     0.96894,     0.96884,     0.96875,     0.96889,     0.96903,     0.96916,      0.9693,     0.96944,     0.96957,     0.96971,\n",
       "            0.96985,     0.96998,     0.97012,     0.97026,      0.9704,     0.97053,     0.97067,     0.97081,     0.97094,     0.97108,     0.97122,     0.97136,     0.97149,     0.97163,     0.97177,      0.9719,     0.97204,     0.97218,     0.97231,     0.97245,     0.97259,     0.97273,     0.97286,\n",
       "              0.973,     0.97314,     0.97327,     0.97341,     0.97355,     0.97369,     0.97382,     0.97396,      0.9741,     0.97423,     0.97437,     0.97451,     0.97464,     0.97478,     0.97492,     0.97506,     0.97519,     0.97533,     0.97547,      0.9756,     0.97574,     0.97588,     0.97602,\n",
       "            0.97615,     0.97629,     0.97643,     0.97656,      0.9767,     0.97684,     0.97697,     0.97711,     0.97725,     0.97739,     0.97752,     0.97766,      0.9778,     0.97793,     0.97807,     0.97821,     0.97835,     0.97848,     0.97862,     0.97876,     0.97889,     0.97903,     0.97917,\n",
       "             0.9793,     0.97944,     0.97958,     0.97972,     0.97985,     0.97999,     0.98013,     0.98026,      0.9804,     0.98054,     0.98068,     0.98081,     0.98095,     0.98109,     0.98122,     0.98136,      0.9815,     0.98163,     0.98177,     0.98191,     0.98205,     0.98218,     0.98232,\n",
       "            0.98246,     0.98259,     0.98273,     0.98287,     0.98301,     0.98314,     0.98328,     0.98342,     0.98355,     0.98369,     0.98383,     0.98396,      0.9841,     0.98412,     0.98412,     0.98412,     0.98411,     0.98411,     0.98411,      0.9841,      0.9841,     0.98409,     0.98409,\n",
       "            0.98409,     0.98408,     0.98408,     0.98408,     0.98407,     0.98407,     0.98407,     0.98406,     0.98406,     0.98405,     0.98405,     0.98405,     0.98404,     0.98404,     0.98404,     0.98403,     0.98403,     0.98403,     0.98402,     0.98402,     0.98401,     0.98401,     0.98401,\n",
       "              0.984,       0.984,       0.984,     0.98399,     0.98399,     0.98399,     0.98398,     0.98398,     0.98397,     0.98397,     0.98397,     0.98396,     0.98396,     0.98396,     0.98395,     0.98395,     0.98395,     0.98394,     0.98394,     0.98393,     0.98393,     0.98393,     0.98392,\n",
       "            0.98392,     0.98392,     0.98391,     0.98391,     0.98391,      0.9839,      0.9839,     0.98389,     0.98389,     0.98389,     0.98388,     0.98388,     0.98388,     0.98387,     0.98387,     0.98386,     0.98385,     0.98384,     0.98383,     0.98382,     0.98381,      0.9838,     0.98379,\n",
       "            0.98378,     0.98377,     0.98376,     0.98376,     0.98375,     0.98374,     0.98373,     0.98372,     0.98371,      0.9837,     0.98369,     0.98368,     0.98367,     0.98366,     0.98365,     0.98365,     0.98364,     0.98363,     0.98362,     0.98361,     0.98408,     0.98468,     0.98528,\n",
       "            0.98588,     0.98648,     0.98708,     0.98768,     0.98828,     0.98888,     0.98948,     0.99008,     0.99068,     0.99128,     0.99189,     0.99249,     0.99309,     0.99369,     0.99429,     0.99489,     0.99549,     0.99609,     0.99669,     0.99729,     0.99789,     0.99849,     0.99909,\n",
       "            0.99969,           1,           1,           1,           1,           1,           1,           1,           1,           1,           1,           1,           1,           1,           1,           1,           1,           1,           1,           1,           1,           1,           1,\n",
       "                  1,           1,           1,           1,           1,           1,           1,           1,           1,           1,           1,           1,           1,           1,           1,           1,           1,           1,           1,           1,           1,           1,           1,\n",
       "                  1,           1,           1,           1,           1,           1,           1,           1,           1,           1,           1,           1,           1,           1,           1,           1,           1,           1,           1,           1,           1,           1,           1,\n",
       "                  1,           1,           1,           1,           1,           1,           1,           1,           1,           1,           1,           1,           1,           1,           1,           1,           1,           1,           1,           1,           1,           1,           1,\n",
       "                  1,           1,           1,           1,           1,           1,           1,           1,           1,           1,           1,           1,           1,           1,           1,           1,           1,           1,           1,           1,           1,           1,           1,\n",
       "                  1,           1,           1,           1,           1,           1,           1,           1,           1,           1,           1,           1,           1,           1,           1,           1,           1,           1,           1,           1,           1,           1,           1,\n",
       "                  1,           1,           1,           1,           1,           1,           1,           1,           1,           1,           1,           1,           1,           1,           1,           1,           1,           1,           1,           1,           1,           1,           1,\n",
       "                  1,           1,           1,           1,           1,           1,           1,           1,           1,           1,           1,           1,           1,           1,           1,           1,           1,           1,           1,           1,           1,           1,           1,\n",
       "                  1,           1,           1,           1,           1,           1,           1,           1,           1,           1,           1,           1,           1,           1,           1,           1,           1,           1,           1,           1,           1,           1,           1,\n",
       "                  1,           1,           1,           1,           1,           1,           1,           1,           1,           1,           1,           1,           1,           1,           1,           1,           1,           1,           1,           1,           1,           1,           1,\n",
       "                  1,           1,           1,           1,           1,           1,           1,           1,           1,           1,           1,           1,           1,           1,           1,           1,           1,           1,           1,           1,           1,           1,           1,\n",
       "                  1,           1,           1,           1,           1,           1,           1,           1,           1,           1,           1,           1,           1,           1,           1,           1,           1,           1,           1,           1,           1,           1,           1,\n",
       "                  1,           1,           1,           1,           1,           1,           1,           1,           1,           1,           1,           1,           1,           1,           1,           1,           1,           1,           1,           1,           1,           1,           1,\n",
       "                  1,           1,           1,           1,           1,           1,           1,           1,           1,           1,           1,           1,           1,           1,           1,           1,           1,           1,           1,           1,           1,           1,           1,\n",
       "                  1,           1,           1,           1,           1,           1,           1,           1,           1,           1,           1,           1,           1,           1,           1,           1,           1,           1,           1,           1,           1,           1,           1,\n",
       "                  1,           1,           1,           1,           1,           1,           1,           1,           1,           1,           1,           1,           1,           1,           1,           1,           1,           1,           1,           1,           1,           1,           1,\n",
       "                  1,           1,           1,           1,           1,           1,           1,           1,           1,           1,           1,           1,           1,           1,           1,           1,           1,           1,           1,           1,           1,           1,           1,\n",
       "                  1,           1,           1,           1,           1,           1,           1,           1,           1,           1,           1]]), 'Confidence', 'Precision'], [array([          0,    0.001001,    0.002002,    0.003003,    0.004004,    0.005005,    0.006006,    0.007007,    0.008008,    0.009009,     0.01001,    0.011011,    0.012012,    0.013013,    0.014014,    0.015015,    0.016016,    0.017017,    0.018018,    0.019019,     0.02002,    0.021021,    0.022022,    0.023023,\n",
       "          0.024024,    0.025025,    0.026026,    0.027027,    0.028028,    0.029029,     0.03003,    0.031031,    0.032032,    0.033033,    0.034034,    0.035035,    0.036036,    0.037037,    0.038038,    0.039039,     0.04004,    0.041041,    0.042042,    0.043043,    0.044044,    0.045045,    0.046046,    0.047047,\n",
       "          0.048048,    0.049049,     0.05005,    0.051051,    0.052052,    0.053053,    0.054054,    0.055055,    0.056056,    0.057057,    0.058058,    0.059059,     0.06006,    0.061061,    0.062062,    0.063063,    0.064064,    0.065065,    0.066066,    0.067067,    0.068068,    0.069069,     0.07007,    0.071071,\n",
       "          0.072072,    0.073073,    0.074074,    0.075075,    0.076076,    0.077077,    0.078078,    0.079079,     0.08008,    0.081081,    0.082082,    0.083083,    0.084084,    0.085085,    0.086086,    0.087087,    0.088088,    0.089089,     0.09009,    0.091091,    0.092092,    0.093093,    0.094094,    0.095095,\n",
       "          0.096096,    0.097097,    0.098098,    0.099099,      0.1001,      0.1011,      0.1021,      0.1031,      0.1041,     0.10511,     0.10611,     0.10711,     0.10811,     0.10911,     0.11011,     0.11111,     0.11211,     0.11311,     0.11411,     0.11512,     0.11612,     0.11712,     0.11812,     0.11912,\n",
       "           0.12012,     0.12112,     0.12212,     0.12312,     0.12412,     0.12513,     0.12613,     0.12713,     0.12813,     0.12913,     0.13013,     0.13113,     0.13213,     0.13313,     0.13413,     0.13514,     0.13614,     0.13714,     0.13814,     0.13914,     0.14014,     0.14114,     0.14214,     0.14314,\n",
       "           0.14414,     0.14515,     0.14615,     0.14715,     0.14815,     0.14915,     0.15015,     0.15115,     0.15215,     0.15315,     0.15415,     0.15516,     0.15616,     0.15716,     0.15816,     0.15916,     0.16016,     0.16116,     0.16216,     0.16316,     0.16416,     0.16517,     0.16617,     0.16717,\n",
       "           0.16817,     0.16917,     0.17017,     0.17117,     0.17217,     0.17317,     0.17417,     0.17518,     0.17618,     0.17718,     0.17818,     0.17918,     0.18018,     0.18118,     0.18218,     0.18318,     0.18418,     0.18519,     0.18619,     0.18719,     0.18819,     0.18919,     0.19019,     0.19119,\n",
       "           0.19219,     0.19319,     0.19419,      0.1952,      0.1962,      0.1972,      0.1982,      0.1992,      0.2002,      0.2012,      0.2022,      0.2032,      0.2042,     0.20521,     0.20621,     0.20721,     0.20821,     0.20921,     0.21021,     0.21121,     0.21221,     0.21321,     0.21421,     0.21522,\n",
       "           0.21622,     0.21722,     0.21822,     0.21922,     0.22022,     0.22122,     0.22222,     0.22322,     0.22422,     0.22523,     0.22623,     0.22723,     0.22823,     0.22923,     0.23023,     0.23123,     0.23223,     0.23323,     0.23423,     0.23524,     0.23624,     0.23724,     0.23824,     0.23924,\n",
       "           0.24024,     0.24124,     0.24224,     0.24324,     0.24424,     0.24525,     0.24625,     0.24725,     0.24825,     0.24925,     0.25025,     0.25125,     0.25225,     0.25325,     0.25425,     0.25526,     0.25626,     0.25726,     0.25826,     0.25926,     0.26026,     0.26126,     0.26226,     0.26326,\n",
       "           0.26426,     0.26527,     0.26627,     0.26727,     0.26827,     0.26927,     0.27027,     0.27127,     0.27227,     0.27327,     0.27427,     0.27528,     0.27628,     0.27728,     0.27828,     0.27928,     0.28028,     0.28128,     0.28228,     0.28328,     0.28428,     0.28529,     0.28629,     0.28729,\n",
       "           0.28829,     0.28929,     0.29029,     0.29129,     0.29229,     0.29329,     0.29429,      0.2953,      0.2963,      0.2973,      0.2983,      0.2993,      0.3003,      0.3013,      0.3023,      0.3033,      0.3043,     0.30531,     0.30631,     0.30731,     0.30831,     0.30931,     0.31031,     0.31131,\n",
       "           0.31231,     0.31331,     0.31431,     0.31532,     0.31632,     0.31732,     0.31832,     0.31932,     0.32032,     0.32132,     0.32232,     0.32332,     0.32432,     0.32533,     0.32633,     0.32733,     0.32833,     0.32933,     0.33033,     0.33133,     0.33233,     0.33333,     0.33433,     0.33534,\n",
       "           0.33634,     0.33734,     0.33834,     0.33934,     0.34034,     0.34134,     0.34234,     0.34334,     0.34434,     0.34535,     0.34635,     0.34735,     0.34835,     0.34935,     0.35035,     0.35135,     0.35235,     0.35335,     0.35435,     0.35536,     0.35636,     0.35736,     0.35836,     0.35936,\n",
       "           0.36036,     0.36136,     0.36236,     0.36336,     0.36436,     0.36537,     0.36637,     0.36737,     0.36837,     0.36937,     0.37037,     0.37137,     0.37237,     0.37337,     0.37437,     0.37538,     0.37638,     0.37738,     0.37838,     0.37938,     0.38038,     0.38138,     0.38238,     0.38338,\n",
       "           0.38438,     0.38539,     0.38639,     0.38739,     0.38839,     0.38939,     0.39039,     0.39139,     0.39239,     0.39339,     0.39439,      0.3954,      0.3964,      0.3974,      0.3984,      0.3994,      0.4004,      0.4014,      0.4024,      0.4034,      0.4044,     0.40541,     0.40641,     0.40741,\n",
       "           0.40841,     0.40941,     0.41041,     0.41141,     0.41241,     0.41341,     0.41441,     0.41542,     0.41642,     0.41742,     0.41842,     0.41942,     0.42042,     0.42142,     0.42242,     0.42342,     0.42442,     0.42543,     0.42643,     0.42743,     0.42843,     0.42943,     0.43043,     0.43143,\n",
       "           0.43243,     0.43343,     0.43443,     0.43544,     0.43644,     0.43744,     0.43844,     0.43944,     0.44044,     0.44144,     0.44244,     0.44344,     0.44444,     0.44545,     0.44645,     0.44745,     0.44845,     0.44945,     0.45045,     0.45145,     0.45245,     0.45345,     0.45445,     0.45546,\n",
       "           0.45646,     0.45746,     0.45846,     0.45946,     0.46046,     0.46146,     0.46246,     0.46346,     0.46446,     0.46547,     0.46647,     0.46747,     0.46847,     0.46947,     0.47047,     0.47147,     0.47247,     0.47347,     0.47447,     0.47548,     0.47648,     0.47748,     0.47848,     0.47948,\n",
       "           0.48048,     0.48148,     0.48248,     0.48348,     0.48448,     0.48549,     0.48649,     0.48749,     0.48849,     0.48949,     0.49049,     0.49149,     0.49249,     0.49349,     0.49449,      0.4955,      0.4965,      0.4975,      0.4985,      0.4995,      0.5005,      0.5015,      0.5025,      0.5035,\n",
       "            0.5045,     0.50551,     0.50651,     0.50751,     0.50851,     0.50951,     0.51051,     0.51151,     0.51251,     0.51351,     0.51451,     0.51552,     0.51652,     0.51752,     0.51852,     0.51952,     0.52052,     0.52152,     0.52252,     0.52352,     0.52452,     0.52553,     0.52653,     0.52753,\n",
       "           0.52853,     0.52953,     0.53053,     0.53153,     0.53253,     0.53353,     0.53453,     0.53554,     0.53654,     0.53754,     0.53854,     0.53954,     0.54054,     0.54154,     0.54254,     0.54354,     0.54454,     0.54555,     0.54655,     0.54755,     0.54855,     0.54955,     0.55055,     0.55155,\n",
       "           0.55255,     0.55355,     0.55455,     0.55556,     0.55656,     0.55756,     0.55856,     0.55956,     0.56056,     0.56156,     0.56256,     0.56356,     0.56456,     0.56557,     0.56657,     0.56757,     0.56857,     0.56957,     0.57057,     0.57157,     0.57257,     0.57357,     0.57457,     0.57558,\n",
       "           0.57658,     0.57758,     0.57858,     0.57958,     0.58058,     0.58158,     0.58258,     0.58358,     0.58458,     0.58559,     0.58659,     0.58759,     0.58859,     0.58959,     0.59059,     0.59159,     0.59259,     0.59359,     0.59459,      0.5956,      0.5966,      0.5976,      0.5986,      0.5996,\n",
       "            0.6006,      0.6016,      0.6026,      0.6036,      0.6046,     0.60561,     0.60661,     0.60761,     0.60861,     0.60961,     0.61061,     0.61161,     0.61261,     0.61361,     0.61461,     0.61562,     0.61662,     0.61762,     0.61862,     0.61962,     0.62062,     0.62162,     0.62262,     0.62362,\n",
       "           0.62462,     0.62563,     0.62663,     0.62763,     0.62863,     0.62963,     0.63063,     0.63163,     0.63263,     0.63363,     0.63463,     0.63564,     0.63664,     0.63764,     0.63864,     0.63964,     0.64064,     0.64164,     0.64264,     0.64364,     0.64464,     0.64565,     0.64665,     0.64765,\n",
       "           0.64865,     0.64965,     0.65065,     0.65165,     0.65265,     0.65365,     0.65465,     0.65566,     0.65666,     0.65766,     0.65866,     0.65966,     0.66066,     0.66166,     0.66266,     0.66366,     0.66466,     0.66567,     0.66667,     0.66767,     0.66867,     0.66967,     0.67067,     0.67167,\n",
       "           0.67267,     0.67367,     0.67467,     0.67568,     0.67668,     0.67768,     0.67868,     0.67968,     0.68068,     0.68168,     0.68268,     0.68368,     0.68468,     0.68569,     0.68669,     0.68769,     0.68869,     0.68969,     0.69069,     0.69169,     0.69269,     0.69369,     0.69469,      0.6957,\n",
       "            0.6967,      0.6977,      0.6987,      0.6997,      0.7007,      0.7017,      0.7027,      0.7037,      0.7047,     0.70571,     0.70671,     0.70771,     0.70871,     0.70971,     0.71071,     0.71171,     0.71271,     0.71371,     0.71471,     0.71572,     0.71672,     0.71772,     0.71872,     0.71972,\n",
       "           0.72072,     0.72172,     0.72272,     0.72372,     0.72472,     0.72573,     0.72673,     0.72773,     0.72873,     0.72973,     0.73073,     0.73173,     0.73273,     0.73373,     0.73473,     0.73574,     0.73674,     0.73774,     0.73874,     0.73974,     0.74074,     0.74174,     0.74274,     0.74374,\n",
       "           0.74474,     0.74575,     0.74675,     0.74775,     0.74875,     0.74975,     0.75075,     0.75175,     0.75275,     0.75375,     0.75475,     0.75576,     0.75676,     0.75776,     0.75876,     0.75976,     0.76076,     0.76176,     0.76276,     0.76376,     0.76476,     0.76577,     0.76677,     0.76777,\n",
       "           0.76877,     0.76977,     0.77077,     0.77177,     0.77277,     0.77377,     0.77477,     0.77578,     0.77678,     0.77778,     0.77878,     0.77978,     0.78078,     0.78178,     0.78278,     0.78378,     0.78478,     0.78579,     0.78679,     0.78779,     0.78879,     0.78979,     0.79079,     0.79179,\n",
       "           0.79279,     0.79379,     0.79479,      0.7958,      0.7968,      0.7978,      0.7988,      0.7998,      0.8008,      0.8018,      0.8028,      0.8038,      0.8048,     0.80581,     0.80681,     0.80781,     0.80881,     0.80981,     0.81081,     0.81181,     0.81281,     0.81381,     0.81481,     0.81582,\n",
       "           0.81682,     0.81782,     0.81882,     0.81982,     0.82082,     0.82182,     0.82282,     0.82382,     0.82482,     0.82583,     0.82683,     0.82783,     0.82883,     0.82983,     0.83083,     0.83183,     0.83283,     0.83383,     0.83483,     0.83584,     0.83684,     0.83784,     0.83884,     0.83984,\n",
       "           0.84084,     0.84184,     0.84284,     0.84384,     0.84484,     0.84585,     0.84685,     0.84785,     0.84885,     0.84985,     0.85085,     0.85185,     0.85285,     0.85385,     0.85485,     0.85586,     0.85686,     0.85786,     0.85886,     0.85986,     0.86086,     0.86186,     0.86286,     0.86386,\n",
       "           0.86486,     0.86587,     0.86687,     0.86787,     0.86887,     0.86987,     0.87087,     0.87187,     0.87287,     0.87387,     0.87487,     0.87588,     0.87688,     0.87788,     0.87888,     0.87988,     0.88088,     0.88188,     0.88288,     0.88388,     0.88488,     0.88589,     0.88689,     0.88789,\n",
       "           0.88889,     0.88989,     0.89089,     0.89189,     0.89289,     0.89389,     0.89489,      0.8959,      0.8969,      0.8979,      0.8989,      0.8999,      0.9009,      0.9019,      0.9029,      0.9039,      0.9049,     0.90591,     0.90691,     0.90791,     0.90891,     0.90991,     0.91091,     0.91191,\n",
       "           0.91291,     0.91391,     0.91491,     0.91592,     0.91692,     0.91792,     0.91892,     0.91992,     0.92092,     0.92192,     0.92292,     0.92392,     0.92492,     0.92593,     0.92693,     0.92793,     0.92893,     0.92993,     0.93093,     0.93193,     0.93293,     0.93393,     0.93493,     0.93594,\n",
       "           0.93694,     0.93794,     0.93894,     0.93994,     0.94094,     0.94194,     0.94294,     0.94394,     0.94494,     0.94595,     0.94695,     0.94795,     0.94895,     0.94995,     0.95095,     0.95195,     0.95295,     0.95395,     0.95495,     0.95596,     0.95696,     0.95796,     0.95896,     0.95996,\n",
       "           0.96096,     0.96196,     0.96296,     0.96396,     0.96496,     0.96597,     0.96697,     0.96797,     0.96897,     0.96997,     0.97097,     0.97197,     0.97297,     0.97397,     0.97497,     0.97598,     0.97698,     0.97798,     0.97898,     0.97998,     0.98098,     0.98198,     0.98298,     0.98398,\n",
       "           0.98498,     0.98599,     0.98699,     0.98799,     0.98899,     0.98999,     0.99099,     0.99199,     0.99299,     0.99399,     0.99499,       0.996,       0.997,       0.998,       0.999,           1]), array([[    0.87838,     0.87838,     0.87838,     0.87838,     0.87838,     0.87838,     0.87838,     0.87838,     0.87838,     0.87838,     0.87838,     0.87838,     0.87838,     0.87838,     0.87838,     0.87838,     0.87838,     0.87838,     0.87838,     0.87838,     0.87838,     0.87838,     0.87838,\n",
       "            0.87838,     0.87838,     0.87838,     0.87838,     0.87838,     0.87838,     0.87838,     0.87838,     0.87838,     0.87838,     0.87838,     0.87838,     0.87838,     0.87838,     0.87838,     0.87838,     0.87838,     0.87838,     0.87838,     0.87838,     0.87838,     0.87838,     0.87838,\n",
       "            0.87838,     0.87838,     0.87838,     0.87838,     0.87838,     0.87838,     0.87838,     0.87838,     0.87838,     0.87838,     0.87838,     0.87838,     0.87838,     0.87838,     0.87838,     0.87838,     0.87838,     0.87838,     0.87838,     0.87838,     0.87838,     0.87838,     0.87838,\n",
       "            0.87838,     0.87838,     0.87838,     0.87838,     0.87838,     0.87838,     0.87838,     0.87838,     0.87838,     0.87838,     0.87838,     0.87838,     0.87838,     0.87838,     0.87838,     0.87838,     0.87838,     0.87838,     0.87838,     0.87838,     0.87838,     0.87838,     0.87838,\n",
       "            0.87838,     0.87838,     0.87838,     0.87838,     0.87838,     0.87838,     0.87838,     0.87838,     0.87838,     0.87838,     0.87838,     0.87838,     0.87838,     0.87838,     0.87838,     0.87838,     0.87838,     0.87838,     0.87838,     0.87838,     0.87838,     0.87838,     0.87838,\n",
       "            0.87838,     0.87838,     0.87838,     0.87838,     0.87838,     0.87838,     0.87838,     0.87838,     0.87838,     0.87838,     0.87838,     0.87838,     0.87838,     0.87838,     0.87838,     0.87838,     0.87838,     0.87838,     0.87838,     0.87838,     0.87838,     0.87838,     0.87838,\n",
       "            0.87838,     0.87838,     0.87838,     0.87838,     0.87838,     0.87838,     0.87838,     0.87838,     0.87838,     0.87838,     0.87838,     0.87838,     0.87838,     0.87838,     0.87838,     0.87838,     0.87838,     0.87838,     0.87838,     0.87838,     0.87838,     0.87838,     0.87838,\n",
       "            0.87838,     0.87838,     0.87838,     0.87838,     0.87838,     0.87838,     0.87838,     0.87838,     0.87838,     0.87838,     0.87838,     0.87838,     0.87838,     0.87838,     0.87838,     0.87838,     0.87838,     0.87838,     0.87838,     0.87838,     0.87838,     0.87838,     0.87838,\n",
       "            0.87838,     0.87838,     0.87838,     0.87838,     0.87838,     0.87838,     0.87838,     0.87835,     0.87815,     0.87795,     0.87774,     0.87754,     0.87734,     0.87714,     0.87694,     0.87674,     0.87654,     0.87634,     0.87614,     0.87593,     0.87573,     0.87553,     0.87533,\n",
       "            0.87513,     0.87493,     0.87473,     0.87453,     0.87433,     0.87412,     0.87392,     0.87372,     0.87352,     0.87332,     0.87312,     0.87292,     0.87272,     0.87252,     0.87231,     0.87211,     0.87191,     0.87171,     0.87151,     0.87131,     0.87111,     0.87091,     0.87071,\n",
       "             0.8705,      0.8703,      0.8701,      0.8699,      0.8697,      0.8695,      0.8693,      0.8691,      0.8689,     0.86869,     0.86849,     0.86829,     0.86809,     0.86789,     0.86769,     0.86749,     0.86729,     0.86709,     0.86688,     0.86668,     0.86648,     0.86628,     0.86608,\n",
       "            0.86588,     0.86568,     0.86548,     0.86528,     0.86507,     0.86487,     0.86486,     0.86486,     0.86486,     0.86486,     0.86486,     0.86486,     0.86486,     0.86486,     0.86486,     0.86486,     0.86486,     0.86486,     0.86486,     0.86486,     0.86486,     0.86486,     0.86486,\n",
       "            0.86486,     0.86486,     0.86486,     0.86486,     0.86486,     0.86486,     0.86486,     0.86486,     0.86486,     0.86486,     0.86486,     0.86486,     0.86486,     0.86486,     0.86486,     0.86486,     0.86444,     0.86366,     0.86288,      0.8621,     0.86132,     0.86054,     0.85976,\n",
       "            0.85898,      0.8582,     0.85742,     0.85664,     0.85586,     0.85508,      0.8543,     0.85352,     0.85273,     0.85195,     0.85135,     0.85135,     0.85135,     0.85135,     0.85135,     0.85135,     0.85135,     0.85135,     0.85135,     0.85135,     0.85135,     0.85135,     0.85135,\n",
       "            0.85135,     0.85135,     0.85135,     0.85135,     0.85135,     0.85135,     0.85135,     0.85135,     0.85135,     0.85135,     0.85135,     0.85135,     0.85135,     0.85135,     0.85135,     0.85135,     0.85135,     0.85135,     0.85135,     0.85135,     0.85135,     0.85135,     0.85135,\n",
       "            0.85135,     0.85135,     0.85135,     0.85135,     0.85135,     0.85135,     0.85135,     0.85135,     0.85135,     0.85135,     0.85101,     0.84837,     0.84573,     0.84309,     0.84045,     0.83784,     0.83784,     0.83784,     0.83784,     0.83784,     0.83784,     0.83784,     0.83784,\n",
       "            0.83784,     0.83784,     0.83784,     0.83784,     0.83784,     0.83784,     0.83784,     0.83784,     0.83784,     0.83784,     0.83784,     0.83784,     0.83784,     0.83784,     0.83784,     0.83784,     0.83784,     0.83784,     0.83784,     0.83784,     0.83784,     0.83784,     0.83784,\n",
       "            0.83784,     0.83784,     0.83784,     0.83784,     0.83784,     0.83784,     0.83784,     0.83784,     0.83784,     0.83784,     0.83784,     0.83784,     0.83784,     0.83784,     0.83784,     0.83784,     0.83784,     0.83784,     0.83784,     0.83784,     0.83784,     0.83784,     0.83784,\n",
       "            0.83784,     0.83784,     0.83784,     0.83784,     0.83784,     0.83784,     0.83784,     0.83784,     0.83784,     0.83784,     0.83784,     0.83784,     0.83784,     0.83784,     0.83784,     0.83784,     0.83784,     0.83784,     0.83784,     0.83784,     0.83784,     0.83784,     0.83784,\n",
       "            0.83784,     0.83784,     0.83784,     0.83784,     0.83784,     0.83784,     0.83784,     0.83784,     0.83784,     0.83784,     0.83784,     0.83784,     0.83784,     0.83784,     0.83784,     0.83784,     0.83784,     0.83784,     0.83784,     0.83784,     0.83784,     0.83784,     0.83784,\n",
       "            0.83784,     0.83784,     0.83784,     0.83784,     0.83784,     0.83784,     0.83784,     0.83784,     0.83784,     0.83784,     0.83784,     0.83784,     0.83784,     0.83768,     0.83749,      0.8373,      0.8371,     0.83691,     0.83672,     0.83653,     0.83633,     0.83614,     0.83595,\n",
       "            0.83576,     0.83556,     0.83537,     0.83518,     0.83499,      0.8348,      0.8346,     0.83441,     0.83422,     0.83403,     0.83383,     0.83364,     0.83345,     0.83326,     0.83306,     0.83287,     0.83268,     0.83249,     0.83229,      0.8321,     0.83191,     0.83172,     0.83152,\n",
       "            0.83133,     0.83114,     0.83095,     0.83075,     0.83056,     0.83037,     0.83018,     0.82999,     0.82979,      0.8296,     0.82941,     0.82922,     0.82902,     0.82883,     0.82864,     0.82845,     0.82825,     0.82806,     0.82787,     0.82768,     0.82748,     0.82729,      0.8271,\n",
       "            0.82691,     0.82671,     0.82652,     0.82633,     0.82614,     0.82595,     0.82575,     0.82556,     0.82537,     0.82518,     0.82498,     0.82479,      0.8246,     0.82441,     0.82405,     0.82359,     0.82312,     0.82265,     0.82218,     0.82171,     0.82124,     0.82077,      0.8203,\n",
       "            0.81983,     0.81936,     0.81889,     0.81842,     0.81795,     0.81748,     0.81701,     0.81654,     0.81607,      0.8156,     0.81513,     0.81466,     0.81419,     0.81372,     0.81326,     0.81279,     0.81232,     0.81185,     0.81138,     0.81091,     0.81081,     0.81081,     0.81081,\n",
       "            0.81081,     0.81081,     0.81081,     0.81081,     0.81081,     0.81081,     0.81081,     0.81081,     0.81081,     0.81081,     0.81081,     0.81081,     0.81081,     0.81081,     0.81081,     0.81081,     0.81081,     0.81081,     0.81081,     0.81081,     0.81081,     0.81081,     0.81081,\n",
       "            0.81081,     0.80971,      0.8074,     0.80509,     0.80278,     0.80047,     0.79816,     0.79709,     0.79675,     0.79641,     0.79607,     0.79573,      0.7954,     0.79506,     0.79472,     0.79438,     0.79405,     0.79371,     0.79337,     0.79303,     0.79269,     0.79236,     0.79202,\n",
       "            0.79168,     0.79134,     0.79101,     0.79067,     0.79033,     0.78999,     0.78965,     0.78932,     0.78898,     0.78864,      0.7883,     0.78796,     0.78763,     0.78729,     0.78695,     0.78661,     0.78628,     0.78594,      0.7856,     0.78526,     0.78492,     0.78459,     0.78425,\n",
       "            0.78391,     0.78352,      0.7831,     0.78268,     0.78226,     0.78184,     0.78142,       0.781,     0.78058,     0.78016,     0.77974,     0.77932,      0.7789,     0.77848,     0.77806,     0.77764,     0.77723,     0.77681,     0.77639,     0.77597,     0.77555,     0.77513,     0.77471,\n",
       "            0.77429,     0.77387,     0.77345,     0.77303,     0.77261,     0.77219,     0.77177,     0.77135,     0.77093,     0.77051,     0.77007,     0.76961,     0.76915,     0.76869,     0.76822,     0.76776,      0.7673,     0.76684,     0.76638,     0.76592,     0.76545,     0.76499,     0.76453,\n",
       "            0.76407,     0.76361,     0.76315,     0.76268,     0.76222,     0.76176,      0.7613,     0.76084,     0.76038,     0.75991,     0.75945,     0.75899,     0.75853,     0.75807,      0.7576,     0.75714,     0.75667,     0.75617,     0.75567,     0.75516,     0.75466,     0.75416,     0.75365,\n",
       "            0.75315,     0.75264,     0.75214,     0.75164,     0.75113,     0.75063,     0.75013,     0.74962,     0.74912,     0.74862,     0.74811,     0.74761,      0.7471,      0.7466,      0.7461,     0.74559,     0.74509,     0.74459,     0.74408,     0.74358,     0.74302,     0.74234,     0.74167,\n",
       "            0.74099,     0.74031,     0.73964,     0.73896,     0.73829,     0.73761,     0.73694,     0.73626,     0.73558,     0.73491,     0.73423,     0.73356,     0.73288,     0.73221,     0.73153,     0.73085,     0.73018,     0.72896,     0.72665,     0.72434,     0.72203,     0.71972,     0.71741,\n",
       "              0.715,     0.71248,     0.70997,     0.70745,     0.70493,     0.70163,      0.6924,     0.68768,     0.68537,     0.68306,     0.68076,     0.67845,     0.67614,     0.67346,     0.67069,     0.66792,     0.66515,     0.66238,     0.66147,     0.66072,     0.65997,     0.65923,     0.65848,\n",
       "            0.65773,     0.65698,     0.65623,     0.65548,     0.65473,     0.65398,     0.65324,     0.65249,     0.65174,     0.65099,     0.65024,     0.64949,     0.64874,     0.64596,     0.64288,      0.6398,     0.63673,     0.63246,     0.62692,     0.62132,     0.61439,     0.60554,     0.59331,\n",
       "            0.59117,     0.58904,     0.58691,     0.58478,     0.58265,     0.58047,     0.57816,     0.57586,     0.57355,     0.57124,     0.56893,     0.56737,     0.56688,      0.5664,     0.56591,     0.56542,     0.56494,     0.56445,     0.56397,     0.56348,     0.56299,     0.56251,     0.56202,\n",
       "            0.56154,     0.56105,     0.56056,     0.56008,     0.55959,     0.55911,     0.55862,     0.55813,     0.55765,     0.55716,     0.55668,     0.55619,      0.5557,     0.55522,     0.55473,     0.55425,     0.55238,     0.54961,     0.54683,     0.54406,     0.54129,     0.53996,     0.53917,\n",
       "            0.53838,     0.53759,      0.5368,     0.53601,     0.53522,     0.53442,     0.53363,     0.53284,     0.53205,     0.53126,     0.53047,     0.52967,     0.52888,     0.52809,      0.5273,     0.52649,     0.52568,     0.52486,     0.52405,     0.52323,     0.52242,      0.5216,     0.52079,\n",
       "            0.51997,     0.51916,     0.51835,     0.51753,     0.51672,      0.5159,     0.51509,     0.51427,     0.51157,     0.49597,     0.48904,     0.48474,     0.48197,      0.4792,     0.47643,     0.47366,     0.45756,     0.45504,     0.45253,     0.45001,     0.44749,     0.44326,     0.43633,\n",
       "            0.42639,     0.41794,     0.41581,     0.41367,     0.41154,     0.40941,     0.40728,     0.40375,     0.39109,     0.38555,     0.38001,     0.37187,     0.36391,     0.35995,     0.35599,     0.35204,     0.34906,     0.34629,     0.34352,     0.34075,     0.33798,     0.32219,     0.31758,\n",
       "            0.31296,     0.30785,     0.30231,     0.28246,     0.26861,     0.25275,     0.22505,     0.20678,     0.17417,     0.16724,     0.15478,     0.14325,     0.13633,     0.13131,      0.1267,     0.12208,     0.10525,    0.098321,    0.090329,    0.081095,     0.06755,    0.066802,    0.066053,\n",
       "           0.065304,    0.064555,    0.063807,    0.063058,    0.062309,     0.06156,    0.060812,    0.060063,    0.059314,    0.058566,    0.057817,    0.057068,    0.056319,    0.055571,    0.054822,    0.054073,    0.040554,    0.037465,    0.034387,    0.031309,    0.028231,     0.02281,    0.015884,\n",
       "                  0,           0,           0,           0,           0,           0,           0,           0,           0,           0,           0,           0,           0,           0,           0,           0,           0,           0,           0,           0,           0,           0,           0,\n",
       "                  0,           0,           0,           0,           0,           0,           0,           0,           0,           0,           0]]), 'Confidence', 'Recall'], [array([          0,    0.001001,    0.002002,    0.003003,    0.004004,    0.005005,    0.006006,    0.007007,    0.008008,    0.009009,     0.01001,    0.011011,    0.012012,    0.013013,    0.014014,    0.015015,    0.016016,    0.017017,    0.018018,    0.019019,     0.02002,    0.021021,    0.022022,    0.023023,\n",
       "          0.024024,    0.025025,    0.026026,    0.027027,    0.028028,    0.029029,     0.03003,    0.031031,    0.032032,    0.033033,    0.034034,    0.035035,    0.036036,    0.037037,    0.038038,    0.039039,     0.04004,    0.041041,    0.042042,    0.043043,    0.044044,    0.045045,    0.046046,    0.047047,\n",
       "          0.048048,    0.049049,     0.05005,    0.051051,    0.052052,    0.053053,    0.054054,    0.055055,    0.056056,    0.057057,    0.058058,    0.059059,     0.06006,    0.061061,    0.062062,    0.063063,    0.064064,    0.065065,    0.066066,    0.067067,    0.068068,    0.069069,     0.07007,    0.071071,\n",
       "          0.072072,    0.073073,    0.074074,    0.075075,    0.076076,    0.077077,    0.078078,    0.079079,     0.08008,    0.081081,    0.082082,    0.083083,    0.084084,    0.085085,    0.086086,    0.087087,    0.088088,    0.089089,     0.09009,    0.091091,    0.092092,    0.093093,    0.094094,    0.095095,\n",
       "          0.096096,    0.097097,    0.098098,    0.099099,      0.1001,      0.1011,      0.1021,      0.1031,      0.1041,     0.10511,     0.10611,     0.10711,     0.10811,     0.10911,     0.11011,     0.11111,     0.11211,     0.11311,     0.11411,     0.11512,     0.11612,     0.11712,     0.11812,     0.11912,\n",
       "           0.12012,     0.12112,     0.12212,     0.12312,     0.12412,     0.12513,     0.12613,     0.12713,     0.12813,     0.12913,     0.13013,     0.13113,     0.13213,     0.13313,     0.13413,     0.13514,     0.13614,     0.13714,     0.13814,     0.13914,     0.14014,     0.14114,     0.14214,     0.14314,\n",
       "           0.14414,     0.14515,     0.14615,     0.14715,     0.14815,     0.14915,     0.15015,     0.15115,     0.15215,     0.15315,     0.15415,     0.15516,     0.15616,     0.15716,     0.15816,     0.15916,     0.16016,     0.16116,     0.16216,     0.16316,     0.16416,     0.16517,     0.16617,     0.16717,\n",
       "           0.16817,     0.16917,     0.17017,     0.17117,     0.17217,     0.17317,     0.17417,     0.17518,     0.17618,     0.17718,     0.17818,     0.17918,     0.18018,     0.18118,     0.18218,     0.18318,     0.18418,     0.18519,     0.18619,     0.18719,     0.18819,     0.18919,     0.19019,     0.19119,\n",
       "           0.19219,     0.19319,     0.19419,      0.1952,      0.1962,      0.1972,      0.1982,      0.1992,      0.2002,      0.2012,      0.2022,      0.2032,      0.2042,     0.20521,     0.20621,     0.20721,     0.20821,     0.20921,     0.21021,     0.21121,     0.21221,     0.21321,     0.21421,     0.21522,\n",
       "           0.21622,     0.21722,     0.21822,     0.21922,     0.22022,     0.22122,     0.22222,     0.22322,     0.22422,     0.22523,     0.22623,     0.22723,     0.22823,     0.22923,     0.23023,     0.23123,     0.23223,     0.23323,     0.23423,     0.23524,     0.23624,     0.23724,     0.23824,     0.23924,\n",
       "           0.24024,     0.24124,     0.24224,     0.24324,     0.24424,     0.24525,     0.24625,     0.24725,     0.24825,     0.24925,     0.25025,     0.25125,     0.25225,     0.25325,     0.25425,     0.25526,     0.25626,     0.25726,     0.25826,     0.25926,     0.26026,     0.26126,     0.26226,     0.26326,\n",
       "           0.26426,     0.26527,     0.26627,     0.26727,     0.26827,     0.26927,     0.27027,     0.27127,     0.27227,     0.27327,     0.27427,     0.27528,     0.27628,     0.27728,     0.27828,     0.27928,     0.28028,     0.28128,     0.28228,     0.28328,     0.28428,     0.28529,     0.28629,     0.28729,\n",
       "           0.28829,     0.28929,     0.29029,     0.29129,     0.29229,     0.29329,     0.29429,      0.2953,      0.2963,      0.2973,      0.2983,      0.2993,      0.3003,      0.3013,      0.3023,      0.3033,      0.3043,     0.30531,     0.30631,     0.30731,     0.30831,     0.30931,     0.31031,     0.31131,\n",
       "           0.31231,     0.31331,     0.31431,     0.31532,     0.31632,     0.31732,     0.31832,     0.31932,     0.32032,     0.32132,     0.32232,     0.32332,     0.32432,     0.32533,     0.32633,     0.32733,     0.32833,     0.32933,     0.33033,     0.33133,     0.33233,     0.33333,     0.33433,     0.33534,\n",
       "           0.33634,     0.33734,     0.33834,     0.33934,     0.34034,     0.34134,     0.34234,     0.34334,     0.34434,     0.34535,     0.34635,     0.34735,     0.34835,     0.34935,     0.35035,     0.35135,     0.35235,     0.35335,     0.35435,     0.35536,     0.35636,     0.35736,     0.35836,     0.35936,\n",
       "           0.36036,     0.36136,     0.36236,     0.36336,     0.36436,     0.36537,     0.36637,     0.36737,     0.36837,     0.36937,     0.37037,     0.37137,     0.37237,     0.37337,     0.37437,     0.37538,     0.37638,     0.37738,     0.37838,     0.37938,     0.38038,     0.38138,     0.38238,     0.38338,\n",
       "           0.38438,     0.38539,     0.38639,     0.38739,     0.38839,     0.38939,     0.39039,     0.39139,     0.39239,     0.39339,     0.39439,      0.3954,      0.3964,      0.3974,      0.3984,      0.3994,      0.4004,      0.4014,      0.4024,      0.4034,      0.4044,     0.40541,     0.40641,     0.40741,\n",
       "           0.40841,     0.40941,     0.41041,     0.41141,     0.41241,     0.41341,     0.41441,     0.41542,     0.41642,     0.41742,     0.41842,     0.41942,     0.42042,     0.42142,     0.42242,     0.42342,     0.42442,     0.42543,     0.42643,     0.42743,     0.42843,     0.42943,     0.43043,     0.43143,\n",
       "           0.43243,     0.43343,     0.43443,     0.43544,     0.43644,     0.43744,     0.43844,     0.43944,     0.44044,     0.44144,     0.44244,     0.44344,     0.44444,     0.44545,     0.44645,     0.44745,     0.44845,     0.44945,     0.45045,     0.45145,     0.45245,     0.45345,     0.45445,     0.45546,\n",
       "           0.45646,     0.45746,     0.45846,     0.45946,     0.46046,     0.46146,     0.46246,     0.46346,     0.46446,     0.46547,     0.46647,     0.46747,     0.46847,     0.46947,     0.47047,     0.47147,     0.47247,     0.47347,     0.47447,     0.47548,     0.47648,     0.47748,     0.47848,     0.47948,\n",
       "           0.48048,     0.48148,     0.48248,     0.48348,     0.48448,     0.48549,     0.48649,     0.48749,     0.48849,     0.48949,     0.49049,     0.49149,     0.49249,     0.49349,     0.49449,      0.4955,      0.4965,      0.4975,      0.4985,      0.4995,      0.5005,      0.5015,      0.5025,      0.5035,\n",
       "            0.5045,     0.50551,     0.50651,     0.50751,     0.50851,     0.50951,     0.51051,     0.51151,     0.51251,     0.51351,     0.51451,     0.51552,     0.51652,     0.51752,     0.51852,     0.51952,     0.52052,     0.52152,     0.52252,     0.52352,     0.52452,     0.52553,     0.52653,     0.52753,\n",
       "           0.52853,     0.52953,     0.53053,     0.53153,     0.53253,     0.53353,     0.53453,     0.53554,     0.53654,     0.53754,     0.53854,     0.53954,     0.54054,     0.54154,     0.54254,     0.54354,     0.54454,     0.54555,     0.54655,     0.54755,     0.54855,     0.54955,     0.55055,     0.55155,\n",
       "           0.55255,     0.55355,     0.55455,     0.55556,     0.55656,     0.55756,     0.55856,     0.55956,     0.56056,     0.56156,     0.56256,     0.56356,     0.56456,     0.56557,     0.56657,     0.56757,     0.56857,     0.56957,     0.57057,     0.57157,     0.57257,     0.57357,     0.57457,     0.57558,\n",
       "           0.57658,     0.57758,     0.57858,     0.57958,     0.58058,     0.58158,     0.58258,     0.58358,     0.58458,     0.58559,     0.58659,     0.58759,     0.58859,     0.58959,     0.59059,     0.59159,     0.59259,     0.59359,     0.59459,      0.5956,      0.5966,      0.5976,      0.5986,      0.5996,\n",
       "            0.6006,      0.6016,      0.6026,      0.6036,      0.6046,     0.60561,     0.60661,     0.60761,     0.60861,     0.60961,     0.61061,     0.61161,     0.61261,     0.61361,     0.61461,     0.61562,     0.61662,     0.61762,     0.61862,     0.61962,     0.62062,     0.62162,     0.62262,     0.62362,\n",
       "           0.62462,     0.62563,     0.62663,     0.62763,     0.62863,     0.62963,     0.63063,     0.63163,     0.63263,     0.63363,     0.63463,     0.63564,     0.63664,     0.63764,     0.63864,     0.63964,     0.64064,     0.64164,     0.64264,     0.64364,     0.64464,     0.64565,     0.64665,     0.64765,\n",
       "           0.64865,     0.64965,     0.65065,     0.65165,     0.65265,     0.65365,     0.65465,     0.65566,     0.65666,     0.65766,     0.65866,     0.65966,     0.66066,     0.66166,     0.66266,     0.66366,     0.66466,     0.66567,     0.66667,     0.66767,     0.66867,     0.66967,     0.67067,     0.67167,\n",
       "           0.67267,     0.67367,     0.67467,     0.67568,     0.67668,     0.67768,     0.67868,     0.67968,     0.68068,     0.68168,     0.68268,     0.68368,     0.68468,     0.68569,     0.68669,     0.68769,     0.68869,     0.68969,     0.69069,     0.69169,     0.69269,     0.69369,     0.69469,      0.6957,\n",
       "            0.6967,      0.6977,      0.6987,      0.6997,      0.7007,      0.7017,      0.7027,      0.7037,      0.7047,     0.70571,     0.70671,     0.70771,     0.70871,     0.70971,     0.71071,     0.71171,     0.71271,     0.71371,     0.71471,     0.71572,     0.71672,     0.71772,     0.71872,     0.71972,\n",
       "           0.72072,     0.72172,     0.72272,     0.72372,     0.72472,     0.72573,     0.72673,     0.72773,     0.72873,     0.72973,     0.73073,     0.73173,     0.73273,     0.73373,     0.73473,     0.73574,     0.73674,     0.73774,     0.73874,     0.73974,     0.74074,     0.74174,     0.74274,     0.74374,\n",
       "           0.74474,     0.74575,     0.74675,     0.74775,     0.74875,     0.74975,     0.75075,     0.75175,     0.75275,     0.75375,     0.75475,     0.75576,     0.75676,     0.75776,     0.75876,     0.75976,     0.76076,     0.76176,     0.76276,     0.76376,     0.76476,     0.76577,     0.76677,     0.76777,\n",
       "           0.76877,     0.76977,     0.77077,     0.77177,     0.77277,     0.77377,     0.77477,     0.77578,     0.77678,     0.77778,     0.77878,     0.77978,     0.78078,     0.78178,     0.78278,     0.78378,     0.78478,     0.78579,     0.78679,     0.78779,     0.78879,     0.78979,     0.79079,     0.79179,\n",
       "           0.79279,     0.79379,     0.79479,      0.7958,      0.7968,      0.7978,      0.7988,      0.7998,      0.8008,      0.8018,      0.8028,      0.8038,      0.8048,     0.80581,     0.80681,     0.80781,     0.80881,     0.80981,     0.81081,     0.81181,     0.81281,     0.81381,     0.81481,     0.81582,\n",
       "           0.81682,     0.81782,     0.81882,     0.81982,     0.82082,     0.82182,     0.82282,     0.82382,     0.82482,     0.82583,     0.82683,     0.82783,     0.82883,     0.82983,     0.83083,     0.83183,     0.83283,     0.83383,     0.83483,     0.83584,     0.83684,     0.83784,     0.83884,     0.83984,\n",
       "           0.84084,     0.84184,     0.84284,     0.84384,     0.84484,     0.84585,     0.84685,     0.84785,     0.84885,     0.84985,     0.85085,     0.85185,     0.85285,     0.85385,     0.85485,     0.85586,     0.85686,     0.85786,     0.85886,     0.85986,     0.86086,     0.86186,     0.86286,     0.86386,\n",
       "           0.86486,     0.86587,     0.86687,     0.86787,     0.86887,     0.86987,     0.87087,     0.87187,     0.87287,     0.87387,     0.87487,     0.87588,     0.87688,     0.87788,     0.87888,     0.87988,     0.88088,     0.88188,     0.88288,     0.88388,     0.88488,     0.88589,     0.88689,     0.88789,\n",
       "           0.88889,     0.88989,     0.89089,     0.89189,     0.89289,     0.89389,     0.89489,      0.8959,      0.8969,      0.8979,      0.8989,      0.8999,      0.9009,      0.9019,      0.9029,      0.9039,      0.9049,     0.90591,     0.90691,     0.90791,     0.90891,     0.90991,     0.91091,     0.91191,\n",
       "           0.91291,     0.91391,     0.91491,     0.91592,     0.91692,     0.91792,     0.91892,     0.91992,     0.92092,     0.92192,     0.92292,     0.92392,     0.92492,     0.92593,     0.92693,     0.92793,     0.92893,     0.92993,     0.93093,     0.93193,     0.93293,     0.93393,     0.93493,     0.93594,\n",
       "           0.93694,     0.93794,     0.93894,     0.93994,     0.94094,     0.94194,     0.94294,     0.94394,     0.94494,     0.94595,     0.94695,     0.94795,     0.94895,     0.94995,     0.95095,     0.95195,     0.95295,     0.95395,     0.95495,     0.95596,     0.95696,     0.95796,     0.95896,     0.95996,\n",
       "           0.96096,     0.96196,     0.96296,     0.96396,     0.96496,     0.96597,     0.96697,     0.96797,     0.96897,     0.96997,     0.97097,     0.97197,     0.97297,     0.97397,     0.97497,     0.97598,     0.97698,     0.97798,     0.97898,     0.97998,     0.98098,     0.98198,     0.98298,     0.98398,\n",
       "           0.98498,     0.98599,     0.98699,     0.98799,     0.98899,     0.98999,     0.99099,     0.99199,     0.99299,     0.99399,     0.99499,       0.996,       0.997,       0.998,       0.999,           1]), array([[          1,           1,           1,           1,           1,           1,           1,           1,           1,           1,           1,           1,           1,           1,           1,           1,           1,           1,           1,           1,           1,           1,           1,\n",
       "                  1,           1,           1,           1,           1,           1,           1,           1,           1,           1,           1,           1,           1,           1,           1,           1,           1,           1,           1,           1,           1,           1,           1,\n",
       "                  1,           1,           1,           1,           1,           1,           1,           1,           1,           1,           1,           1,           1,           1,           1,           1,           1,           1,           1,           1,           1,           1,           1,\n",
       "                  1,           1,           1,           1,           1,           1,           1,           1,           1,           1,           1,           1,           1,           1,           1,           1,           1,           1,           1,           1,           1,           1,           1,\n",
       "                  1,           1,           1,           1,           1,           1,           1,           1,           1,           1,           1,           1,           1,           1,           1,           1,           1,           1,           1,           1,           1,           1,           1,\n",
       "                  1,           1,           1,           1,           1,           1,           1,           1,           1,           1,           1,           1,           1,           1,           1,           1,           1,           1,           1,           1,           1,           1,           1,\n",
       "                  1,           1,           1,           1,           1,           1,           1,           1,           1,           1,           1,           1,           1,           1,           1,           1,           1,           1,           1,           1,           1,           1,           1,\n",
       "                  1,           1,           1,           1,           1,           1,           1,           1,           1,           1,           1,           1,           1,           1,           1,           1,           1,           1,           1,           1,           1,           1,           1,\n",
       "                  1,           1,           1,           1,           1,           1,           1,           1,           1,           1,           1,           1,           1,           1,           1,           1,           1,           1,           1,           1,           1,           1,           1,\n",
       "                  1,           1,           1,           1,           1,           1,           1,           1,           1,           1,           1,           1,           1,           1,           1,           1,           1,           1,           1,           1,           1,           1,           1,\n",
       "                  1,           1,           1,           1,           1,           1,           1,           1,           1,           1,           1,           1,           1,           1,           1,           1,           1,           1,           1,           1,           1,           1,           1,\n",
       "                  1,           1,           1,           1,           1,           1,           1,           1,           1,           1,           1,           1,           1,           1,           1,           1,           1,           1,           1,           1,           1,           1,           1,\n",
       "                  1,           1,           1,           1,           1,           1,           1,           1,           1,           1,           1,           1,           1,           1,           1,           1,           1,           1,           1,           1,           1,           1,           1,\n",
       "                  1,           1,           1,           1,           1,           1,           1,           1,           1,           1,           1,           1,           1,           1,           1,           1,           1,           1,           1,           1,           1,           1,           1,\n",
       "                  1,           1,           1,           1,           1,           1,           1,           1,           1,           1,           1,           1,           1,           1,           1,           1,           1,           1,           1,           1,           1,           1,           1,\n",
       "                  1,           1,           1,           1,           1,           1,           1,           1,           1,           1,           1,           1,           1,           1,           1,           1,           1,           1,           1,           1,           1,           1,           1,\n",
       "                  1,           1,           1,           1,           1,           1,           1,           1,           1,           1,           1,           1,           1,           1,           1,           1,           1,           1,           1,           1,           1,           1,           1,\n",
       "                  1,           1,           1,           1,           1,           1,           1,           1,           1,           1,           1,           1,           1,           1,           1,           1,           1,           1,           1,           1,           1,           1,           1,\n",
       "                  1,           1,           1,           1,           1,           1,           1,           1,           1,           1,           1,           1,           1,           1,           1,           1,           1,           1,           1,           1,           1,           1,           1,\n",
       "                  1,           1,           1,           1,           1,           1,           1,           1,           1,           1,           1,           1,           1,           1,           1,           1,           1,           1,           1,           1,           1,           1,           1,\n",
       "                  1,           1,           1,           1,           1,           1,           1,           1,           1,           1,           1,           1,           1,           1,           1,           1,           1,           1,           1,           1,           1,           1,           1,\n",
       "                  1,           1,           1,           1,           1,           1,           1,           1,           1,           1,           1,           1,           1,           1,           1,           1,           1,           1,           1,           1,           1,           1,           1,\n",
       "                  1,           1,           1,           1,           1,           1,           1,           1,           1,           1,           1,           1,           1,           1,           1,           1,           1,           1,           1,           1,           1,           1,           1,\n",
       "                  1,           1,           1,           1,           1,           1,           1,           1,           1,           1,           1,           1,           1,           1,           1,           1,           1,           1,           1,           1,           1,           1,           1,\n",
       "                  1,           1,           1,           1,           1,           1,           1,           1,           1,           1,           1,           1,           1,           1,           1,           1,           1,           1,           1,           1,           1,           1,           1,\n",
       "                  1,           1,           1,           1,           1,           1,           1,           1,           1,           1,           1,           1,           1,           1,           1,           1,           1,           1,           1,           1,           1,           1,           1,\n",
       "                  1,           1,           1,           1,           1,           1,           1,           1,           1,           1,           1,           1,           1,           1,           1,           1,           1,           1,           1,           1,           1,           1,           1,\n",
       "                  1,           1,           1,           1,           1,           1,           1,           1,           1,           1,           1,           1,           1,           1,     0.98077,     0.98077,     0.98077,     0.98077,     0.98077,     0.98077,     0.98077,     0.98077,     0.98077,\n",
       "            0.98077,     0.98077,     0.98077,     0.98077,     0.98077,     0.98077,     0.98077,     0.98077,     0.98077,     0.98077,     0.98077,     0.98077,     0.98077,     0.98077,     0.98077,     0.98077,     0.98077,     0.98077,     0.98077,     0.98077,     0.98077,     0.98077,     0.98077,\n",
       "            0.98077,     0.98077,     0.98077,     0.98077,     0.98077,     0.98077,     0.98077,     0.98077,     0.98077,     0.98077,     0.98077,     0.98077,     0.98077,     0.98077,     0.98077,     0.98077,     0.98077,     0.98077,     0.98077,     0.98077,     0.98077,     0.98077,     0.96667,\n",
       "            0.96667,     0.96667,     0.96667,     0.96667,     0.96667,     0.96667,     0.96667,     0.96667,     0.96667,     0.96667,     0.96667,     0.96667,     0.96667,     0.96667,     0.96667,     0.96667,     0.96667,     0.96667,     0.96667,     0.96667,     0.96667,     0.96667,     0.96667,\n",
       "            0.96667,     0.96667,     0.96667,     0.96667,     0.96667,     0.96667,     0.96667,     0.96667,     0.96667,     0.96667,     0.96667,     0.96667,     0.96667,     0.96667,     0.96667,     0.96667,     0.96667,     0.96667,     0.96667,     0.96667,     0.96667,     0.96667,     0.96667,\n",
       "            0.96667,     0.96667,     0.96667,     0.96667,     0.96667,     0.96667,     0.96667,     0.96667,     0.96667,     0.96667,     0.96667,     0.96667,     0.96667,     0.96667,     0.96667,     0.96667,     0.96667,     0.96667,     0.96667,     0.96667,     0.96667,     0.96667,     0.96667,\n",
       "            0.96667,     0.96667,     0.96667,     0.96667,     0.96667,     0.96667,     0.96667,     0.96667,     0.96667,     0.96667,     0.96667,     0.96667,     0.96667,     0.96667,     0.96667,     0.96667,     0.96667,     0.96667,     0.96667,     0.96667,     0.96667,     0.96667,     0.96667,\n",
       "            0.96667,     0.95385,     0.95385,     0.95385,     0.95385,     0.95385,     0.95385,     0.95385,     0.95385,     0.95385,     0.95385,     0.95385,     0.95385,     0.95385,     0.95385,     0.95385,     0.95385,     0.95385,     0.95385,     0.95385,     0.95385,     0.95385,     0.95385,\n",
       "            0.95385,     0.95385,     0.95385,     0.95385,     0.95385,     0.95385,     0.95385,     0.95385,     0.95385,     0.95385,     0.95385,     0.95385,     0.95385,     0.95385,     0.95385,     0.95385,     0.95385,     0.95385,     0.95385,     0.95385,     0.95385,     0.95385,     0.95385,\n",
       "            0.95385,     0.95385,     0.95385,     0.95385,     0.95385,     0.95385,     0.95385,     0.95385,     0.95385,     0.91304,     0.91304,     0.91304,     0.91304,     0.91304,     0.91304,     0.91304,     0.91304,     0.91304,     0.91304,     0.91304,     0.91304,     0.91304,     0.91304,\n",
       "            0.88889,     0.88889,     0.88889,     0.88889,     0.88889,     0.88889,     0.88889,     0.88889,     0.88889,     0.88889,     0.88889,     0.88889,     0.88889,     0.40373,     0.40373,     0.40373,     0.40373,     0.40373,     0.40373,     0.40373,     0.40373,     0.40373,     0.40373,\n",
       "            0.40373,     0.40373,     0.40373,     0.40373,     0.13861,     0.13747,     0.13632,     0.13518,     0.13403,     0.13289,     0.13174,     0.13059,     0.12945,      0.1283,     0.12716,     0.12601,     0.12487,     0.12372,     0.12258,     0.12143,     0.12028,     0.11914,     0.11799,\n",
       "            0.11685,      0.1157,     0.11456,     0.11341,     0.11227,     0.11112,     0.10997,     0.10883,     0.10768,     0.10654,     0.10539,     0.10425,      0.1031,     0.10196,     0.10081,    0.099664,    0.098519,    0.097373,    0.096228,    0.095082,    0.093936,    0.092791,    0.091645,\n",
       "             0.0905,    0.089354,    0.088209,    0.087063,    0.085917,    0.084772,    0.083626,    0.082481,    0.081335,     0.08019,    0.079044,    0.077899,    0.076753,    0.075607,    0.074462,    0.073316,    0.072171,    0.071025,     0.06988,    0.068734,    0.067588,    0.066443,    0.065297,\n",
       "           0.064152,    0.063006,    0.061861,    0.060715,    0.059569,    0.058424,    0.057278,    0.056133,    0.054987,    0.053842,    0.052696,     0.05155,    0.050405,    0.049259,    0.048114,    0.046968,    0.045823,    0.044677,    0.043532,    0.042386,     0.04124,    0.040095,    0.038949,\n",
       "           0.037804,    0.036658,    0.035513,    0.034367,    0.033221,    0.032076,     0.03093,    0.029785,    0.028639,    0.027494,    0.026348,    0.025202,    0.024057,    0.022911,    0.021766,     0.02062,    0.019475,    0.018329,    0.017183,    0.016038,    0.014892,    0.013747,    0.012601,\n",
       "           0.011456,     0.01031,   0.0091645,    0.008019,   0.0068734,   0.0057278,   0.0045823,   0.0034367,   0.0022911,   0.0011456,           0]]), 'Recall', 'Precision'], [array([          0,    0.001001,    0.002002,    0.003003,    0.004004,    0.005005,    0.006006,    0.007007,    0.008008,    0.009009,     0.01001,    0.011011,    0.012012,    0.013013,    0.014014,    0.015015,    0.016016,    0.017017,    0.018018,    0.019019,     0.02002,    0.021021,    0.022022,    0.023023,\n",
       "          0.024024,    0.025025,    0.026026,    0.027027,    0.028028,    0.029029,     0.03003,    0.031031,    0.032032,    0.033033,    0.034034,    0.035035,    0.036036,    0.037037,    0.038038,    0.039039,     0.04004,    0.041041,    0.042042,    0.043043,    0.044044,    0.045045,    0.046046,    0.047047,\n",
       "          0.048048,    0.049049,     0.05005,    0.051051,    0.052052,    0.053053,    0.054054,    0.055055,    0.056056,    0.057057,    0.058058,    0.059059,     0.06006,    0.061061,    0.062062,    0.063063,    0.064064,    0.065065,    0.066066,    0.067067,    0.068068,    0.069069,     0.07007,    0.071071,\n",
       "          0.072072,    0.073073,    0.074074,    0.075075,    0.076076,    0.077077,    0.078078,    0.079079,     0.08008,    0.081081,    0.082082,    0.083083,    0.084084,    0.085085,    0.086086,    0.087087,    0.088088,    0.089089,     0.09009,    0.091091,    0.092092,    0.093093,    0.094094,    0.095095,\n",
       "          0.096096,    0.097097,    0.098098,    0.099099,      0.1001,      0.1011,      0.1021,      0.1031,      0.1041,     0.10511,     0.10611,     0.10711,     0.10811,     0.10911,     0.11011,     0.11111,     0.11211,     0.11311,     0.11411,     0.11512,     0.11612,     0.11712,     0.11812,     0.11912,\n",
       "           0.12012,     0.12112,     0.12212,     0.12312,     0.12412,     0.12513,     0.12613,     0.12713,     0.12813,     0.12913,     0.13013,     0.13113,     0.13213,     0.13313,     0.13413,     0.13514,     0.13614,     0.13714,     0.13814,     0.13914,     0.14014,     0.14114,     0.14214,     0.14314,\n",
       "           0.14414,     0.14515,     0.14615,     0.14715,     0.14815,     0.14915,     0.15015,     0.15115,     0.15215,     0.15315,     0.15415,     0.15516,     0.15616,     0.15716,     0.15816,     0.15916,     0.16016,     0.16116,     0.16216,     0.16316,     0.16416,     0.16517,     0.16617,     0.16717,\n",
       "           0.16817,     0.16917,     0.17017,     0.17117,     0.17217,     0.17317,     0.17417,     0.17518,     0.17618,     0.17718,     0.17818,     0.17918,     0.18018,     0.18118,     0.18218,     0.18318,     0.18418,     0.18519,     0.18619,     0.18719,     0.18819,     0.18919,     0.19019,     0.19119,\n",
       "           0.19219,     0.19319,     0.19419,      0.1952,      0.1962,      0.1972,      0.1982,      0.1992,      0.2002,      0.2012,      0.2022,      0.2032,      0.2042,     0.20521,     0.20621,     0.20721,     0.20821,     0.20921,     0.21021,     0.21121,     0.21221,     0.21321,     0.21421,     0.21522,\n",
       "           0.21622,     0.21722,     0.21822,     0.21922,     0.22022,     0.22122,     0.22222,     0.22322,     0.22422,     0.22523,     0.22623,     0.22723,     0.22823,     0.22923,     0.23023,     0.23123,     0.23223,     0.23323,     0.23423,     0.23524,     0.23624,     0.23724,     0.23824,     0.23924,\n",
       "           0.24024,     0.24124,     0.24224,     0.24324,     0.24424,     0.24525,     0.24625,     0.24725,     0.24825,     0.24925,     0.25025,     0.25125,     0.25225,     0.25325,     0.25425,     0.25526,     0.25626,     0.25726,     0.25826,     0.25926,     0.26026,     0.26126,     0.26226,     0.26326,\n",
       "           0.26426,     0.26527,     0.26627,     0.26727,     0.26827,     0.26927,     0.27027,     0.27127,     0.27227,     0.27327,     0.27427,     0.27528,     0.27628,     0.27728,     0.27828,     0.27928,     0.28028,     0.28128,     0.28228,     0.28328,     0.28428,     0.28529,     0.28629,     0.28729,\n",
       "           0.28829,     0.28929,     0.29029,     0.29129,     0.29229,     0.29329,     0.29429,      0.2953,      0.2963,      0.2973,      0.2983,      0.2993,      0.3003,      0.3013,      0.3023,      0.3033,      0.3043,     0.30531,     0.30631,     0.30731,     0.30831,     0.30931,     0.31031,     0.31131,\n",
       "           0.31231,     0.31331,     0.31431,     0.31532,     0.31632,     0.31732,     0.31832,     0.31932,     0.32032,     0.32132,     0.32232,     0.32332,     0.32432,     0.32533,     0.32633,     0.32733,     0.32833,     0.32933,     0.33033,     0.33133,     0.33233,     0.33333,     0.33433,     0.33534,\n",
       "           0.33634,     0.33734,     0.33834,     0.33934,     0.34034,     0.34134,     0.34234,     0.34334,     0.34434,     0.34535,     0.34635,     0.34735,     0.34835,     0.34935,     0.35035,     0.35135,     0.35235,     0.35335,     0.35435,     0.35536,     0.35636,     0.35736,     0.35836,     0.35936,\n",
       "           0.36036,     0.36136,     0.36236,     0.36336,     0.36436,     0.36537,     0.36637,     0.36737,     0.36837,     0.36937,     0.37037,     0.37137,     0.37237,     0.37337,     0.37437,     0.37538,     0.37638,     0.37738,     0.37838,     0.37938,     0.38038,     0.38138,     0.38238,     0.38338,\n",
       "           0.38438,     0.38539,     0.38639,     0.38739,     0.38839,     0.38939,     0.39039,     0.39139,     0.39239,     0.39339,     0.39439,      0.3954,      0.3964,      0.3974,      0.3984,      0.3994,      0.4004,      0.4014,      0.4024,      0.4034,      0.4044,     0.40541,     0.40641,     0.40741,\n",
       "           0.40841,     0.40941,     0.41041,     0.41141,     0.41241,     0.41341,     0.41441,     0.41542,     0.41642,     0.41742,     0.41842,     0.41942,     0.42042,     0.42142,     0.42242,     0.42342,     0.42442,     0.42543,     0.42643,     0.42743,     0.42843,     0.42943,     0.43043,     0.43143,\n",
       "           0.43243,     0.43343,     0.43443,     0.43544,     0.43644,     0.43744,     0.43844,     0.43944,     0.44044,     0.44144,     0.44244,     0.44344,     0.44444,     0.44545,     0.44645,     0.44745,     0.44845,     0.44945,     0.45045,     0.45145,     0.45245,     0.45345,     0.45445,     0.45546,\n",
       "           0.45646,     0.45746,     0.45846,     0.45946,     0.46046,     0.46146,     0.46246,     0.46346,     0.46446,     0.46547,     0.46647,     0.46747,     0.46847,     0.46947,     0.47047,     0.47147,     0.47247,     0.47347,     0.47447,     0.47548,     0.47648,     0.47748,     0.47848,     0.47948,\n",
       "           0.48048,     0.48148,     0.48248,     0.48348,     0.48448,     0.48549,     0.48649,     0.48749,     0.48849,     0.48949,     0.49049,     0.49149,     0.49249,     0.49349,     0.49449,      0.4955,      0.4965,      0.4975,      0.4985,      0.4995,      0.5005,      0.5015,      0.5025,      0.5035,\n",
       "            0.5045,     0.50551,     0.50651,     0.50751,     0.50851,     0.50951,     0.51051,     0.51151,     0.51251,     0.51351,     0.51451,     0.51552,     0.51652,     0.51752,     0.51852,     0.51952,     0.52052,     0.52152,     0.52252,     0.52352,     0.52452,     0.52553,     0.52653,     0.52753,\n",
       "           0.52853,     0.52953,     0.53053,     0.53153,     0.53253,     0.53353,     0.53453,     0.53554,     0.53654,     0.53754,     0.53854,     0.53954,     0.54054,     0.54154,     0.54254,     0.54354,     0.54454,     0.54555,     0.54655,     0.54755,     0.54855,     0.54955,     0.55055,     0.55155,\n",
       "           0.55255,     0.55355,     0.55455,     0.55556,     0.55656,     0.55756,     0.55856,     0.55956,     0.56056,     0.56156,     0.56256,     0.56356,     0.56456,     0.56557,     0.56657,     0.56757,     0.56857,     0.56957,     0.57057,     0.57157,     0.57257,     0.57357,     0.57457,     0.57558,\n",
       "           0.57658,     0.57758,     0.57858,     0.57958,     0.58058,     0.58158,     0.58258,     0.58358,     0.58458,     0.58559,     0.58659,     0.58759,     0.58859,     0.58959,     0.59059,     0.59159,     0.59259,     0.59359,     0.59459,      0.5956,      0.5966,      0.5976,      0.5986,      0.5996,\n",
       "            0.6006,      0.6016,      0.6026,      0.6036,      0.6046,     0.60561,     0.60661,     0.60761,     0.60861,     0.60961,     0.61061,     0.61161,     0.61261,     0.61361,     0.61461,     0.61562,     0.61662,     0.61762,     0.61862,     0.61962,     0.62062,     0.62162,     0.62262,     0.62362,\n",
       "           0.62462,     0.62563,     0.62663,     0.62763,     0.62863,     0.62963,     0.63063,     0.63163,     0.63263,     0.63363,     0.63463,     0.63564,     0.63664,     0.63764,     0.63864,     0.63964,     0.64064,     0.64164,     0.64264,     0.64364,     0.64464,     0.64565,     0.64665,     0.64765,\n",
       "           0.64865,     0.64965,     0.65065,     0.65165,     0.65265,     0.65365,     0.65465,     0.65566,     0.65666,     0.65766,     0.65866,     0.65966,     0.66066,     0.66166,     0.66266,     0.66366,     0.66466,     0.66567,     0.66667,     0.66767,     0.66867,     0.66967,     0.67067,     0.67167,\n",
       "           0.67267,     0.67367,     0.67467,     0.67568,     0.67668,     0.67768,     0.67868,     0.67968,     0.68068,     0.68168,     0.68268,     0.68368,     0.68468,     0.68569,     0.68669,     0.68769,     0.68869,     0.68969,     0.69069,     0.69169,     0.69269,     0.69369,     0.69469,      0.6957,\n",
       "            0.6967,      0.6977,      0.6987,      0.6997,      0.7007,      0.7017,      0.7027,      0.7037,      0.7047,     0.70571,     0.70671,     0.70771,     0.70871,     0.70971,     0.71071,     0.71171,     0.71271,     0.71371,     0.71471,     0.71572,     0.71672,     0.71772,     0.71872,     0.71972,\n",
       "           0.72072,     0.72172,     0.72272,     0.72372,     0.72472,     0.72573,     0.72673,     0.72773,     0.72873,     0.72973,     0.73073,     0.73173,     0.73273,     0.73373,     0.73473,     0.73574,     0.73674,     0.73774,     0.73874,     0.73974,     0.74074,     0.74174,     0.74274,     0.74374,\n",
       "           0.74474,     0.74575,     0.74675,     0.74775,     0.74875,     0.74975,     0.75075,     0.75175,     0.75275,     0.75375,     0.75475,     0.75576,     0.75676,     0.75776,     0.75876,     0.75976,     0.76076,     0.76176,     0.76276,     0.76376,     0.76476,     0.76577,     0.76677,     0.76777,\n",
       "           0.76877,     0.76977,     0.77077,     0.77177,     0.77277,     0.77377,     0.77477,     0.77578,     0.77678,     0.77778,     0.77878,     0.77978,     0.78078,     0.78178,     0.78278,     0.78378,     0.78478,     0.78579,     0.78679,     0.78779,     0.78879,     0.78979,     0.79079,     0.79179,\n",
       "           0.79279,     0.79379,     0.79479,      0.7958,      0.7968,      0.7978,      0.7988,      0.7998,      0.8008,      0.8018,      0.8028,      0.8038,      0.8048,     0.80581,     0.80681,     0.80781,     0.80881,     0.80981,     0.81081,     0.81181,     0.81281,     0.81381,     0.81481,     0.81582,\n",
       "           0.81682,     0.81782,     0.81882,     0.81982,     0.82082,     0.82182,     0.82282,     0.82382,     0.82482,     0.82583,     0.82683,     0.82783,     0.82883,     0.82983,     0.83083,     0.83183,     0.83283,     0.83383,     0.83483,     0.83584,     0.83684,     0.83784,     0.83884,     0.83984,\n",
       "           0.84084,     0.84184,     0.84284,     0.84384,     0.84484,     0.84585,     0.84685,     0.84785,     0.84885,     0.84985,     0.85085,     0.85185,     0.85285,     0.85385,     0.85485,     0.85586,     0.85686,     0.85786,     0.85886,     0.85986,     0.86086,     0.86186,     0.86286,     0.86386,\n",
       "           0.86486,     0.86587,     0.86687,     0.86787,     0.86887,     0.86987,     0.87087,     0.87187,     0.87287,     0.87387,     0.87487,     0.87588,     0.87688,     0.87788,     0.87888,     0.87988,     0.88088,     0.88188,     0.88288,     0.88388,     0.88488,     0.88589,     0.88689,     0.88789,\n",
       "           0.88889,     0.88989,     0.89089,     0.89189,     0.89289,     0.89389,     0.89489,      0.8959,      0.8969,      0.8979,      0.8989,      0.8999,      0.9009,      0.9019,      0.9029,      0.9039,      0.9049,     0.90591,     0.90691,     0.90791,     0.90891,     0.90991,     0.91091,     0.91191,\n",
       "           0.91291,     0.91391,     0.91491,     0.91592,     0.91692,     0.91792,     0.91892,     0.91992,     0.92092,     0.92192,     0.92292,     0.92392,     0.92492,     0.92593,     0.92693,     0.92793,     0.92893,     0.92993,     0.93093,     0.93193,     0.93293,     0.93393,     0.93493,     0.93594,\n",
       "           0.93694,     0.93794,     0.93894,     0.93994,     0.94094,     0.94194,     0.94294,     0.94394,     0.94494,     0.94595,     0.94695,     0.94795,     0.94895,     0.94995,     0.95095,     0.95195,     0.95295,     0.95395,     0.95495,     0.95596,     0.95696,     0.95796,     0.95896,     0.95996,\n",
       "           0.96096,     0.96196,     0.96296,     0.96396,     0.96496,     0.96597,     0.96697,     0.96797,     0.96897,     0.96997,     0.97097,     0.97197,     0.97297,     0.97397,     0.97497,     0.97598,     0.97698,     0.97798,     0.97898,     0.97998,     0.98098,     0.98198,     0.98298,     0.98398,\n",
       "           0.98498,     0.98599,     0.98699,     0.98799,     0.98899,     0.98999,     0.99099,     0.99199,     0.99299,     0.99399,     0.99499,       0.996,       0.997,       0.998,       0.999,           1]), array([[     0.2403,      0.2403,     0.32251,     0.37549,     0.41625,     0.44739,      0.4906,     0.52322,     0.55053,     0.55763,     0.58134,     0.59063,     0.60398,     0.63539,     0.66786,     0.67903,     0.68275,     0.68519,     0.68758,     0.70594,     0.71439,     0.71716,     0.72038,\n",
       "            0.72511,     0.73611,     0.74438,     0.74896,     0.75032,     0.75167,     0.75304,     0.75491,     0.75676,     0.76217,     0.76305,     0.76394,     0.76483,     0.76571,     0.76677,     0.76891,     0.77103,     0.77263,     0.77421,     0.77579,     0.77738,     0.77896,     0.78056,\n",
       "            0.78271,     0.78486,     0.78651,     0.78804,     0.78957,     0.79635,     0.79841,     0.80017,     0.80094,     0.80171,     0.80247,     0.80324,       0.804,     0.80476,     0.80554,     0.80634,     0.80713,     0.80792,     0.80871,      0.8095,     0.81308,     0.82073,     0.82134,\n",
       "            0.82195,     0.82256,     0.82316,     0.82377,     0.82438,     0.82498,     0.82559,     0.82648,     0.82755,     0.82861,     0.82967,     0.83072,     0.83167,     0.83254,      0.8334,     0.83427,     0.83513,     0.83599,     0.83703,     0.83849,     0.83995,      0.8414,     0.84346,\n",
       "            0.84607,      0.8478,     0.84812,     0.84844,     0.84876,     0.84908,      0.8494,     0.84972,     0.85004,     0.85036,     0.85068,       0.851,     0.85132,     0.85163,     0.85195,     0.85227,     0.85258,      0.8529,     0.85322,      0.8534,      0.8535,     0.85359,     0.85369,\n",
       "            0.85379,     0.85389,     0.85399,     0.85409,     0.85419,     0.85429,     0.85438,     0.85448,     0.85458,     0.85468,     0.85478,     0.85488,     0.85498,     0.85507,     0.85517,     0.85527,     0.85537,     0.85547,     0.85557,     0.85566,     0.85576,     0.85586,     0.85596,\n",
       "            0.85606,     0.85616,     0.85625,     0.85635,     0.85645,     0.85655,     0.85665,     0.85675,     0.85684,     0.85694,     0.85704,     0.85714,     0.85724,     0.85733,     0.85743,     0.85753,     0.85763,     0.85773,     0.85782,     0.85792,     0.85802,     0.85812,     0.85821,\n",
       "            0.85831,     0.85841,     0.85851,     0.85861,      0.8587,      0.8588,      0.8589,       0.859,     0.85951,      0.8608,     0.86209,     0.86337,     0.86465,     0.86541,     0.86607,     0.86672,     0.86737,     0.86803,     0.86868,     0.86933,     0.86998,     0.87062,     0.87131,\n",
       "              0.872,     0.87269,     0.87338,     0.87407,     0.87476,     0.87545,     0.87613,      0.8767,     0.87658,     0.87647,     0.87635,     0.87624,     0.87612,     0.87601,     0.87589,     0.87578,     0.87566,     0.87555,     0.87543,     0.87532,      0.8752,     0.87509,     0.87497,\n",
       "            0.87486,     0.87474,     0.87463,     0.87451,      0.8744,     0.87428,     0.87417,     0.87405,     0.87394,     0.87382,     0.87371,     0.87359,     0.87348,     0.87336,     0.87325,     0.87313,     0.87302,      0.8729,     0.87279,     0.87267,     0.87256,     0.87244,     0.87232,\n",
       "            0.87221,     0.87209,     0.87198,     0.87186,     0.87175,     0.87163,     0.87152,      0.8714,     0.87129,     0.87117,     0.87105,     0.87094,     0.87082,     0.87071,     0.87059,     0.87048,     0.87036,     0.87024,     0.87013,     0.87001,      0.8699,     0.86978,     0.86967,\n",
       "            0.86955,     0.86943,     0.86932,      0.8692,     0.86909,     0.86897,     0.86942,     0.86988,     0.87035,     0.87082,     0.87129,     0.87176,     0.87222,     0.87269,     0.87316,     0.87362,     0.87409,     0.87455,     0.87501,     0.87531,     0.87561,     0.87591,     0.87621,\n",
       "            0.87651,     0.87681,     0.87711,     0.87741,     0.87771,     0.87801,     0.87831,      0.8786,      0.8789,      0.8792,      0.8795,      0.8798,     0.88009,     0.88039,     0.88069,     0.88098,     0.88087,     0.88042,     0.87997,     0.87951,     0.87906,     0.87861,     0.87815,\n",
       "             0.8777,     0.87724,     0.87679,     0.87633,     0.87588,     0.87542,     0.87496,     0.87451,     0.87405,     0.87359,     0.87329,      0.8735,     0.87372,     0.87393,     0.87415,     0.87436,     0.87458,     0.87479,       0.875,     0.87522,     0.87543,     0.87565,     0.87586,\n",
       "            0.87607,     0.87629,      0.8765,     0.87671,     0.87693,     0.87714,     0.87735,     0.87757,     0.87778,     0.87799,      0.8782,     0.87842,     0.87863,     0.87884,     0.87905,     0.87926,     0.87956,     0.88019,     0.88083,     0.88146,     0.88209,     0.88271,     0.88334,\n",
       "            0.88397,     0.88459,     0.88522,      0.8859,     0.88681,     0.88771,     0.88861,     0.88951,     0.89041,     0.89131,     0.89188,     0.89032,     0.88876,     0.88719,     0.88562,     0.88406,     0.88399,     0.88391,     0.88384,     0.88377,      0.8837,     0.88362,     0.88355,\n",
       "            0.88348,     0.88341,     0.88334,     0.88326,     0.88319,     0.88312,     0.88305,     0.88297,      0.8829,     0.88283,     0.88276,     0.88269,     0.88261,     0.88254,     0.88247,      0.8824,     0.88232,     0.88225,     0.88218,     0.88211,     0.88203,     0.88196,     0.88189,\n",
       "            0.88182,     0.88175,     0.88167,      0.8816,     0.88153,     0.88146,     0.88138,     0.88131,     0.88124,     0.88117,     0.88109,     0.88102,     0.88095,     0.88088,      0.8808,     0.88073,     0.88066,     0.88059,     0.88051,     0.88044,     0.88037,      0.8803,     0.88022,\n",
       "            0.88015,     0.88008,     0.88001,     0.87993,     0.87986,     0.87979,     0.87971,     0.87964,     0.87957,      0.8795,     0.87942,     0.87935,     0.87928,     0.87921,     0.87913,     0.87906,     0.87899,     0.87892,     0.87884,     0.87877,      0.8787,     0.87862,     0.87855,\n",
       "            0.87848,     0.87841,     0.87833,     0.87826,     0.87819,     0.87811,     0.87804,     0.87797,      0.8779,     0.87782,     0.87775,     0.87768,      0.8776,     0.87753,     0.87746,     0.87739,     0.87731,     0.87724,     0.87717,     0.87709,     0.87702,     0.87695,     0.87688,\n",
       "             0.8768,     0.87673,     0.87666,     0.87658,     0.87651,     0.87644,     0.87636,     0.87629,     0.87622,     0.87615,     0.87607,       0.876,     0.87593,     0.87582,      0.8757,     0.87558,     0.87547,     0.87535,     0.87523,     0.87512,       0.875,     0.87488,     0.87476,\n",
       "            0.87465,     0.87453,     0.87441,      0.8743,     0.87418,     0.87406,     0.87394,     0.87383,     0.87371,     0.87359,     0.87347,     0.87336,     0.87324,     0.87312,       0.873,     0.87289,     0.87277,     0.87265,     0.87253,     0.87242,      0.8723,     0.87218,     0.87206,\n",
       "            0.87195,     0.87183,     0.87171,     0.87159,     0.87148,     0.87136,     0.87124,     0.87112,     0.87101,     0.87089,     0.87077,     0.87065,     0.87053,     0.87042,      0.8703,     0.87018,     0.87006,     0.86994,     0.86983,     0.86971,     0.86959,     0.86947,     0.86935,\n",
       "            0.86924,     0.86912,       0.869,     0.86888,     0.86876,     0.86864,     0.86853,     0.86841,     0.86829,     0.86817,     0.86805,     0.86793,     0.86782,      0.8677,     0.86748,     0.86719,      0.8669,     0.86661,     0.86632,     0.86603,     0.86574,     0.86545,     0.86516,\n",
       "            0.86487,     0.86458,     0.86429,       0.864,      0.8637,     0.86341,     0.86312,     0.86283,     0.86254,     0.86225,     0.86195,     0.86166,     0.86137,     0.86108,     0.86078,     0.86049,      0.8602,     0.85991,     0.85961,     0.85932,     0.85945,     0.85968,     0.85992,\n",
       "            0.86016,     0.86039,     0.86063,     0.86087,      0.8611,     0.86134,     0.86157,     0.86181,     0.86204,     0.86228,     0.86251,     0.86275,     0.86298,     0.86322,     0.86345,     0.86368,     0.86392,     0.86415,     0.86438,     0.86462,     0.86485,     0.86508,     0.86532,\n",
       "            0.86555,     0.86498,     0.86353,     0.86208,     0.86062,     0.85916,     0.85769,     0.85701,     0.85679,     0.85658,     0.85636,     0.85615,     0.85593,     0.85572,      0.8555,     0.85529,     0.85507,     0.85486,     0.85464,     0.85442,     0.85421,     0.85399,     0.85378,\n",
       "            0.85356,     0.85334,     0.85313,     0.85291,     0.85269,     0.85248,     0.85226,     0.85204,     0.85183,     0.85161,     0.85139,     0.85118,     0.85096,     0.85074,     0.85053,     0.85031,     0.85009,     0.84987,     0.84966,     0.84944,     0.84922,       0.849,     0.84878,\n",
       "            0.84857,     0.84832,     0.84804,     0.84777,      0.8475,     0.84723,     0.84696,     0.84669,     0.84641,     0.84614,     0.84587,      0.8456,     0.84533,     0.84505,     0.84478,     0.84451,     0.84423,     0.84396,     0.84369,     0.84341,     0.84314,     0.84287,     0.84259,\n",
       "            0.84232,     0.84205,     0.84177,      0.8415,     0.84122,     0.84095,     0.84068,      0.8404,     0.84013,     0.83985,     0.83956,     0.83926,     0.83896,     0.83865,     0.83835,     0.83805,     0.83774,     0.83744,     0.83714,     0.83683,     0.83653,     0.83622,     0.83592,\n",
       "            0.83561,     0.83531,       0.835,      0.8347,     0.83439,     0.83409,     0.83378,     0.83348,     0.83317,     0.83287,     0.83256,     0.83225,     0.83195,     0.83164,     0.83133,     0.83103,     0.83071,     0.83038,     0.83004,     0.82971,     0.82937,     0.82903,      0.8287,\n",
       "            0.82836,     0.82803,     0.82769,     0.82735,     0.82701,     0.82668,     0.82634,       0.826,     0.82566,     0.82532,     0.82499,     0.82465,     0.82431,     0.82397,     0.82363,     0.82329,     0.82295,     0.82261,     0.82227,     0.82193,     0.82155,      0.8211,     0.82064,\n",
       "            0.82018,     0.81972,     0.81926,      0.8188,     0.81834,     0.81789,     0.81743,     0.81697,      0.8165,     0.81604,     0.81558,     0.81512,     0.81466,      0.8142,     0.81373,     0.81327,     0.81281,     0.81197,     0.81038,     0.80879,     0.80719,     0.80559,     0.80398,\n",
       "            0.80373,     0.80492,     0.80612,      0.8073,     0.80848,     0.80877,     0.80227,     0.79893,     0.79728,     0.79563,     0.79398,     0.79232,     0.79066,     0.78872,     0.78671,      0.7847,     0.78268,     0.78065,     0.77998,     0.77943,     0.77888,     0.77833,     0.77778,\n",
       "            0.77723,     0.77667,     0.77612,     0.77557,     0.77501,     0.77446,      0.7739,     0.77335,     0.77279,     0.77223,     0.77168,     0.77112,     0.77056,     0.77177,     0.77323,     0.77468,     0.77612,     0.77485,     0.77068,     0.76644,     0.76114,     0.75431,     0.74475,\n",
       "            0.74307,     0.74138,     0.73969,       0.738,      0.7363,     0.73456,      0.7327,     0.73085,     0.72899,     0.72712,     0.72525,     0.72398,     0.72358,     0.72318,     0.72279,     0.72239,     0.72199,      0.7216,      0.7212,      0.7208,      0.7204,     0.72001,     0.71961,\n",
       "            0.71921,     0.71881,     0.71841,     0.71801,     0.71761,     0.71721,     0.71681,     0.71641,     0.71601,     0.71561,     0.71521,     0.71481,     0.71441,     0.71401,      0.7136,      0.7132,     0.71165,     0.70935,     0.70704,     0.70472,     0.70239,     0.70127,      0.7006,\n",
       "            0.69993,     0.69926,     0.69859,     0.69792,     0.69725,     0.69658,     0.69591,     0.69523,     0.69456,     0.69388,     0.69321,     0.69253,     0.69186,     0.69118,      0.6905,     0.68981,     0.68911,     0.68841,     0.68771,       0.687,      0.6863,      0.6856,     0.68489,\n",
       "            0.68419,     0.68348,     0.68278,     0.68207,     0.68136,     0.68065,     0.67994,     0.67923,     0.67687,     0.66307,     0.65685,     0.65296,     0.65044,     0.64791,     0.64538,     0.64283,     0.62785,     0.62547,     0.62309,      0.6207,      0.6183,     0.61425,     0.60757,\n",
       "            0.59785,      0.5895,     0.58738,     0.58525,     0.58311,     0.58097,     0.57882,     0.57524,     0.56228,     0.55653,     0.55074,     0.54213,     0.53363,     0.52936,     0.52507,     0.52075,     0.51749,     0.51444,     0.51137,      0.5083,     0.50521,     0.48736,     0.48206,\n",
       "            0.47672,     0.47077,     0.46426,     0.44049,     0.42347,     0.40352,     0.36741,      0.3427,     0.29667,     0.28656,     0.26806,     0.25061,     0.23995,     0.23214,      0.2249,     0.21759,     0.19045,     0.17904,     0.16569,     0.15002,     0.12655,     0.12524,     0.12392,\n",
       "             0.1226,     0.12128,     0.11996,     0.11864,     0.11731,     0.11598,     0.11465,     0.11332,     0.11199,     0.11065,     0.10931,     0.10797,     0.10663,     0.10529,     0.10395,      0.1026,    0.077947,    0.072225,    0.066488,    0.060717,    0.054912,    0.044603,    0.031272,\n",
       "                  0,           0,           0,           0,           0,           0,           0,           0,           0,           0,           0,           0,           0,           0,           0,           0,           0,           0,           0,           0,           0,           0,           0,\n",
       "                  0,           0,           0,           0,           0,           0,           0,           0,           0,           0,           0]]), 'Confidence', 'F1'], [array([          0,    0.001001,    0.002002,    0.003003,    0.004004,    0.005005,    0.006006,    0.007007,    0.008008,    0.009009,     0.01001,    0.011011,    0.012012,    0.013013,    0.014014,    0.015015,    0.016016,    0.017017,    0.018018,    0.019019,     0.02002,    0.021021,    0.022022,    0.023023,\n",
       "          0.024024,    0.025025,    0.026026,    0.027027,    0.028028,    0.029029,     0.03003,    0.031031,    0.032032,    0.033033,    0.034034,    0.035035,    0.036036,    0.037037,    0.038038,    0.039039,     0.04004,    0.041041,    0.042042,    0.043043,    0.044044,    0.045045,    0.046046,    0.047047,\n",
       "          0.048048,    0.049049,     0.05005,    0.051051,    0.052052,    0.053053,    0.054054,    0.055055,    0.056056,    0.057057,    0.058058,    0.059059,     0.06006,    0.061061,    0.062062,    0.063063,    0.064064,    0.065065,    0.066066,    0.067067,    0.068068,    0.069069,     0.07007,    0.071071,\n",
       "          0.072072,    0.073073,    0.074074,    0.075075,    0.076076,    0.077077,    0.078078,    0.079079,     0.08008,    0.081081,    0.082082,    0.083083,    0.084084,    0.085085,    0.086086,    0.087087,    0.088088,    0.089089,     0.09009,    0.091091,    0.092092,    0.093093,    0.094094,    0.095095,\n",
       "          0.096096,    0.097097,    0.098098,    0.099099,      0.1001,      0.1011,      0.1021,      0.1031,      0.1041,     0.10511,     0.10611,     0.10711,     0.10811,     0.10911,     0.11011,     0.11111,     0.11211,     0.11311,     0.11411,     0.11512,     0.11612,     0.11712,     0.11812,     0.11912,\n",
       "           0.12012,     0.12112,     0.12212,     0.12312,     0.12412,     0.12513,     0.12613,     0.12713,     0.12813,     0.12913,     0.13013,     0.13113,     0.13213,     0.13313,     0.13413,     0.13514,     0.13614,     0.13714,     0.13814,     0.13914,     0.14014,     0.14114,     0.14214,     0.14314,\n",
       "           0.14414,     0.14515,     0.14615,     0.14715,     0.14815,     0.14915,     0.15015,     0.15115,     0.15215,     0.15315,     0.15415,     0.15516,     0.15616,     0.15716,     0.15816,     0.15916,     0.16016,     0.16116,     0.16216,     0.16316,     0.16416,     0.16517,     0.16617,     0.16717,\n",
       "           0.16817,     0.16917,     0.17017,     0.17117,     0.17217,     0.17317,     0.17417,     0.17518,     0.17618,     0.17718,     0.17818,     0.17918,     0.18018,     0.18118,     0.18218,     0.18318,     0.18418,     0.18519,     0.18619,     0.18719,     0.18819,     0.18919,     0.19019,     0.19119,\n",
       "           0.19219,     0.19319,     0.19419,      0.1952,      0.1962,      0.1972,      0.1982,      0.1992,      0.2002,      0.2012,      0.2022,      0.2032,      0.2042,     0.20521,     0.20621,     0.20721,     0.20821,     0.20921,     0.21021,     0.21121,     0.21221,     0.21321,     0.21421,     0.21522,\n",
       "           0.21622,     0.21722,     0.21822,     0.21922,     0.22022,     0.22122,     0.22222,     0.22322,     0.22422,     0.22523,     0.22623,     0.22723,     0.22823,     0.22923,     0.23023,     0.23123,     0.23223,     0.23323,     0.23423,     0.23524,     0.23624,     0.23724,     0.23824,     0.23924,\n",
       "           0.24024,     0.24124,     0.24224,     0.24324,     0.24424,     0.24525,     0.24625,     0.24725,     0.24825,     0.24925,     0.25025,     0.25125,     0.25225,     0.25325,     0.25425,     0.25526,     0.25626,     0.25726,     0.25826,     0.25926,     0.26026,     0.26126,     0.26226,     0.26326,\n",
       "           0.26426,     0.26527,     0.26627,     0.26727,     0.26827,     0.26927,     0.27027,     0.27127,     0.27227,     0.27327,     0.27427,     0.27528,     0.27628,     0.27728,     0.27828,     0.27928,     0.28028,     0.28128,     0.28228,     0.28328,     0.28428,     0.28529,     0.28629,     0.28729,\n",
       "           0.28829,     0.28929,     0.29029,     0.29129,     0.29229,     0.29329,     0.29429,      0.2953,      0.2963,      0.2973,      0.2983,      0.2993,      0.3003,      0.3013,      0.3023,      0.3033,      0.3043,     0.30531,     0.30631,     0.30731,     0.30831,     0.30931,     0.31031,     0.31131,\n",
       "           0.31231,     0.31331,     0.31431,     0.31532,     0.31632,     0.31732,     0.31832,     0.31932,     0.32032,     0.32132,     0.32232,     0.32332,     0.32432,     0.32533,     0.32633,     0.32733,     0.32833,     0.32933,     0.33033,     0.33133,     0.33233,     0.33333,     0.33433,     0.33534,\n",
       "           0.33634,     0.33734,     0.33834,     0.33934,     0.34034,     0.34134,     0.34234,     0.34334,     0.34434,     0.34535,     0.34635,     0.34735,     0.34835,     0.34935,     0.35035,     0.35135,     0.35235,     0.35335,     0.35435,     0.35536,     0.35636,     0.35736,     0.35836,     0.35936,\n",
       "           0.36036,     0.36136,     0.36236,     0.36336,     0.36436,     0.36537,     0.36637,     0.36737,     0.36837,     0.36937,     0.37037,     0.37137,     0.37237,     0.37337,     0.37437,     0.37538,     0.37638,     0.37738,     0.37838,     0.37938,     0.38038,     0.38138,     0.38238,     0.38338,\n",
       "           0.38438,     0.38539,     0.38639,     0.38739,     0.38839,     0.38939,     0.39039,     0.39139,     0.39239,     0.39339,     0.39439,      0.3954,      0.3964,      0.3974,      0.3984,      0.3994,      0.4004,      0.4014,      0.4024,      0.4034,      0.4044,     0.40541,     0.40641,     0.40741,\n",
       "           0.40841,     0.40941,     0.41041,     0.41141,     0.41241,     0.41341,     0.41441,     0.41542,     0.41642,     0.41742,     0.41842,     0.41942,     0.42042,     0.42142,     0.42242,     0.42342,     0.42442,     0.42543,     0.42643,     0.42743,     0.42843,     0.42943,     0.43043,     0.43143,\n",
       "           0.43243,     0.43343,     0.43443,     0.43544,     0.43644,     0.43744,     0.43844,     0.43944,     0.44044,     0.44144,     0.44244,     0.44344,     0.44444,     0.44545,     0.44645,     0.44745,     0.44845,     0.44945,     0.45045,     0.45145,     0.45245,     0.45345,     0.45445,     0.45546,\n",
       "           0.45646,     0.45746,     0.45846,     0.45946,     0.46046,     0.46146,     0.46246,     0.46346,     0.46446,     0.46547,     0.46647,     0.46747,     0.46847,     0.46947,     0.47047,     0.47147,     0.47247,     0.47347,     0.47447,     0.47548,     0.47648,     0.47748,     0.47848,     0.47948,\n",
       "           0.48048,     0.48148,     0.48248,     0.48348,     0.48448,     0.48549,     0.48649,     0.48749,     0.48849,     0.48949,     0.49049,     0.49149,     0.49249,     0.49349,     0.49449,      0.4955,      0.4965,      0.4975,      0.4985,      0.4995,      0.5005,      0.5015,      0.5025,      0.5035,\n",
       "            0.5045,     0.50551,     0.50651,     0.50751,     0.50851,     0.50951,     0.51051,     0.51151,     0.51251,     0.51351,     0.51451,     0.51552,     0.51652,     0.51752,     0.51852,     0.51952,     0.52052,     0.52152,     0.52252,     0.52352,     0.52452,     0.52553,     0.52653,     0.52753,\n",
       "           0.52853,     0.52953,     0.53053,     0.53153,     0.53253,     0.53353,     0.53453,     0.53554,     0.53654,     0.53754,     0.53854,     0.53954,     0.54054,     0.54154,     0.54254,     0.54354,     0.54454,     0.54555,     0.54655,     0.54755,     0.54855,     0.54955,     0.55055,     0.55155,\n",
       "           0.55255,     0.55355,     0.55455,     0.55556,     0.55656,     0.55756,     0.55856,     0.55956,     0.56056,     0.56156,     0.56256,     0.56356,     0.56456,     0.56557,     0.56657,     0.56757,     0.56857,     0.56957,     0.57057,     0.57157,     0.57257,     0.57357,     0.57457,     0.57558,\n",
       "           0.57658,     0.57758,     0.57858,     0.57958,     0.58058,     0.58158,     0.58258,     0.58358,     0.58458,     0.58559,     0.58659,     0.58759,     0.58859,     0.58959,     0.59059,     0.59159,     0.59259,     0.59359,     0.59459,      0.5956,      0.5966,      0.5976,      0.5986,      0.5996,\n",
       "            0.6006,      0.6016,      0.6026,      0.6036,      0.6046,     0.60561,     0.60661,     0.60761,     0.60861,     0.60961,     0.61061,     0.61161,     0.61261,     0.61361,     0.61461,     0.61562,     0.61662,     0.61762,     0.61862,     0.61962,     0.62062,     0.62162,     0.62262,     0.62362,\n",
       "           0.62462,     0.62563,     0.62663,     0.62763,     0.62863,     0.62963,     0.63063,     0.63163,     0.63263,     0.63363,     0.63463,     0.63564,     0.63664,     0.63764,     0.63864,     0.63964,     0.64064,     0.64164,     0.64264,     0.64364,     0.64464,     0.64565,     0.64665,     0.64765,\n",
       "           0.64865,     0.64965,     0.65065,     0.65165,     0.65265,     0.65365,     0.65465,     0.65566,     0.65666,     0.65766,     0.65866,     0.65966,     0.66066,     0.66166,     0.66266,     0.66366,     0.66466,     0.66567,     0.66667,     0.66767,     0.66867,     0.66967,     0.67067,     0.67167,\n",
       "           0.67267,     0.67367,     0.67467,     0.67568,     0.67668,     0.67768,     0.67868,     0.67968,     0.68068,     0.68168,     0.68268,     0.68368,     0.68468,     0.68569,     0.68669,     0.68769,     0.68869,     0.68969,     0.69069,     0.69169,     0.69269,     0.69369,     0.69469,      0.6957,\n",
       "            0.6967,      0.6977,      0.6987,      0.6997,      0.7007,      0.7017,      0.7027,      0.7037,      0.7047,     0.70571,     0.70671,     0.70771,     0.70871,     0.70971,     0.71071,     0.71171,     0.71271,     0.71371,     0.71471,     0.71572,     0.71672,     0.71772,     0.71872,     0.71972,\n",
       "           0.72072,     0.72172,     0.72272,     0.72372,     0.72472,     0.72573,     0.72673,     0.72773,     0.72873,     0.72973,     0.73073,     0.73173,     0.73273,     0.73373,     0.73473,     0.73574,     0.73674,     0.73774,     0.73874,     0.73974,     0.74074,     0.74174,     0.74274,     0.74374,\n",
       "           0.74474,     0.74575,     0.74675,     0.74775,     0.74875,     0.74975,     0.75075,     0.75175,     0.75275,     0.75375,     0.75475,     0.75576,     0.75676,     0.75776,     0.75876,     0.75976,     0.76076,     0.76176,     0.76276,     0.76376,     0.76476,     0.76577,     0.76677,     0.76777,\n",
       "           0.76877,     0.76977,     0.77077,     0.77177,     0.77277,     0.77377,     0.77477,     0.77578,     0.77678,     0.77778,     0.77878,     0.77978,     0.78078,     0.78178,     0.78278,     0.78378,     0.78478,     0.78579,     0.78679,     0.78779,     0.78879,     0.78979,     0.79079,     0.79179,\n",
       "           0.79279,     0.79379,     0.79479,      0.7958,      0.7968,      0.7978,      0.7988,      0.7998,      0.8008,      0.8018,      0.8028,      0.8038,      0.8048,     0.80581,     0.80681,     0.80781,     0.80881,     0.80981,     0.81081,     0.81181,     0.81281,     0.81381,     0.81481,     0.81582,\n",
       "           0.81682,     0.81782,     0.81882,     0.81982,     0.82082,     0.82182,     0.82282,     0.82382,     0.82482,     0.82583,     0.82683,     0.82783,     0.82883,     0.82983,     0.83083,     0.83183,     0.83283,     0.83383,     0.83483,     0.83584,     0.83684,     0.83784,     0.83884,     0.83984,\n",
       "           0.84084,     0.84184,     0.84284,     0.84384,     0.84484,     0.84585,     0.84685,     0.84785,     0.84885,     0.84985,     0.85085,     0.85185,     0.85285,     0.85385,     0.85485,     0.85586,     0.85686,     0.85786,     0.85886,     0.85986,     0.86086,     0.86186,     0.86286,     0.86386,\n",
       "           0.86486,     0.86587,     0.86687,     0.86787,     0.86887,     0.86987,     0.87087,     0.87187,     0.87287,     0.87387,     0.87487,     0.87588,     0.87688,     0.87788,     0.87888,     0.87988,     0.88088,     0.88188,     0.88288,     0.88388,     0.88488,     0.88589,     0.88689,     0.88789,\n",
       "           0.88889,     0.88989,     0.89089,     0.89189,     0.89289,     0.89389,     0.89489,      0.8959,      0.8969,      0.8979,      0.8989,      0.8999,      0.9009,      0.9019,      0.9029,      0.9039,      0.9049,     0.90591,     0.90691,     0.90791,     0.90891,     0.90991,     0.91091,     0.91191,\n",
       "           0.91291,     0.91391,     0.91491,     0.91592,     0.91692,     0.91792,     0.91892,     0.91992,     0.92092,     0.92192,     0.92292,     0.92392,     0.92492,     0.92593,     0.92693,     0.92793,     0.92893,     0.92993,     0.93093,     0.93193,     0.93293,     0.93393,     0.93493,     0.93594,\n",
       "           0.93694,     0.93794,     0.93894,     0.93994,     0.94094,     0.94194,     0.94294,     0.94394,     0.94494,     0.94595,     0.94695,     0.94795,     0.94895,     0.94995,     0.95095,     0.95195,     0.95295,     0.95395,     0.95495,     0.95596,     0.95696,     0.95796,     0.95896,     0.95996,\n",
       "           0.96096,     0.96196,     0.96296,     0.96396,     0.96496,     0.96597,     0.96697,     0.96797,     0.96897,     0.96997,     0.97097,     0.97197,     0.97297,     0.97397,     0.97497,     0.97598,     0.97698,     0.97798,     0.97898,     0.97998,     0.98098,     0.98198,     0.98298,     0.98398,\n",
       "           0.98498,     0.98599,     0.98699,     0.98799,     0.98899,     0.98999,     0.99099,     0.99199,     0.99299,     0.99399,     0.99499,       0.996,       0.997,       0.998,       0.999,           1]), array([[    0.13919,     0.13919,     0.19751,     0.23878,     0.27275,     0.30013,     0.34035,     0.37257,      0.4009,     0.41146,     0.43781,     0.44843,     0.46402,     0.50216,     0.54396,     0.55893,     0.56398,     0.56733,     0.57062,     0.59635,     0.60852,     0.61254,     0.61727,\n",
       "            0.62424,     0.64072,     0.65335,     0.66046,     0.66256,     0.66467,     0.66682,     0.66975,     0.67269,     0.68127,     0.68269,     0.68411,     0.68553,     0.68695,     0.68866,     0.69212,     0.69557,     0.69818,     0.70076,     0.70335,     0.70596,     0.70858,     0.71122,\n",
       "            0.71481,      0.7184,     0.72118,     0.72376,     0.72633,     0.73789,     0.74144,     0.74449,     0.74582,     0.74715,     0.74848,     0.74981,     0.75114,     0.75246,     0.75384,     0.75523,     0.75662,     0.75802,     0.75941,      0.7608,     0.76715,     0.78088,     0.78199,\n",
       "            0.78309,      0.7842,      0.7853,     0.78641,     0.78751,     0.78862,     0.78972,     0.79136,     0.79332,     0.79527,     0.79722,     0.79917,     0.80093,     0.80254,     0.80415,     0.80576,     0.80738,     0.80899,     0.81094,     0.81368,     0.81643,     0.81918,     0.82308,\n",
       "            0.82807,      0.8314,     0.83202,     0.83264,     0.83325,     0.83387,     0.83449,      0.8351,     0.83572,     0.83633,     0.83695,     0.83757,     0.83818,      0.8388,     0.83942,     0.84003,     0.84065,     0.84127,     0.84188,     0.84223,     0.84242,     0.84261,     0.84281,\n",
       "              0.843,     0.84319,     0.84338,     0.84358,     0.84377,     0.84396,     0.84415,     0.84435,     0.84454,     0.84473,     0.84492,     0.84512,     0.84531,      0.8455,      0.8457,     0.84589,     0.84608,     0.84627,     0.84647,     0.84666,     0.84685,     0.84704,     0.84724,\n",
       "            0.84743,     0.84762,     0.84781,     0.84801,      0.8482,     0.84839,     0.84858,     0.84878,     0.84897,     0.84916,     0.84935,     0.84955,     0.84974,     0.84993,     0.85013,     0.85032,     0.85051,      0.8507,      0.8509,     0.85109,     0.85128,     0.85147,     0.85167,\n",
       "            0.85186,     0.85205,     0.85224,     0.85244,     0.85263,     0.85282,     0.85301,     0.85321,     0.85422,     0.85677,     0.85933,     0.86188,     0.86444,     0.86596,     0.86727,     0.86858,      0.8699,     0.87121,     0.87252,     0.87384,     0.87515,     0.87646,     0.87785,\n",
       "            0.87926,     0.88066,     0.88207,     0.88348,     0.88488,     0.88629,     0.88769,     0.88889,     0.88886,     0.88884,     0.88882,     0.88879,     0.88877,     0.88875,     0.88872,      0.8887,     0.88868,     0.88865,     0.88863,     0.88861,     0.88858,     0.88856,     0.88854,\n",
       "            0.88851,     0.88849,     0.88847,     0.88844,     0.88842,      0.8884,     0.88837,     0.88835,     0.88833,      0.8883,     0.88828,     0.88826,     0.88823,     0.88821,     0.88819,     0.88816,     0.88814,     0.88812,     0.88809,     0.88807,     0.88805,     0.88802,       0.888,\n",
       "            0.88798,     0.88795,     0.88793,     0.88791,     0.88788,     0.88786,     0.88784,     0.88781,     0.88779,     0.88777,     0.88774,     0.88772,      0.8877,     0.88767,     0.88765,     0.88763,      0.8876,     0.88758,     0.88756,     0.88753,     0.88751,     0.88749,     0.88746,\n",
       "            0.88744,     0.88742,     0.88739,     0.88737,     0.88735,     0.88732,     0.88826,     0.88924,     0.89022,      0.8912,     0.89219,     0.89317,     0.89415,     0.89513,     0.89611,     0.89709,     0.89807,     0.89905,     0.90002,     0.90066,     0.90129,     0.90193,     0.90257,\n",
       "             0.9032,     0.90384,     0.90448,     0.90511,     0.90575,     0.90639,     0.90702,     0.90766,      0.9083,     0.90893,     0.90957,     0.91021,     0.91084,     0.91148,     0.91212,     0.91275,       0.913,     0.91293,     0.91286,     0.91278,     0.91271,     0.91263,     0.91256,\n",
       "            0.91249,     0.91241,     0.91234,     0.91226,     0.91219,     0.91212,     0.91204,     0.91197,      0.9119,     0.91182,     0.91187,     0.91234,     0.91281,     0.91328,     0.91375,     0.91422,     0.91468,     0.91515,     0.91562,     0.91609,     0.91656,     0.91703,      0.9175,\n",
       "            0.91797,     0.91844,      0.9189,     0.91937,     0.91984,     0.92031,     0.92078,     0.92125,     0.92172,     0.92219,     0.92266,     0.92312,     0.92359,     0.92406,     0.92453,       0.925,     0.92566,     0.92706,     0.92846,     0.92986,     0.93127,     0.93267,     0.93407,\n",
       "            0.93547,     0.93688,     0.93828,     0.93981,     0.94185,      0.9439,     0.94594,     0.94798,     0.95003,     0.95207,     0.95383,     0.95369,     0.95355,     0.95341,     0.95326,     0.95312,     0.95312,     0.95311,     0.95311,      0.9531,     0.95309,     0.95309,     0.95308,\n",
       "            0.95307,     0.95307,     0.95306,     0.95305,     0.95305,     0.95304,     0.95303,     0.95303,     0.95302,     0.95301,     0.95301,       0.953,     0.95299,     0.95299,     0.95298,     0.95297,     0.95297,     0.95296,     0.95295,     0.95295,     0.95294,     0.95293,     0.95293,\n",
       "            0.95292,     0.95291,     0.95291,      0.9529,     0.95289,     0.95289,     0.95288,     0.95287,     0.95287,     0.95286,     0.95285,     0.95285,     0.95284,     0.95283,     0.95283,     0.95282,     0.95281,     0.95281,      0.9528,     0.95279,     0.95279,     0.95278,     0.95277,\n",
       "            0.95277,     0.95276,     0.95275,     0.95275,     0.95274,     0.95273,     0.95273,     0.95272,     0.95271,     0.95271,      0.9527,     0.95269,     0.95269,     0.95268,     0.95267,     0.95267,     0.95266,     0.95265,     0.95265,     0.95264,     0.95263,     0.95263,     0.95262,\n",
       "            0.95261,     0.95261,      0.9526,     0.95259,     0.95259,     0.95258,     0.95257,     0.95257,     0.95256,     0.95255,     0.95255,     0.95254,     0.95253,     0.95253,     0.95252,     0.95251,     0.95251,      0.9525,     0.95249,     0.95249,     0.95248,     0.95248,     0.95247,\n",
       "            0.95246,     0.95246,     0.95245,     0.95244,     0.95244,     0.95243,     0.95242,     0.95242,     0.95241,      0.9524,      0.9524,     0.95239,     0.95238,     0.95237,     0.95236,     0.95235,     0.95234,     0.95233,     0.95232,     0.95231,      0.9523,     0.95228,     0.95227,\n",
       "            0.95226,     0.95225,     0.95224,     0.95223,     0.95222,     0.95221,      0.9522,     0.95219,     0.95218,     0.95216,     0.95215,     0.95214,     0.95213,     0.95212,     0.95211,      0.9521,     0.95209,     0.95208,     0.95207,     0.95205,     0.95204,     0.95203,     0.95202,\n",
       "            0.95201,       0.952,     0.95199,     0.95198,     0.95197,     0.95196,     0.95195,     0.95193,     0.95192,     0.95191,      0.9519,     0.95189,     0.95188,     0.95187,     0.95186,     0.95185,     0.95184,     0.95183,     0.95181,      0.9518,     0.95179,     0.95178,     0.95177,\n",
       "            0.95176,     0.95175,     0.95174,     0.95173,     0.95172,     0.95171,     0.95169,     0.95168,     0.95167,     0.95166,     0.95165,     0.95164,     0.95163,     0.95162,      0.9516,     0.95157,     0.95154,     0.95151,     0.95149,     0.95146,     0.95143,      0.9514,     0.95138,\n",
       "            0.95135,     0.95132,     0.95129,     0.95127,     0.95124,     0.95121,     0.95118,     0.95116,     0.95113,      0.9511,     0.95107,     0.95105,     0.95102,     0.95099,     0.95096,     0.95094,     0.95091,     0.95088,     0.95085,     0.95083,     0.95128,     0.95186,     0.95244,\n",
       "            0.95302,      0.9536,     0.95418,     0.95476,     0.95534,     0.95592,      0.9565,     0.95708,     0.95766,     0.95824,     0.95882,      0.9594,     0.95998,     0.96056,     0.96114,     0.96172,      0.9623,     0.96288,     0.96346,     0.96404,     0.96462,      0.9652,     0.96578,\n",
       "            0.96636,     0.96662,     0.96652,     0.96643,     0.96633,     0.96623,     0.96614,     0.96609,     0.96608,     0.96606,     0.96605,     0.96603,     0.96602,       0.966,     0.96599,     0.96598,     0.96596,     0.96595,     0.96593,     0.96592,      0.9659,     0.96589,     0.96587,\n",
       "            0.96586,     0.96584,     0.96583,     0.96581,      0.9658,     0.96579,     0.96577,     0.96576,     0.96574,     0.96573,     0.96571,      0.9657,     0.96568,     0.96567,     0.96565,     0.96564,     0.96562,     0.96561,      0.9656,     0.96558,     0.96557,     0.96555,     0.96554,\n",
       "            0.96552,     0.96551,     0.96549,     0.96547,     0.96545,     0.96543,     0.96541,     0.96539,     0.96537,     0.96536,     0.96534,     0.96532,      0.9653,     0.96528,     0.96526,     0.96524,     0.96522,      0.9652,     0.96519,     0.96517,     0.96515,     0.96513,     0.96511,\n",
       "            0.96509,     0.96507,     0.96505,     0.96504,     0.96502,       0.965,     0.96498,     0.96496,     0.96494,     0.96492,      0.9649,     0.96488,     0.96486,     0.96484,     0.96482,      0.9648,     0.96477,     0.96475,     0.96473,     0.96471,     0.96469,     0.96467,     0.96465,\n",
       "            0.96462,      0.9646,     0.96458,     0.96456,     0.96454,     0.96452,      0.9645,     0.96447,     0.96445,     0.96443,     0.96441,     0.96439,     0.96437,     0.96435,     0.96433,      0.9643,     0.96428,     0.96426,     0.96423,     0.96421,     0.96418,     0.96416,     0.96414,\n",
       "            0.96411,     0.96409,     0.96406,     0.96404,     0.96402,     0.96399,     0.96397,     0.96394,     0.96392,     0.96389,     0.96387,     0.96385,     0.96382,      0.9638,     0.96377,     0.96375,     0.96373,      0.9637,     0.96368,     0.96365,     0.96363,     0.96359,     0.96356,\n",
       "            0.96352,     0.96349,     0.96346,     0.96342,     0.96339,     0.96336,     0.96332,     0.96329,     0.96325,     0.96322,     0.96319,     0.96315,     0.96312,     0.96309,     0.96305,     0.96302,     0.96299,     0.96292,      0.9628,     0.96268,     0.96256,     0.96245,     0.96233,\n",
       "            0.96393,     0.96737,     0.97082,     0.97427,     0.97772,     0.98074,     0.98048,     0.98035,     0.98028,     0.98021,     0.98015,     0.98008,     0.98001,     0.97993,     0.97985,     0.97977,     0.97968,      0.9796,     0.97957,     0.97955,     0.97952,      0.9795,     0.97948,\n",
       "            0.97945,     0.97943,     0.97941,     0.97938,     0.97936,     0.97933,     0.97931,     0.97929,     0.97926,     0.97924,     0.97922,     0.97919,     0.97917,     0.98331,     0.98806,      0.9928,     0.99755,           1,           1,           1,           1,           1,           1,\n",
       "                  1,           1,           1,           1,           1,           1,           1,           1,           1,           1,           1,           1,           1,           1,           1,           1,           1,           1,           1,           1,           1,           1,           1,\n",
       "                  1,           1,           1,           1,           1,           1,           1,           1,           1,           1,           1,           1,           1,           1,           1,           1,           1,           1,           1,           1,           1,           1,           1,\n",
       "                  1,           1,           1,           1,           1,           1,           1,           1,           1,           1,           1,           1,           1,           1,           1,           1,           1,           1,           1,           1,           1,           1,           1,\n",
       "                  1,           1,           1,           1,           1,           1,           1,           1,           1,           1,           1,           1,           1,           1,           1,           1,           1,           1,           1,           1,           1,           1,           1,\n",
       "                  1,           1,           1,           1,           1,           1,           1,           1,           1,           1,           1,           1,           1,           1,           1,           1,           1,           1,           1,           1,           1,           1,           1,\n",
       "                  1,           1,           1,           1,           1,           1,           1,           1,           1,           1,           1,           1,           1,           1,           1,           1,           1,           1,           1,           1,           1,           1,           1,\n",
       "                  1,           1,           1,           1,           1,           1,           1,           1,           1,           1,           1,           1,           1,           1,           1,           1,           1,           1,           1,           1,           1,           1,           1,\n",
       "                  1,           1,           1,           1,           1,           1,           1,           1,           1,           1,           1,           1,           1,           1,           1,           1,           1,           1,           1,           1,           1,           1,           1,\n",
       "                  1,           1,           1,           1,           1,           1,           1,           1,           1,           1,           1]]), 'Confidence', 'Precision'], [array([          0,    0.001001,    0.002002,    0.003003,    0.004004,    0.005005,    0.006006,    0.007007,    0.008008,    0.009009,     0.01001,    0.011011,    0.012012,    0.013013,    0.014014,    0.015015,    0.016016,    0.017017,    0.018018,    0.019019,     0.02002,    0.021021,    0.022022,    0.023023,\n",
       "          0.024024,    0.025025,    0.026026,    0.027027,    0.028028,    0.029029,     0.03003,    0.031031,    0.032032,    0.033033,    0.034034,    0.035035,    0.036036,    0.037037,    0.038038,    0.039039,     0.04004,    0.041041,    0.042042,    0.043043,    0.044044,    0.045045,    0.046046,    0.047047,\n",
       "          0.048048,    0.049049,     0.05005,    0.051051,    0.052052,    0.053053,    0.054054,    0.055055,    0.056056,    0.057057,    0.058058,    0.059059,     0.06006,    0.061061,    0.062062,    0.063063,    0.064064,    0.065065,    0.066066,    0.067067,    0.068068,    0.069069,     0.07007,    0.071071,\n",
       "          0.072072,    0.073073,    0.074074,    0.075075,    0.076076,    0.077077,    0.078078,    0.079079,     0.08008,    0.081081,    0.082082,    0.083083,    0.084084,    0.085085,    0.086086,    0.087087,    0.088088,    0.089089,     0.09009,    0.091091,    0.092092,    0.093093,    0.094094,    0.095095,\n",
       "          0.096096,    0.097097,    0.098098,    0.099099,      0.1001,      0.1011,      0.1021,      0.1031,      0.1041,     0.10511,     0.10611,     0.10711,     0.10811,     0.10911,     0.11011,     0.11111,     0.11211,     0.11311,     0.11411,     0.11512,     0.11612,     0.11712,     0.11812,     0.11912,\n",
       "           0.12012,     0.12112,     0.12212,     0.12312,     0.12412,     0.12513,     0.12613,     0.12713,     0.12813,     0.12913,     0.13013,     0.13113,     0.13213,     0.13313,     0.13413,     0.13514,     0.13614,     0.13714,     0.13814,     0.13914,     0.14014,     0.14114,     0.14214,     0.14314,\n",
       "           0.14414,     0.14515,     0.14615,     0.14715,     0.14815,     0.14915,     0.15015,     0.15115,     0.15215,     0.15315,     0.15415,     0.15516,     0.15616,     0.15716,     0.15816,     0.15916,     0.16016,     0.16116,     0.16216,     0.16316,     0.16416,     0.16517,     0.16617,     0.16717,\n",
       "           0.16817,     0.16917,     0.17017,     0.17117,     0.17217,     0.17317,     0.17417,     0.17518,     0.17618,     0.17718,     0.17818,     0.17918,     0.18018,     0.18118,     0.18218,     0.18318,     0.18418,     0.18519,     0.18619,     0.18719,     0.18819,     0.18919,     0.19019,     0.19119,\n",
       "           0.19219,     0.19319,     0.19419,      0.1952,      0.1962,      0.1972,      0.1982,      0.1992,      0.2002,      0.2012,      0.2022,      0.2032,      0.2042,     0.20521,     0.20621,     0.20721,     0.20821,     0.20921,     0.21021,     0.21121,     0.21221,     0.21321,     0.21421,     0.21522,\n",
       "           0.21622,     0.21722,     0.21822,     0.21922,     0.22022,     0.22122,     0.22222,     0.22322,     0.22422,     0.22523,     0.22623,     0.22723,     0.22823,     0.22923,     0.23023,     0.23123,     0.23223,     0.23323,     0.23423,     0.23524,     0.23624,     0.23724,     0.23824,     0.23924,\n",
       "           0.24024,     0.24124,     0.24224,     0.24324,     0.24424,     0.24525,     0.24625,     0.24725,     0.24825,     0.24925,     0.25025,     0.25125,     0.25225,     0.25325,     0.25425,     0.25526,     0.25626,     0.25726,     0.25826,     0.25926,     0.26026,     0.26126,     0.26226,     0.26326,\n",
       "           0.26426,     0.26527,     0.26627,     0.26727,     0.26827,     0.26927,     0.27027,     0.27127,     0.27227,     0.27327,     0.27427,     0.27528,     0.27628,     0.27728,     0.27828,     0.27928,     0.28028,     0.28128,     0.28228,     0.28328,     0.28428,     0.28529,     0.28629,     0.28729,\n",
       "           0.28829,     0.28929,     0.29029,     0.29129,     0.29229,     0.29329,     0.29429,      0.2953,      0.2963,      0.2973,      0.2983,      0.2993,      0.3003,      0.3013,      0.3023,      0.3033,      0.3043,     0.30531,     0.30631,     0.30731,     0.30831,     0.30931,     0.31031,     0.31131,\n",
       "           0.31231,     0.31331,     0.31431,     0.31532,     0.31632,     0.31732,     0.31832,     0.31932,     0.32032,     0.32132,     0.32232,     0.32332,     0.32432,     0.32533,     0.32633,     0.32733,     0.32833,     0.32933,     0.33033,     0.33133,     0.33233,     0.33333,     0.33433,     0.33534,\n",
       "           0.33634,     0.33734,     0.33834,     0.33934,     0.34034,     0.34134,     0.34234,     0.34334,     0.34434,     0.34535,     0.34635,     0.34735,     0.34835,     0.34935,     0.35035,     0.35135,     0.35235,     0.35335,     0.35435,     0.35536,     0.35636,     0.35736,     0.35836,     0.35936,\n",
       "           0.36036,     0.36136,     0.36236,     0.36336,     0.36436,     0.36537,     0.36637,     0.36737,     0.36837,     0.36937,     0.37037,     0.37137,     0.37237,     0.37337,     0.37437,     0.37538,     0.37638,     0.37738,     0.37838,     0.37938,     0.38038,     0.38138,     0.38238,     0.38338,\n",
       "           0.38438,     0.38539,     0.38639,     0.38739,     0.38839,     0.38939,     0.39039,     0.39139,     0.39239,     0.39339,     0.39439,      0.3954,      0.3964,      0.3974,      0.3984,      0.3994,      0.4004,      0.4014,      0.4024,      0.4034,      0.4044,     0.40541,     0.40641,     0.40741,\n",
       "           0.40841,     0.40941,     0.41041,     0.41141,     0.41241,     0.41341,     0.41441,     0.41542,     0.41642,     0.41742,     0.41842,     0.41942,     0.42042,     0.42142,     0.42242,     0.42342,     0.42442,     0.42543,     0.42643,     0.42743,     0.42843,     0.42943,     0.43043,     0.43143,\n",
       "           0.43243,     0.43343,     0.43443,     0.43544,     0.43644,     0.43744,     0.43844,     0.43944,     0.44044,     0.44144,     0.44244,     0.44344,     0.44444,     0.44545,     0.44645,     0.44745,     0.44845,     0.44945,     0.45045,     0.45145,     0.45245,     0.45345,     0.45445,     0.45546,\n",
       "           0.45646,     0.45746,     0.45846,     0.45946,     0.46046,     0.46146,     0.46246,     0.46346,     0.46446,     0.46547,     0.46647,     0.46747,     0.46847,     0.46947,     0.47047,     0.47147,     0.47247,     0.47347,     0.47447,     0.47548,     0.47648,     0.47748,     0.47848,     0.47948,\n",
       "           0.48048,     0.48148,     0.48248,     0.48348,     0.48448,     0.48549,     0.48649,     0.48749,     0.48849,     0.48949,     0.49049,     0.49149,     0.49249,     0.49349,     0.49449,      0.4955,      0.4965,      0.4975,      0.4985,      0.4995,      0.5005,      0.5015,      0.5025,      0.5035,\n",
       "            0.5045,     0.50551,     0.50651,     0.50751,     0.50851,     0.50951,     0.51051,     0.51151,     0.51251,     0.51351,     0.51451,     0.51552,     0.51652,     0.51752,     0.51852,     0.51952,     0.52052,     0.52152,     0.52252,     0.52352,     0.52452,     0.52553,     0.52653,     0.52753,\n",
       "           0.52853,     0.52953,     0.53053,     0.53153,     0.53253,     0.53353,     0.53453,     0.53554,     0.53654,     0.53754,     0.53854,     0.53954,     0.54054,     0.54154,     0.54254,     0.54354,     0.54454,     0.54555,     0.54655,     0.54755,     0.54855,     0.54955,     0.55055,     0.55155,\n",
       "           0.55255,     0.55355,     0.55455,     0.55556,     0.55656,     0.55756,     0.55856,     0.55956,     0.56056,     0.56156,     0.56256,     0.56356,     0.56456,     0.56557,     0.56657,     0.56757,     0.56857,     0.56957,     0.57057,     0.57157,     0.57257,     0.57357,     0.57457,     0.57558,\n",
       "           0.57658,     0.57758,     0.57858,     0.57958,     0.58058,     0.58158,     0.58258,     0.58358,     0.58458,     0.58559,     0.58659,     0.58759,     0.58859,     0.58959,     0.59059,     0.59159,     0.59259,     0.59359,     0.59459,      0.5956,      0.5966,      0.5976,      0.5986,      0.5996,\n",
       "            0.6006,      0.6016,      0.6026,      0.6036,      0.6046,     0.60561,     0.60661,     0.60761,     0.60861,     0.60961,     0.61061,     0.61161,     0.61261,     0.61361,     0.61461,     0.61562,     0.61662,     0.61762,     0.61862,     0.61962,     0.62062,     0.62162,     0.62262,     0.62362,\n",
       "           0.62462,     0.62563,     0.62663,     0.62763,     0.62863,     0.62963,     0.63063,     0.63163,     0.63263,     0.63363,     0.63463,     0.63564,     0.63664,     0.63764,     0.63864,     0.63964,     0.64064,     0.64164,     0.64264,     0.64364,     0.64464,     0.64565,     0.64665,     0.64765,\n",
       "           0.64865,     0.64965,     0.65065,     0.65165,     0.65265,     0.65365,     0.65465,     0.65566,     0.65666,     0.65766,     0.65866,     0.65966,     0.66066,     0.66166,     0.66266,     0.66366,     0.66466,     0.66567,     0.66667,     0.66767,     0.66867,     0.66967,     0.67067,     0.67167,\n",
       "           0.67267,     0.67367,     0.67467,     0.67568,     0.67668,     0.67768,     0.67868,     0.67968,     0.68068,     0.68168,     0.68268,     0.68368,     0.68468,     0.68569,     0.68669,     0.68769,     0.68869,     0.68969,     0.69069,     0.69169,     0.69269,     0.69369,     0.69469,      0.6957,\n",
       "            0.6967,      0.6977,      0.6987,      0.6997,      0.7007,      0.7017,      0.7027,      0.7037,      0.7047,     0.70571,     0.70671,     0.70771,     0.70871,     0.70971,     0.71071,     0.71171,     0.71271,     0.71371,     0.71471,     0.71572,     0.71672,     0.71772,     0.71872,     0.71972,\n",
       "           0.72072,     0.72172,     0.72272,     0.72372,     0.72472,     0.72573,     0.72673,     0.72773,     0.72873,     0.72973,     0.73073,     0.73173,     0.73273,     0.73373,     0.73473,     0.73574,     0.73674,     0.73774,     0.73874,     0.73974,     0.74074,     0.74174,     0.74274,     0.74374,\n",
       "           0.74474,     0.74575,     0.74675,     0.74775,     0.74875,     0.74975,     0.75075,     0.75175,     0.75275,     0.75375,     0.75475,     0.75576,     0.75676,     0.75776,     0.75876,     0.75976,     0.76076,     0.76176,     0.76276,     0.76376,     0.76476,     0.76577,     0.76677,     0.76777,\n",
       "           0.76877,     0.76977,     0.77077,     0.77177,     0.77277,     0.77377,     0.77477,     0.77578,     0.77678,     0.77778,     0.77878,     0.77978,     0.78078,     0.78178,     0.78278,     0.78378,     0.78478,     0.78579,     0.78679,     0.78779,     0.78879,     0.78979,     0.79079,     0.79179,\n",
       "           0.79279,     0.79379,     0.79479,      0.7958,      0.7968,      0.7978,      0.7988,      0.7998,      0.8008,      0.8018,      0.8028,      0.8038,      0.8048,     0.80581,     0.80681,     0.80781,     0.80881,     0.80981,     0.81081,     0.81181,     0.81281,     0.81381,     0.81481,     0.81582,\n",
       "           0.81682,     0.81782,     0.81882,     0.81982,     0.82082,     0.82182,     0.82282,     0.82382,     0.82482,     0.82583,     0.82683,     0.82783,     0.82883,     0.82983,     0.83083,     0.83183,     0.83283,     0.83383,     0.83483,     0.83584,     0.83684,     0.83784,     0.83884,     0.83984,\n",
       "           0.84084,     0.84184,     0.84284,     0.84384,     0.84484,     0.84585,     0.84685,     0.84785,     0.84885,     0.84985,     0.85085,     0.85185,     0.85285,     0.85385,     0.85485,     0.85586,     0.85686,     0.85786,     0.85886,     0.85986,     0.86086,     0.86186,     0.86286,     0.86386,\n",
       "           0.86486,     0.86587,     0.86687,     0.86787,     0.86887,     0.86987,     0.87087,     0.87187,     0.87287,     0.87387,     0.87487,     0.87588,     0.87688,     0.87788,     0.87888,     0.87988,     0.88088,     0.88188,     0.88288,     0.88388,     0.88488,     0.88589,     0.88689,     0.88789,\n",
       "           0.88889,     0.88989,     0.89089,     0.89189,     0.89289,     0.89389,     0.89489,      0.8959,      0.8969,      0.8979,      0.8989,      0.8999,      0.9009,      0.9019,      0.9029,      0.9039,      0.9049,     0.90591,     0.90691,     0.90791,     0.90891,     0.90991,     0.91091,     0.91191,\n",
       "           0.91291,     0.91391,     0.91491,     0.91592,     0.91692,     0.91792,     0.91892,     0.91992,     0.92092,     0.92192,     0.92292,     0.92392,     0.92492,     0.92593,     0.92693,     0.92793,     0.92893,     0.92993,     0.93093,     0.93193,     0.93293,     0.93393,     0.93493,     0.93594,\n",
       "           0.93694,     0.93794,     0.93894,     0.93994,     0.94094,     0.94194,     0.94294,     0.94394,     0.94494,     0.94595,     0.94695,     0.94795,     0.94895,     0.94995,     0.95095,     0.95195,     0.95295,     0.95395,     0.95495,     0.95596,     0.95696,     0.95796,     0.95896,     0.95996,\n",
       "           0.96096,     0.96196,     0.96296,     0.96396,     0.96496,     0.96597,     0.96697,     0.96797,     0.96897,     0.96997,     0.97097,     0.97197,     0.97297,     0.97397,     0.97497,     0.97598,     0.97698,     0.97798,     0.97898,     0.97998,     0.98098,     0.98198,     0.98298,     0.98398,\n",
       "           0.98498,     0.98599,     0.98699,     0.98799,     0.98899,     0.98999,     0.99099,     0.99199,     0.99299,     0.99399,     0.99499,       0.996,       0.997,       0.998,       0.999,           1]), array([[    0.87838,     0.87838,     0.87838,     0.87838,     0.87838,     0.87838,     0.87838,     0.87838,     0.87838,     0.86486,     0.86486,     0.86486,     0.86486,     0.86486,     0.86486,     0.86486,     0.86486,     0.86486,     0.86486,     0.86486,     0.86486,     0.86486,     0.86486,\n",
       "            0.86486,     0.86486,     0.86486,     0.86486,     0.86486,     0.86486,     0.86486,     0.86486,     0.86486,     0.86486,     0.86486,     0.86486,     0.86486,     0.86486,     0.86486,     0.86486,     0.86486,     0.86486,     0.86486,     0.86486,     0.86486,     0.86486,     0.86486,\n",
       "            0.86486,     0.86486,     0.86486,     0.86486,     0.86486,     0.86486,     0.86486,     0.86486,     0.86486,     0.86486,     0.86486,     0.86486,     0.86486,     0.86486,     0.86486,     0.86486,     0.86486,     0.86486,     0.86486,     0.86486,     0.86486,     0.86486,     0.86486,\n",
       "            0.86486,     0.86486,     0.86486,     0.86486,     0.86486,     0.86486,     0.86486,     0.86486,     0.86486,     0.86486,     0.86486,     0.86486,     0.86486,     0.86486,     0.86486,     0.86486,     0.86486,     0.86486,     0.86486,     0.86486,     0.86486,     0.86486,     0.86486,\n",
       "            0.86486,     0.86486,     0.86486,     0.86486,     0.86486,     0.86486,     0.86486,     0.86486,     0.86486,     0.86486,     0.86486,     0.86486,     0.86486,     0.86486,     0.86486,     0.86486,     0.86486,     0.86486,     0.86486,     0.86486,     0.86486,     0.86486,     0.86486,\n",
       "            0.86486,     0.86486,     0.86486,     0.86486,     0.86486,     0.86486,     0.86486,     0.86486,     0.86486,     0.86486,     0.86486,     0.86486,     0.86486,     0.86486,     0.86486,     0.86486,     0.86486,     0.86486,     0.86486,     0.86486,     0.86486,     0.86486,     0.86486,\n",
       "            0.86486,     0.86486,     0.86486,     0.86486,     0.86486,     0.86486,     0.86486,     0.86486,     0.86486,     0.86486,     0.86486,     0.86486,     0.86486,     0.86486,     0.86486,     0.86486,     0.86486,     0.86486,     0.86486,     0.86486,     0.86486,     0.86486,     0.86486,\n",
       "            0.86486,     0.86486,     0.86486,     0.86486,     0.86486,     0.86486,     0.86486,     0.86486,     0.86486,     0.86486,     0.86486,     0.86486,     0.86486,     0.86486,     0.86486,     0.86486,     0.86486,     0.86486,     0.86486,     0.86486,     0.86486,     0.86486,     0.86486,\n",
       "            0.86486,     0.86486,     0.86486,     0.86486,     0.86486,     0.86486,     0.86486,     0.86483,     0.86463,     0.86443,     0.86423,     0.86403,     0.86383,     0.86363,     0.86343,     0.86323,     0.86302,     0.86282,     0.86262,     0.86242,     0.86222,     0.86202,     0.86182,\n",
       "            0.86162,     0.86142,     0.86121,     0.86101,     0.86081,     0.86061,     0.86041,     0.86021,     0.86001,     0.85981,     0.85961,      0.8594,      0.8592,       0.859,      0.8588,      0.8586,      0.8584,      0.8582,       0.858,      0.8578,     0.85759,     0.85739,     0.85719,\n",
       "            0.85699,     0.85679,     0.85659,     0.85639,     0.85619,     0.85599,     0.85578,     0.85558,     0.85538,     0.85518,     0.85498,     0.85478,     0.85458,     0.85438,     0.85418,     0.85397,     0.85377,     0.85357,     0.85337,     0.85317,     0.85297,     0.85277,     0.85257,\n",
       "            0.85237,     0.85216,     0.85196,     0.85176,     0.85156,     0.85136,     0.85135,     0.85135,     0.85135,     0.85135,     0.85135,     0.85135,     0.85135,     0.85135,     0.85135,     0.85135,     0.85135,     0.85135,     0.85135,     0.85135,     0.85135,     0.85135,     0.85135,\n",
       "            0.85135,     0.85135,     0.85135,     0.85135,     0.85135,     0.85135,     0.85135,     0.85135,     0.85135,     0.85135,     0.85135,     0.85135,     0.85135,     0.85135,     0.85135,     0.85135,     0.85093,     0.85015,     0.84937,     0.84859,     0.84781,     0.84703,     0.84624,\n",
       "            0.84546,     0.84468,      0.8439,     0.84312,     0.84234,     0.84156,     0.84078,        0.84,     0.83922,     0.83844,     0.83784,     0.83784,     0.83784,     0.83784,     0.83784,     0.83784,     0.83784,     0.83784,     0.83784,     0.83784,     0.83784,     0.83784,     0.83784,\n",
       "            0.83784,     0.83784,     0.83784,     0.83784,     0.83784,     0.83784,     0.83784,     0.83784,     0.83784,     0.83784,     0.83784,     0.83784,     0.83784,     0.83784,     0.83784,     0.83784,     0.83784,     0.83784,     0.83784,     0.83784,     0.83784,     0.83784,     0.83784,\n",
       "            0.83784,     0.83784,     0.83784,     0.83784,     0.83784,     0.83784,     0.83784,     0.83784,     0.83784,     0.83784,     0.83749,     0.83485,     0.83222,     0.82958,     0.82694,     0.82432,      0.8242,     0.82408,     0.82396,     0.82384,     0.82372,      0.8236,     0.82348,\n",
       "            0.82336,     0.82324,     0.82312,       0.823,     0.82288,     0.82276,     0.82264,     0.82252,      0.8224,     0.82228,     0.82216,     0.82203,     0.82191,     0.82179,     0.82167,     0.82155,     0.82143,     0.82131,     0.82119,     0.82107,     0.82095,     0.82083,     0.82071,\n",
       "            0.82059,     0.82047,     0.82035,     0.82023,     0.82011,     0.81999,     0.81987,     0.81975,     0.81963,     0.81951,     0.81938,     0.81926,     0.81914,     0.81902,      0.8189,     0.81878,     0.81866,     0.81854,     0.81842,      0.8183,     0.81818,     0.81806,     0.81794,\n",
       "            0.81782,      0.8177,     0.81758,     0.81746,     0.81734,     0.81722,      0.8171,     0.81698,     0.81686,     0.81673,     0.81661,     0.81649,     0.81637,     0.81625,     0.81613,     0.81601,     0.81589,     0.81577,     0.81565,     0.81553,     0.81541,     0.81529,     0.81517,\n",
       "            0.81505,     0.81493,     0.81481,     0.81469,     0.81457,     0.81445,     0.81433,     0.81421,     0.81409,     0.81396,     0.81384,     0.81372,      0.8136,     0.81348,     0.81336,     0.81324,     0.81312,       0.813,     0.81288,     0.81276,     0.81264,     0.81252,      0.8124,\n",
       "            0.81228,     0.81216,     0.81204,     0.81192,      0.8118,     0.81168,     0.81156,     0.81144,     0.81131,     0.81119,     0.81107,     0.81095,     0.81083,     0.81065,     0.81046,     0.81027,     0.81008,     0.80988,     0.80969,      0.8095,     0.80931,     0.80911,     0.80892,\n",
       "            0.80873,     0.80854,     0.80835,     0.80815,     0.80796,     0.80777,     0.80758,     0.80738,     0.80719,       0.807,     0.80681,     0.80661,     0.80642,     0.80623,     0.80604,     0.80584,     0.80565,     0.80546,     0.80527,     0.80507,     0.80488,     0.80469,      0.8045,\n",
       "            0.80431,     0.80411,     0.80392,     0.80373,     0.80354,     0.80334,     0.80315,     0.80296,     0.80277,     0.80257,     0.80238,     0.80219,       0.802,      0.8018,     0.80161,     0.80142,     0.80123,     0.80103,     0.80084,     0.80065,     0.80046,     0.80026,     0.80007,\n",
       "            0.79988,     0.79969,      0.7995,      0.7993,     0.79911,     0.79892,     0.79873,     0.79853,     0.79834,     0.79815,     0.79796,     0.79776,     0.79757,     0.79738,     0.79703,     0.79656,     0.79609,     0.79562,     0.79515,     0.79468,     0.79421,     0.79374,     0.79327,\n",
       "             0.7928,     0.79233,     0.79186,     0.79139,     0.79092,     0.79045,     0.78998,     0.78951,     0.78905,     0.78858,     0.78811,     0.78764,     0.78717,      0.7867,     0.78623,     0.78576,     0.78529,     0.78482,     0.78435,     0.78388,     0.78378,     0.78378,     0.78378,\n",
       "            0.78378,     0.78378,     0.78378,     0.78378,     0.78378,     0.78378,     0.78378,     0.78378,     0.78378,     0.78378,     0.78378,     0.78378,     0.78378,     0.78378,     0.78378,     0.78378,     0.78378,     0.78378,     0.78378,     0.78378,     0.78378,     0.78378,     0.78378,\n",
       "            0.78378,     0.78268,     0.78037,     0.77806,     0.77575,     0.77345,     0.77114,     0.77006,     0.76972,     0.76938,     0.76905,     0.76871,     0.76837,     0.76803,     0.76769,     0.76736,     0.76702,     0.76668,     0.76634,     0.76601,     0.76567,     0.76533,     0.76499,\n",
       "            0.76465,     0.76432,     0.76398,     0.76364,      0.7633,     0.76296,     0.76263,     0.76229,     0.76195,     0.76161,     0.76128,     0.76094,      0.7606,     0.76026,     0.75992,     0.75959,     0.75925,     0.75891,     0.75857,     0.75823,      0.7579,     0.75756,     0.75722,\n",
       "            0.75688,     0.75649,     0.75607,     0.75565,     0.75523,     0.75482,      0.7544,     0.75398,     0.75356,     0.75314,     0.75272,      0.7523,     0.75188,     0.75146,     0.75104,     0.75062,      0.7502,     0.74978,     0.74936,     0.74894,     0.74852,      0.7481,     0.74768,\n",
       "            0.74726,     0.74684,     0.74642,       0.746,     0.74558,     0.74516,     0.74474,     0.74432,      0.7439,     0.74348,     0.74304,     0.74258,     0.74212,     0.74166,      0.7412,     0.74074,     0.74027,     0.73981,     0.73935,     0.73889,     0.73843,     0.73797,      0.7375,\n",
       "            0.73704,     0.73658,     0.73612,     0.73566,     0.73519,     0.73473,     0.73427,     0.73381,     0.73335,     0.73289,     0.73242,     0.73196,      0.7315,     0.73104,     0.73058,     0.73012,     0.72965,     0.72914,     0.72864,     0.72814,     0.72763,     0.72713,     0.72663,\n",
       "            0.72612,     0.72562,     0.72511,     0.72461,     0.72411,      0.7236,      0.7231,      0.7226,     0.72209,     0.72159,     0.72108,     0.72058,     0.72008,     0.71957,     0.71907,     0.71857,     0.71806,     0.71756,     0.71705,     0.71655,     0.71599,     0.71531,     0.71464,\n",
       "            0.71396,     0.71329,     0.71261,     0.71194,     0.71126,     0.71058,     0.70991,     0.70923,     0.70856,     0.70788,     0.70721,     0.70653,     0.70585,     0.70518,      0.7045,     0.70383,     0.70315,     0.70193,     0.69962,     0.69731,       0.695,     0.69269,     0.69039,\n",
       "            0.68919,     0.68919,     0.68919,     0.68919,     0.68919,     0.68812,     0.67888,     0.67417,     0.67186,     0.66955,     0.66724,     0.66493,     0.66263,     0.65995,     0.65718,     0.65441,     0.65164,     0.64887,     0.64796,     0.64721,     0.64646,     0.64571,     0.64496,\n",
       "            0.64422,     0.64347,     0.64272,     0.64197,     0.64122,     0.64047,     0.63972,     0.63897,     0.63823,     0.63748,     0.63673,     0.63598,     0.63523,     0.63514,     0.63514,     0.63514,     0.63514,     0.63246,     0.62692,     0.62132,     0.61439,     0.60554,     0.59331,\n",
       "            0.59117,     0.58904,     0.58691,     0.58478,     0.58265,     0.58047,     0.57816,     0.57586,     0.57355,     0.57124,     0.56893,     0.56737,     0.56688,      0.5664,     0.56591,     0.56542,     0.56494,     0.56445,     0.56397,     0.56348,     0.56299,     0.56251,     0.56202,\n",
       "            0.56154,     0.56105,     0.56056,     0.56008,     0.55959,     0.55911,     0.55862,     0.55813,     0.55765,     0.55716,     0.55668,     0.55619,      0.5557,     0.55522,     0.55473,     0.55425,     0.55238,     0.54961,     0.54683,     0.54406,     0.54129,     0.53996,     0.53917,\n",
       "            0.53838,     0.53759,      0.5368,     0.53601,     0.53522,     0.53442,     0.53363,     0.53284,     0.53205,     0.53126,     0.53047,     0.52967,     0.52888,     0.52809,      0.5273,     0.52649,     0.52568,     0.52486,     0.52405,     0.52323,     0.52242,      0.5216,     0.52079,\n",
       "            0.51997,     0.51916,     0.51835,     0.51753,     0.51672,      0.5159,     0.51509,     0.51427,     0.51157,     0.49597,     0.48904,     0.48474,     0.48197,      0.4792,     0.47643,     0.47366,     0.45756,     0.45504,     0.45253,     0.45001,     0.44749,     0.44326,     0.43633,\n",
       "            0.42639,     0.41794,     0.41581,     0.41367,     0.41154,     0.40941,     0.40728,     0.40375,     0.39109,     0.38555,     0.38001,     0.37187,     0.36391,     0.35995,     0.35599,     0.35204,     0.34906,     0.34629,     0.34352,     0.34075,     0.33798,     0.32219,     0.31758,\n",
       "            0.31296,     0.30785,     0.30231,     0.28246,     0.26861,     0.25275,     0.22505,     0.20678,     0.17417,     0.16724,     0.15478,     0.14325,     0.13633,     0.13131,      0.1267,     0.12208,     0.10525,    0.098321,    0.090329,    0.081095,     0.06755,    0.066802,    0.066053,\n",
       "           0.065304,    0.064555,    0.063807,    0.063058,    0.062309,     0.06156,    0.060812,    0.060063,    0.059314,    0.058566,    0.057817,    0.057068,    0.056319,    0.055571,    0.054822,    0.054073,    0.040554,    0.037465,    0.034387,    0.031309,    0.028231,     0.02281,    0.015884,\n",
       "                  0,           0,           0,           0,           0,           0,           0,           0,           0,           0,           0,           0,           0,           0,           0,           0,           0,           0,           0,           0,           0,           0,           0,\n",
       "                  0,           0,           0,           0,           0,           0,           0,           0,           0,           0,           0]]), 'Confidence', 'Recall']]\n",
       "fitness: 1.3925442521985092\n",
       "keys: ['metrics/precision(B)', 'metrics/recall(B)', 'metrics/mAP50(B)', 'metrics/mAP50-95(B)', 'metrics/precision(M)', 'metrics/recall(M)', 'metrics/mAP50(M)', 'metrics/mAP50-95(M)']\n",
       "maps: array([     1.3528])\n",
       "names: {0: 'FAMACHA'}\n",
       "plot: True\n",
       "results_dict: {'metrics/precision(B)': 0.9819088757494554, 'metrics/recall(B)': 0.8378378378378378, 'metrics/mAP50(B)': 0.8812967762487127, 'metrics/mAP50-95(B)': 0.7288013895187019, 'metrics/precision(M)': 0.9529657763353415, 'metrics/recall(M)': 0.8214324783067439, 'metrics/mAP50(M)': 0.8685109425172267, 'metrics/mAP50-95(M)': 0.624046921950093, 'fitness': 1.3925442521985092}\n",
       "save_dir: WindowsPath('c:/Users/PC/Documents/YOLO/runs/segment/train11')\n",
       "seg: ultralytics.utils.metrics.Metric object\n",
       "speed: {'preprocess': 0.2468938696874331, 'inference': 17.9726097681751, 'loss': 0.0, 'postprocess': 1.3972177897414118}\n",
       "task: 'segment'"
      ]
     },
     "execution_count": 4,
     "metadata": {},
     "output_type": "execute_result"
    }
   ],
   "source": [
    "model.train(data=join('dataset-YOLO', 'data.yaml'), epochs=100, imgsz=640, device=0)"
   ]
  }
 ],
 "metadata": {
  "kernelspec": {
   "display_name": ".venv",
   "language": "python",
   "name": "python3"
  },
  "language_info": {
   "codemirror_mode": {
    "name": "ipython",
    "version": 3
   },
   "file_extension": ".py",
   "mimetype": "text/x-python",
   "name": "python",
   "nbconvert_exporter": "python",
   "pygments_lexer": "ipython3",
   "version": "3.9.13"
  }
 },
 "nbformat": 4,
 "nbformat_minor": 2
}
